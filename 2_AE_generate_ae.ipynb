{
 "cells": [
  {
   "cell_type": "code",
   "execution_count": 1,
   "metadata": {},
   "outputs": [
    {
     "name": "stderr",
     "output_type": "stream",
     "text": [
      "c:\\Users\\n10599070\\Miniconda3\\envs\\xai\\lib\\site-packages\\tqdm\\auto.py:22: TqdmWarning: IProgress not found. Please update jupyter and ipywidgets. See https://ipywidgets.readthedocs.io/en/stable/user_install.html\n",
      "  from .autonotebook import tqdm as notebook_tqdm\n"
     ]
    }
   ],
   "source": [
    "import tensorflow as tf\n",
    "import pandas as pd\n",
    "import numpy as np\n",
    "\n",
    "from utils.df_loader import (\n",
    "    load_adult_df,\n",
    "    load_compas_df,\n",
    "    load_german_df,\n",
    "    load_diabetes_df,\n",
    "    load_breast_cancer_df,\n",
    ")\n",
    "from sklearn.model_selection import train_test_split\n",
    "from utils.preprocessing import preprocess_df\n",
    "from utils.models import load_models\n",
    "from utils.print import print_block\n",
    "\n",
    "import utils.deepfool as util_deepfool\n",
    "import utils.carlini as util_carlini\n",
    "import utils.lowprofool as util_lowprofool\n",
    "import utils.boundary as util_boundary\n",
    "import utils.hopskipjump as util_hopskipjump\n",
    "\n",
    "\n",
    "from utils.save import save_result_as_csv, save_datapoints_as_npy, process_result, process_datapoints\n",
    "\n",
    "seed = 42\n",
    "# tf.random.set_seed(seed)\n",
    "# np.random.seed(seed)"
   ]
  },
  {
   "cell_type": "code",
   "execution_count": 2,
   "metadata": {},
   "outputs": [
    {
     "name": "stdout",
     "output_type": "stream",
     "text": [
      "TF version:  2.10.0\n",
      "Eager execution enabled:  False\n"
     ]
    }
   ],
   "source": [
    "import warnings\n",
    "\n",
    "pd.options.mode.chained_assignment = None # suppress \"SettingWithCopyWarning\" warning\n",
    "\n",
    "tf.compat.v1.disable_eager_execution()\n",
    "\n",
    "print(\"TF version: \", tf.__version__)\n",
    "print(\"Eager execution enabled: \", tf.executing_eagerly())  # False    "
   ]
  },
  {
   "cell_type": "code",
   "execution_count": 3,
   "metadata": {},
   "outputs": [],
   "source": [
    "num_instances = 'all' # (1) 64 - 1 batch & (2) \"all\"\n",
    "\n",
    "RUN_DEEPFOOL = False\n",
    "RUN_CARLINI = True\n",
    "RUN_LOWPROFOOL = False\n",
    "RUN_BOUNDARY = False\n",
    "RUN_HOPSKIPJUMP = False"
   ]
  },
  {
   "cell_type": "code",
   "execution_count": 4,
   "metadata": {},
   "outputs": [],
   "source": [
    "def run_experiment(data_type_mixed: bool, running_times: int):\n",
    "    \"\"\"\n",
    "    data_type_mix: True - mixed, False - Numerical only\n",
    "    \"\"\"\n",
    "    if data_type_mixed:\n",
    "        dataset = [\n",
    "        \"adult\",\n",
    "        \"german\",\n",
    "        \"compas\",\n",
    "        ]\n",
    "    else:\n",
    "        dataset = [\n",
    "        \"diabetes\",\n",
    "        \"breast_cancer\",\n",
    "        ]\n",
    "\n",
    "    #### Select dataset ####\n",
    "    for dataset_name in dataset: \n",
    "        print(f\"Dataset Name: [{dataset_name}]\")\n",
    "        if dataset_name == \"adult\":\n",
    "            dataset_loading_fn = load_adult_df\n",
    "        elif dataset_name == \"german\":\n",
    "            dataset_loading_fn = load_german_df\n",
    "        elif dataset_name == \"compas\":\n",
    "            dataset_loading_fn = load_compas_df\n",
    "        elif dataset_name == \"diabetes\":\n",
    "            dataset_loading_fn = load_diabetes_df\n",
    "        elif dataset_name == \"breast_cancer\":\n",
    "            dataset_loading_fn = load_breast_cancer_df\n",
    "        else:\n",
    "            raise Exception(\"Unsupported dataset\")\n",
    "\n",
    "        df_info = preprocess_df(dataset_loading_fn)\n",
    "\n",
    "        train_df, test_df = train_test_split(\n",
    "            df_info.dummy_df, train_size=0.8, random_state=seed, shuffle=True\n",
    "        )\n",
    "        X_train = np.array(train_df[df_info.ohe_feature_names])\n",
    "        y_train = np.array(train_df[df_info.target_name])\n",
    "        X_test = np.array(test_df[df_info.ohe_feature_names])\n",
    "        y_test = np.array(test_df[df_info.target_name])\n",
    "\n",
    "        ### Load models\n",
    "        models = load_models(X_train.shape[-1], dataset_name)\n",
    "\n",
    "        # DeepFool attack\n",
    "        if RUN_DEEPFOOL:\n",
    "            deepfool_results = util_deepfool.generate_deepfool_result(\n",
    "                    df_info,\n",
    "                    models,\n",
    "                    num_instances,\n",
    "                    X_test,\n",
    "                    y_test,\n",
    "                    models_to_run=[\"lr\",\"svc\",\"nn_2\"],\n",
    "                )\n",
    "            deepfool_datapoints = process_datapoints(deepfool_results)\n",
    "            save_datapoints_as_npy(\"deepfool\", dataset_name, deepfool_datapoints, running_times)\n",
    "            deepfool_result_dfs = process_result(deepfool_results, df_info)\n",
    "            save_result_as_csv(\"deepfool\", dataset_name, deepfool_result_dfs, running_times)\n",
    "\n",
    "        if RUN_CARLINI:\n",
    "\n",
    "            carlini_l_2_results = util_carlini.generate_carlini_result(\n",
    "                    df_info,\n",
    "                    models,\n",
    "                    num_instances,\n",
    "                    X_test,\n",
    "                    y_test,\n",
    "                    norm=\"l_2\", #[\"l_2\", \"l_inf\"]\n",
    "                    models_to_run=[\"lr\",\"svc\",\"nn_2\"],\n",
    "                )\n",
    "            carlini_l_2_datapoints = process_datapoints(carlini_l_2_results)\n",
    "            save_datapoints_as_npy(\"carlini_l_2\", dataset_name, carlini_l_2_datapoints, running_times)\n",
    "            carlini_l_2_result_dfs = process_result(carlini_l_2_results, df_info)\n",
    "            save_result_as_csv(\"carlini_l_2\", dataset_name, carlini_l_2_result_dfs, running_times)\n",
    "\n",
    "            carlini_l_inf_results = util_carlini.generate_carlini_result(\n",
    "                    df_info,\n",
    "                    models,\n",
    "                    num_instances,\n",
    "                    X_test,\n",
    "                    y_test,\n",
    "                    norm=\"l_inf\", #[\"l_2\", \"l_inf\"]\n",
    "                    models_to_run=[\"lr\",\"svc\",\"nn_2\"],\n",
    "                )\n",
    "            carlini_l_inf_datapoints = process_datapoints(carlini_l_inf_results)\n",
    "            save_datapoints_as_npy(\"carlini_l_inf\", dataset_name, carlini_l_inf_datapoints, running_times)\n",
    "            carlini_l_inf_result_dfs = process_result(carlini_l_inf_results, df_info)\n",
    "            save_result_as_csv(\"carlini_l_inf\", dataset_name, carlini_l_inf_result_dfs, running_times)\n",
    "\n",
    "        if not data_type_mixed and RUN_LOWPROFOOL:\n",
    "\n",
    "            lowprofool_l_2_results = util_lowprofool.generate_lowprofool_result(\n",
    "                    df_info,\n",
    "                    models,\n",
    "                    num_instances,\n",
    "                    X_train,\n",
    "                    y_train,\n",
    "                    X_test,\n",
    "                    y_test,\n",
    "                    norm=2, #[int, float, 'inf']\n",
    "                    models_to_run=[\"lr\",\"svc\",\"nn_2\"],\n",
    "                )\n",
    "            lowprofool_l_2_datapoints = process_datapoints(lowprofool_l_2_results)\n",
    "            save_datapoints_as_npy(\"lowprofool_l_2\", dataset_name, lowprofool_l_2_datapoints, running_times)\n",
    "            lowprofool_l_2_result_dfs = process_result(lowprofool_l_2_results, df_info)\n",
    "            save_result_as_csv(\"lowprofool_l_2\", dataset_name, lowprofool_l_2_result_dfs, running_times)\n",
    "\n",
    "            lowprofool_l_inf_results = util_lowprofool.generate_lowprofool_result(\n",
    "                    df_info,\n",
    "                    models,\n",
    "                    num_instances,\n",
    "                    X_train,\n",
    "                    y_train,\n",
    "                    X_test,\n",
    "                    y_test,\n",
    "                    norm='inf', #[int, float, 'inf']\n",
    "                    models_to_run=[\"lr\",\"svc\",\"nn_2\"],\n",
    "                )\n",
    "            lowprofool_l_inf_datapoints = process_datapoints(lowprofool_l_inf_results)\n",
    "            save_datapoints_as_npy(\"lowprofool_l_inf\", dataset_name, lowprofool_l_inf_datapoints, running_times)\n",
    "            lowprofool_l_inf_result_dfs = process_result(lowprofool_l_inf_results, df_info)\n",
    "            save_result_as_csv(\"lowprofool_l_inf\", dataset_name, lowprofool_l_inf_result_dfs, running_times)\n",
    "        \n",
    "        if RUN_BOUNDARY:\n",
    "            boundary_results = util_boundary.generate_boundary_result(\n",
    "                    df_info,\n",
    "                    models,\n",
    "                    num_instances,\n",
    "                    X_test,\n",
    "                    y_test,\n",
    "                    models_to_run=[\"dt\",\"gbc\",\"lr\",\"svc\",\"nn_2\"], # \n",
    "                )\n",
    "            boundary_datapoints = process_datapoints(boundary_results)\n",
    "            save_datapoints_as_npy(\"boundary\", dataset_name, boundary_datapoints, running_times)\n",
    "            boundary_result_dfs = process_result(boundary_results, df_info)\n",
    "            save_result_as_csv(\"boundary\", dataset_name, boundary_result_dfs, running_times)\n",
    "        \n",
    "        if RUN_HOPSKIPJUMP:\n",
    "\n",
    "            hopskipjump_l_2_results = util_hopskipjump.generate_hopskipjump_result(\n",
    "                    df_info,\n",
    "                    models,\n",
    "                    num_instances,\n",
    "                    X_test,\n",
    "                    y_test,\n",
    "                    norm=2,\n",
    "                    models_to_run=[\"dt\",\"lr\",\"svc\",\"gbc\",\"nn_2\"], # \"dt\",\"rfc\",\"lr\",\"svc\",\"gbc\",\"nn_2\"\n",
    "            )\n",
    "            hopskipjump_l_2_datapoints = process_datapoints(hopskipjump_l_2_results)\n",
    "            save_datapoints_as_npy(\"hopskipjump_l_2\", dataset_name, hopskipjump_l_2_datapoints, running_times)\n",
    "            hopskipjump_l_2_result_dfs = process_result(hopskipjump_l_2_results, df_info)\n",
    "            save_result_as_csv(\"hopskipjump_l_2\", dataset_name, hopskipjump_l_2_result_dfs, running_times)\n",
    "\n",
    "\n",
    "            hopskipjump_l_inf_results = util_hopskipjump.generate_hopskipjump_result(\n",
    "                    df_info,\n",
    "                    models,\n",
    "                    num_instances,\n",
    "                    X_test,\n",
    "                    y_test,\n",
    "                    norm=\"inf\",\n",
    "                    models_to_run=[\"dt\",\"lr\",\"svc\",\"gbc\",\"nn_2\"], # \"dt\",\"rfc\",\"lr\",\"svc\",\"gbc\",\"nn_2\"\n",
    "            )\n",
    "            hopskipjump_l_inf_datapoints = process_datapoints(hopskipjump_l_inf_results)\n",
    "            save_datapoints_as_npy(\"hopskipjump_l_inf\", dataset_name, hopskipjump_l_inf_datapoints, running_times)\n",
    "            hopskipjump_l_inf_result_dfs = process_result(hopskipjump_l_inf_results, df_info)\n",
    "            save_result_as_csv(\"hopskipjump_l_inf\", dataset_name, hopskipjump_l_inf_result_dfs, running_times)"
   ]
  },
  {
   "attachments": {},
   "cell_type": "markdown",
   "metadata": {},
   "source": [
    "- [x] DeepFool: > 120 min\n",
    "- [ ] Carlini $\\ell_0$\n",
    "- [x] Carlini $\\ell_2$ > 800 min\n",
    "- [x] Carlini $\\ell_\\infty$\n",
    "- [ ] LowProFool $\\ell_1$\n",
    "- [ ] LowProFool $\\ell_2$\n",
    "- [ ] Boundary\n",
    "- [ ] HopSkipJump $\\ell_2$\n",
    "- [ ] HopSkipJump $\\ell_\\infty$\n"
   ]
  },
  {
   "cell_type": "code",
   "execution_count": 5,
   "metadata": {},
   "outputs": [
    {
     "name": "stdout",
     "output_type": "stream",
     "text": [
      "\n",
      "========================================\n",
      "| Experiment 9 \n",
      "========================================\n",
      "Dataset Name: [adult]\n"
     ]
    },
    {
     "name": "stderr",
     "output_type": "stream",
     "text": [
      "c:\\Users\\n10599070\\Miniconda3\\envs\\xai\\lib\\site-packages\\keras\\engine\\training_v1.py:2356: UserWarning: `Model.state_updates` will be removed in a future version. This property should not be used in TensorFlow 2.0, as `updates` are applied automatically.\n",
      "  updates=self.state_updates,\n"
     ]
    },
    {
     "name": "stdout",
     "output_type": "stream",
     "text": [
      "Feature range:\n",
      "(0, 1)\n",
      "Finding adversarial examples for lr\n"
     ]
    },
    {
     "name": "stderr",
     "output_type": "stream",
     "text": [
      "C&W L_2: 100%|██████████| 101/101 [00:31<00:00,  3.24it/s]\n"
     ]
    },
    {
     "name": "stdout",
     "output_type": "stream",
     "text": [
      "Finding adversarial examples for svc\n"
     ]
    },
    {
     "name": "stderr",
     "output_type": "stream",
     "text": [
      "C&W L_2: 100%|██████████| 101/101 [00:15<00:00,  6.60it/s]\n"
     ]
    },
    {
     "name": "stdout",
     "output_type": "stream",
     "text": [
      "Finding adversarial examples for nn_2\n"
     ]
    },
    {
     "name": "stderr",
     "output_type": "stream",
     "text": [
      "C&W L_2: 100%|██████████| 101/101 [01:38<00:00,  1.03it/s]\n"
     ]
    },
    {
     "name": "stdout",
     "output_type": "stream",
     "text": [
      "Original data points and adversarial examples have been saved to ./datapoints/carlini_l_2_adult\n",
      "Result has been saved to ./results/carlini_l_2_adult\n",
      "Feature range:\n",
      "(0, 1)\n",
      "Finding adversarial examples for lr\n"
     ]
    },
    {
     "name": "stderr",
     "output_type": "stream",
     "text": [
      "C&W L_inf: 100%|██████████| 6464/6464 [06:22<00:00, 16.92it/s]\n"
     ]
    },
    {
     "name": "stdout",
     "output_type": "stream",
     "text": [
      "Finding adversarial examples for svc\n"
     ]
    },
    {
     "name": "stderr",
     "output_type": "stream",
     "text": [
      "C&W L_inf: 100%|██████████| 6464/6464 [04:09<00:00, 25.88it/s]\n"
     ]
    },
    {
     "name": "stdout",
     "output_type": "stream",
     "text": [
      "Finding adversarial examples for nn_2\n"
     ]
    },
    {
     "name": "stderr",
     "output_type": "stream",
     "text": [
      "C&W L_inf: 100%|██████████| 6464/6464 [32:51<00:00,  3.28it/s]\n"
     ]
    },
    {
     "name": "stdout",
     "output_type": "stream",
     "text": [
      "Original data points and adversarial examples have been saved to ./datapoints/carlini_l_inf_adult\n",
      "Result has been saved to ./results/carlini_l_inf_adult\n",
      "Dataset Name: [german]\n"
     ]
    },
    {
     "name": "stderr",
     "output_type": "stream",
     "text": [
      "c:\\Users\\n10599070\\Miniconda3\\envs\\xai\\lib\\site-packages\\keras\\engine\\training_v1.py:2356: UserWarning: `Model.state_updates` will be removed in a future version. This property should not be used in TensorFlow 2.0, as `updates` are applied automatically.\n",
      "  updates=self.state_updates,\n"
     ]
    },
    {
     "name": "stdout",
     "output_type": "stream",
     "text": [
      "Feature range:\n",
      "(0, 1)\n",
      "Finding adversarial examples for lr\n"
     ]
    },
    {
     "name": "stderr",
     "output_type": "stream",
     "text": [
      "C&W L_2: 100%|██████████| 3/3 [00:00<00:00,  3.12it/s]\n"
     ]
    },
    {
     "name": "stdout",
     "output_type": "stream",
     "text": [
      "Finding adversarial examples for svc\n"
     ]
    },
    {
     "name": "stderr",
     "output_type": "stream",
     "text": [
      "C&W L_2: 100%|██████████| 3/3 [00:00<00:00,  6.38it/s]\n"
     ]
    },
    {
     "name": "stdout",
     "output_type": "stream",
     "text": [
      "Finding adversarial examples for nn_2\n"
     ]
    },
    {
     "name": "stderr",
     "output_type": "stream",
     "text": [
      "C&W L_2: 100%|██████████| 3/3 [00:03<00:00,  1.10s/it]\n"
     ]
    },
    {
     "name": "stdout",
     "output_type": "stream",
     "text": [
      "Original data points and adversarial examples have been saved to ./datapoints/carlini_l_2_german\n",
      "Result has been saved to ./results/carlini_l_2_german\n",
      "Feature range:\n",
      "(0, 1)\n",
      "Finding adversarial examples for lr\n"
     ]
    },
    {
     "name": "stderr",
     "output_type": "stream",
     "text": [
      "C&W L_inf: 100%|██████████| 192/192 [00:11<00:00, 16.39it/s]\n"
     ]
    },
    {
     "name": "stdout",
     "output_type": "stream",
     "text": [
      "Finding adversarial examples for svc\n"
     ]
    },
    {
     "name": "stderr",
     "output_type": "stream",
     "text": [
      "C&W L_inf: 100%|██████████| 192/192 [00:07<00:00, 24.44it/s]\n"
     ]
    },
    {
     "name": "stdout",
     "output_type": "stream",
     "text": [
      "Finding adversarial examples for nn_2\n"
     ]
    },
    {
     "name": "stderr",
     "output_type": "stream",
     "text": [
      "C&W L_inf: 100%|██████████| 192/192 [01:00<00:00,  3.17it/s]\n"
     ]
    },
    {
     "name": "stdout",
     "output_type": "stream",
     "text": [
      "Original data points and adversarial examples have been saved to ./datapoints/carlini_l_inf_german\n",
      "Result has been saved to ./results/carlini_l_inf_german\n",
      "Dataset Name: [compas]\n"
     ]
    },
    {
     "name": "stderr",
     "output_type": "stream",
     "text": [
      "c:\\Users\\n10599070\\Miniconda3\\envs\\xai\\lib\\site-packages\\keras\\engine\\training_v1.py:2356: UserWarning: `Model.state_updates` will be removed in a future version. This property should not be used in TensorFlow 2.0, as `updates` are applied automatically.\n",
      "  updates=self.state_updates,\n"
     ]
    },
    {
     "name": "stdout",
     "output_type": "stream",
     "text": [
      "Feature range:\n",
      "(0, 1)\n",
      "Finding adversarial examples for lr\n"
     ]
    },
    {
     "name": "stderr",
     "output_type": "stream",
     "text": [
      "C&W L_2: 100%|██████████| 22/22 [00:06<00:00,  3.44it/s]\n"
     ]
    },
    {
     "name": "stdout",
     "output_type": "stream",
     "text": [
      "Finding adversarial examples for svc\n"
     ]
    },
    {
     "name": "stderr",
     "output_type": "stream",
     "text": [
      "C&W L_2: 100%|██████████| 22/22 [00:03<00:00,  7.30it/s]\n"
     ]
    },
    {
     "name": "stdout",
     "output_type": "stream",
     "text": [
      "Finding adversarial examples for nn_2\n"
     ]
    },
    {
     "name": "stderr",
     "output_type": "stream",
     "text": [
      "C&W L_2: 100%|██████████| 22/22 [00:26<00:00,  1.23s/it]\n"
     ]
    },
    {
     "name": "stdout",
     "output_type": "stream",
     "text": [
      "Original data points and adversarial examples have been saved to ./datapoints/carlini_l_2_compas\n",
      "Result has been saved to ./results/carlini_l_2_compas\n",
      "Feature range:\n",
      "(0, 1)\n",
      "Finding adversarial examples for lr\n"
     ]
    },
    {
     "name": "stderr",
     "output_type": "stream",
     "text": [
      "C&W L_inf: 100%|██████████| 1408/1408 [01:15<00:00, 18.61it/s]\n"
     ]
    },
    {
     "name": "stdout",
     "output_type": "stream",
     "text": [
      "Finding adversarial examples for svc\n"
     ]
    },
    {
     "name": "stderr",
     "output_type": "stream",
     "text": [
      "C&W L_inf: 100%|██████████| 1408/1408 [00:50<00:00, 28.13it/s]\n"
     ]
    },
    {
     "name": "stdout",
     "output_type": "stream",
     "text": [
      "Finding adversarial examples for nn_2\n"
     ]
    },
    {
     "name": "stderr",
     "output_type": "stream",
     "text": [
      "C&W L_inf: 100%|██████████| 1408/1408 [07:24<00:00,  3.16it/s]\n"
     ]
    },
    {
     "name": "stdout",
     "output_type": "stream",
     "text": [
      "Original data points and adversarial examples have been saved to ./datapoints/carlini_l_inf_compas\n",
      "Result has been saved to ./results/carlini_l_inf_compas\n",
      "Dataset Name: [diabetes]\n"
     ]
    },
    {
     "name": "stderr",
     "output_type": "stream",
     "text": [
      "c:\\Users\\n10599070\\Miniconda3\\envs\\xai\\lib\\site-packages\\keras\\engine\\training_v1.py:2356: UserWarning: `Model.state_updates` will be removed in a future version. This property should not be used in TensorFlow 2.0, as `updates` are applied automatically.\n",
      "  updates=self.state_updates,\n"
     ]
    },
    {
     "name": "stdout",
     "output_type": "stream",
     "text": [
      "Feature range:\n",
      "(0, 1)\n",
      "Finding adversarial examples for lr\n"
     ]
    },
    {
     "name": "stderr",
     "output_type": "stream",
     "text": [
      "C&W L_2: 100%|██████████| 2/2 [00:00<00:00,  3.82it/s]\n"
     ]
    },
    {
     "name": "stdout",
     "output_type": "stream",
     "text": [
      "Finding adversarial examples for svc\n"
     ]
    },
    {
     "name": "stderr",
     "output_type": "stream",
     "text": [
      "C&W L_2: 100%|██████████| 2/2 [00:00<00:00,  6.94it/s]\n"
     ]
    },
    {
     "name": "stdout",
     "output_type": "stream",
     "text": [
      "Finding adversarial examples for nn_2\n"
     ]
    },
    {
     "name": "stderr",
     "output_type": "stream",
     "text": [
      "C&W L_2: 100%|██████████| 2/2 [00:02<00:00,  1.10s/it]\n"
     ]
    },
    {
     "name": "stdout",
     "output_type": "stream",
     "text": [
      "Original data points and adversarial examples have been saved to ./datapoints/carlini_l_2_diabetes\n",
      "Result has been saved to ./results/carlini_l_2_diabetes\n",
      "Feature range:\n",
      "(0, 1)\n",
      "Finding adversarial examples for lr\n"
     ]
    },
    {
     "name": "stderr",
     "output_type": "stream",
     "text": [
      "C&W L_inf: 100%|██████████| 128/128 [00:08<00:00, 14.59it/s]\n"
     ]
    },
    {
     "name": "stdout",
     "output_type": "stream",
     "text": [
      "Finding adversarial examples for svc\n"
     ]
    },
    {
     "name": "stderr",
     "output_type": "stream",
     "text": [
      "C&W L_inf: 100%|██████████| 128/128 [00:06<00:00, 20.42it/s]\n"
     ]
    },
    {
     "name": "stdout",
     "output_type": "stream",
     "text": [
      "Finding adversarial examples for nn_2\n"
     ]
    },
    {
     "name": "stderr",
     "output_type": "stream",
     "text": [
      "C&W L_inf: 100%|██████████| 128/128 [00:51<00:00,  2.46it/s]\n"
     ]
    },
    {
     "name": "stdout",
     "output_type": "stream",
     "text": [
      "Original data points and adversarial examples have been saved to ./datapoints/carlini_l_inf_diabetes\n",
      "Result has been saved to ./results/carlini_l_inf_diabetes\n",
      "Dataset Name: [breast_cancer]\n"
     ]
    },
    {
     "name": "stderr",
     "output_type": "stream",
     "text": [
      "c:\\Users\\n10599070\\Miniconda3\\envs\\xai\\lib\\site-packages\\keras\\engine\\training_v1.py:2356: UserWarning: `Model.state_updates` will be removed in a future version. This property should not be used in TensorFlow 2.0, as `updates` are applied automatically.\n",
      "  updates=self.state_updates,\n"
     ]
    },
    {
     "name": "stdout",
     "output_type": "stream",
     "text": [
      "Feature range:\n",
      "(0, 1)\n",
      "Finding adversarial examples for lr\n"
     ]
    },
    {
     "name": "stderr",
     "output_type": "stream",
     "text": [
      "C&W L_2: 100%|██████████| 1/1 [00:00<00:00,  3.74it/s]\n"
     ]
    },
    {
     "name": "stdout",
     "output_type": "stream",
     "text": [
      "Finding adversarial examples for svc\n"
     ]
    },
    {
     "name": "stderr",
     "output_type": "stream",
     "text": [
      "C&W L_2: 100%|██████████| 1/1 [00:00<00:00,  7.75it/s]\n"
     ]
    },
    {
     "name": "stdout",
     "output_type": "stream",
     "text": [
      "Finding adversarial examples for nn_2\n"
     ]
    },
    {
     "name": "stderr",
     "output_type": "stream",
     "text": [
      "C&W L_2: 100%|██████████| 1/1 [00:01<00:00,  1.44s/it]\n"
     ]
    },
    {
     "name": "stdout",
     "output_type": "stream",
     "text": [
      "Original data points and adversarial examples have been saved to ./datapoints/carlini_l_2_breast_cancer\n",
      "Result has been saved to ./results/carlini_l_2_breast_cancer\n",
      "Feature range:\n",
      "(0, 1)\n",
      "Finding adversarial examples for lr\n"
     ]
    },
    {
     "name": "stderr",
     "output_type": "stream",
     "text": [
      "C&W L_inf: 100%|██████████| 64/64 [00:04<00:00, 14.49it/s]\n"
     ]
    },
    {
     "name": "stdout",
     "output_type": "stream",
     "text": [
      "Finding adversarial examples for svc\n"
     ]
    },
    {
     "name": "stderr",
     "output_type": "stream",
     "text": [
      "C&W L_inf: 100%|██████████| 64/64 [00:02<00:00, 22.32it/s]\n"
     ]
    },
    {
     "name": "stdout",
     "output_type": "stream",
     "text": [
      "Finding adversarial examples for nn_2\n"
     ]
    },
    {
     "name": "stderr",
     "output_type": "stream",
     "text": [
      "C&W L_inf: 100%|██████████| 64/64 [00:29<00:00,  2.17it/s]\n"
     ]
    },
    {
     "name": "stdout",
     "output_type": "stream",
     "text": [
      "Original data points and adversarial examples have been saved to ./datapoints/carlini_l_inf_breast_cancer\n",
      "Result has been saved to ./results/carlini_l_inf_breast_cancer\n"
     ]
    }
   ],
   "source": [
    "for running_times in range(0,10):\n",
    "    print_block(\"Experiment \" + str(running_times))\n",
    "\n",
    "    run_experiment(data_type_mixed=True, running_times=running_times)\n",
    "    run_experiment(data_type_mixed=False, running_times=running_times)"
   ]
  },
  {
   "cell_type": "code",
   "execution_count": null,
   "metadata": {},
   "outputs": [],
   "source": []
  }
 ],
 "metadata": {
  "kernelspec": {
   "display_name": "xai",
   "language": "python",
   "name": "python3"
  },
  "language_info": {
   "codemirror_mode": {
    "name": "ipython",
    "version": 3
   },
   "file_extension": ".py",
   "mimetype": "text/x-python",
   "name": "python",
   "nbconvert_exporter": "python",
   "pygments_lexer": "ipython3",
   "version": "3.10.4"
  },
  "orig_nbformat": 4,
  "vscode": {
   "interpreter": {
    "hash": "350746cdd709c967d80ca4cb0f1d2cbf04d079be136a05ad7342c703ce6b7c0e"
   }
  }
 },
 "nbformat": 4,
 "nbformat_minor": 2
}
