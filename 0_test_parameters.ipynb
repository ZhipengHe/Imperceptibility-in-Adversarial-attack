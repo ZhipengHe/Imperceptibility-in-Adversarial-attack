{
 "cells": [
  {
   "cell_type": "code",
   "execution_count": 9,
   "metadata": {},
   "outputs": [],
   "source": [
    "import tensorflow as tf\n",
    "import pandas as pd\n",
    "import numpy as np\n",
    "\n",
    "from utils.df_loader import (\n",
    "    load_adult_df,\n",
    "    load_compas_df,\n",
    "    load_german_df,\n",
    "    load_diabetes_df,\n",
    "    load_breast_cancer_df,\n",
    ")\n",
    "from sklearn.model_selection import train_test_split\n",
    "from utils.preprocessing import preprocess_df\n",
    "from utils.models import (\n",
    "    train_models,\n",
    "    evaluation_test,\n",
    "    save_models,\n",
    "    load_models,\n",
    ")\n",
    "\n",
    "from art.attacks.evasion import DeepFool, CarliniL0Method, CarliniLInfMethod, CarliniL2Method, BoundaryAttack\n",
    "from art.estimators.classification import SklearnClassifier, KerasClassifier\n",
    "\n",
    "from utils.preprocessing import DfInfo\n",
    "from utils.preprocessing import inverse_dummy\n",
    "from scipy.stats import pearsonr\n",
    "\n",
    "seed = 42\n",
    "# tf.random.set_seed(seed)\n",
    "# np.random.seed(seed)"
   ]
  },
  {
   "cell_type": "code",
   "execution_count": 10,
   "metadata": {},
   "outputs": [],
   "source": [
    "import warnings\n",
    "warnings.filterwarnings(\"ignore\", category=FutureWarning)\n",
    "pd.options.mode.chained_assignment = None # suppress \"SettingWithCopyWarning\" warning"
   ]
  },
  {
   "cell_type": "code",
   "execution_count": 11,
   "metadata": {},
   "outputs": [
    {
     "name": "stdout",
     "output_type": "stream",
     "text": [
      "TF version:  2.10.0\n",
      "Eager execution enabled:  False\n"
     ]
    }
   ],
   "source": [
    "TRAIN_MODEL = False # (1)True(2)False\n",
    "RUN_ART = True\n",
    "num_instances = 64 # (1)&(2) 20\n",
    "\n",
    "if RUN_ART:\n",
    "    tf.compat.v1.disable_eager_execution()\n",
    "\n",
    "print(\"TF version: \", tf.__version__)\n",
    "print(\"Eager execution enabled: \", tf.executing_eagerly())  # False    "
   ]
  },
  {
   "cell_type": "code",
   "execution_count": 12,
   "metadata": {},
   "outputs": [
    {
     "name": "stdout",
     "output_type": "stream",
     "text": [
      "Dataset Name: [diabetes]\n"
     ]
    }
   ],
   "source": [
    "#### Select dataset ####\n",
    "for dataset_name in [\n",
    "    # \"adult\",\n",
    "    # \"german\",\n",
    "    #  \"compas\",\n",
    "    \"diabetes\",\n",
    "    # \"breast_cancer\",\n",
    "]:  # [adult, german, compas]\n",
    "    print(f\"Dataset Name: [{dataset_name}]\")\n",
    "    if dataset_name == \"adult\":\n",
    "        dataset_loading_fn = load_adult_df\n",
    "    elif dataset_name == \"german\":\n",
    "        dataset_loading_fn = load_german_df\n",
    "    elif dataset_name == \"compas\":\n",
    "        dataset_loading_fn = load_compas_df\n",
    "    elif dataset_name == \"diabetes\":\n",
    "        dataset_loading_fn = load_diabetes_df\n",
    "    elif dataset_name == \"breast_cancer\":\n",
    "        dataset_loading_fn = load_breast_cancer_df\n",
    "    else:\n",
    "        raise Exception(\"Unsupported dataset\")\n",
    "\n",
    "    df_info = preprocess_df(dataset_loading_fn)\n",
    "\n",
    "    train_df, test_df = train_test_split(\n",
    "        df_info.dummy_df, train_size=0.8, random_state=seed, shuffle=True\n",
    "    )\n",
    "    X_train = np.array(train_df[df_info.ohe_feature_names])\n",
    "    y_train = np.array(train_df[df_info.target_name])\n",
    "    X_test = np.array(test_df[df_info.ohe_feature_names])\n",
    "    y_test = np.array(test_df[df_info.target_name])\n",
    "\n"
   ]
  },
  {
   "cell_type": "code",
   "execution_count": 13,
   "metadata": {},
   "outputs": [
    {
     "name": "stderr",
     "output_type": "stream",
     "text": [
      "c:\\Users\\mithr\\anaconda3\\envs\\xai\\lib\\site-packages\\keras\\engine\\training_v1.py:2356: UserWarning: `Model.state_updates` will be removed in a future version. This property should not be used in TensorFlow 2.0, as `updates` are applied automatically.\n",
      "  updates=self.state_updates,\n"
     ]
    }
   ],
   "source": [
    "### Load models\n",
    "models = load_models(X_train.shape[-1], dataset_name)\n"
   ]
  },
  {
   "cell_type": "code",
   "execution_count": 14,
   "metadata": {},
   "outputs": [],
   "source": [
    "num_instances = 64 # (1)&(2) 20\n",
    "\n",
    "X_test_re=X_test[0:num_instances]\n",
    "y_test_re=y_test[0:num_instances]\n"
   ]
  },
  {
   "cell_type": "code",
   "execution_count": 15,
   "metadata": {},
   "outputs": [
    {
     "data": {
      "text/plain": [
       "array([[0.        , 0.81407035, 0.62295082, 0.56565657, 0.11820331,\n",
       "        0.7928465 , 0.29077711, 0.06666667],\n",
       "       [0.23529412, 0.73366834, 0.63934426, 0.        , 0.        ,\n",
       "        0.57377049, 0.18872758, 0.76666667],\n",
       "       [0.23529412, 0.92462312, 0.63934426, 0.39393939, 0.32742317,\n",
       "        0.5514158 , 0.0794193 , 0.16666667],\n",
       "       [0.        , 0.83919598, 0.        , 0.        , 0.        ,\n",
       "        0.48137109, 0.32493595, 0.15      ],\n",
       "       [0.11764706, 0.54773869, 0.75409836, 0.        , 0.        ,\n",
       "        0.63636364, 0.32749787, 0.55      ],\n",
       "       [0.52941176, 0.7638191 , 0.63934426, 0.34343434, 0.20212766,\n",
       "        0.50968703, 0.34799317, 0.2       ],\n",
       "       [0.11764706, 0.98994975, 0.57377049, 1.        , 0.        ,\n",
       "        0.5171386 , 0.21221178, 0.68333333],\n",
       "       [0.        , 0.54773869, 0.72131148, 0.3030303 , 0.        ,\n",
       "        0.48435171, 0.33176772, 0.28333333],\n",
       "       [0.70588235, 0.6080402 , 0.63934426, 0.17171717, 0.        ,\n",
       "        0.39493294, 0.07728437, 0.68333333]])"
      ]
     },
     "execution_count": 15,
     "metadata": {},
     "output_type": "execute_result"
    }
   ],
   "source": [
    "X_test_re[30:39]"
   ]
  },
  {
   "cell_type": "code",
   "execution_count": 17,
   "metadata": {},
   "outputs": [
    {
     "name": "stdout",
     "output_type": "stream",
     "text": [
      "50 Done.\n",
      "100 Done.\n",
      "150 Done.\n",
      "200 Done.\n",
      "250 Done.\n",
      "300 Done.\n",
      "350 Done.\n",
      "400 Done.\n",
      "450 Done.\n",
      "500 Done.\n",
      "550 Done.\n",
      "600 Done.\n",
      "650 Done.\n",
      "700 Done.\n",
      "750 Done.\n",
      "800 Done.\n",
      "850 Done.\n",
      "900 Done.\n",
      "950 Done.\n",
      "1000 Done.\n",
      "1050 Done.\n",
      "1100 Done.\n",
      "1150 Done.\n",
      "1200 Done.\n",
      "1250 Done.\n"
     ]
    },
    {
     "ename": "OverflowError",
     "evalue": "(34, 'Result too large')",
     "output_type": "error",
     "traceback": [
      "\u001b[1;31m---------------------------------------------------------------------------\u001b[0m",
      "\u001b[1;31mOverflowError\u001b[0m                             Traceback (most recent call last)",
      "Cell \u001b[1;32mIn[17], line 9\u001b[0m\n\u001b[0;32m      7\u001b[0m max_iter_list\u001b[39m.\u001b[39mappend(max_iter)\n\u001b[0;32m      8\u001b[0m attack \u001b[39m=\u001b[39m BoundaryAttack(estimator\u001b[39m=\u001b[39mSklearnClassifier(models[\u001b[39m'\u001b[39m\u001b[39mgbc\u001b[39m\u001b[39m'\u001b[39m], clip_values\u001b[39m=\u001b[39m(\u001b[39m0\u001b[39m,\u001b[39m1\u001b[39m)), verbose\u001b[39m=\u001b[39m \u001b[39mFalse\u001b[39;00m, batch_size\u001b[39m=\u001b[39m\u001b[39m64\u001b[39m, max_iter\u001b[39m=\u001b[39mmax_iter)\n\u001b[1;32m----> 9\u001b[0m x_adv \u001b[39m=\u001b[39m attack\u001b[39m.\u001b[39;49mgenerate(X_test_re,y_test_re) \n\u001b[0;32m     10\u001b[0m \u001b[39mif\u001b[39;00m \u001b[39mhasattr\u001b[39m(attack, \u001b[39m'\u001b[39m\u001b[39mcurr_delta\u001b[39m\u001b[39m'\u001b[39m) \u001b[39mand\u001b[39;00m \u001b[39mhasattr\u001b[39m(attack, \u001b[39m'\u001b[39m\u001b[39mcurr_epsilon\u001b[39m\u001b[39m'\u001b[39m):\n\u001b[0;32m     11\u001b[0m     curr_delta_list\u001b[39m.\u001b[39mappend(attack\u001b[39m.\u001b[39mcurr_delta)\n",
      "File \u001b[1;32mc:\\Users\\mithr\\anaconda3\\envs\\xai\\lib\\site-packages\\art\\attacks\\evasion\\boundary.py:164\u001b[0m, in \u001b[0;36mBoundaryAttack.generate\u001b[1;34m(self, x, y, **kwargs)\u001b[0m\n\u001b[0;32m    162\u001b[0m \u001b[39mfor\u001b[39;00m ind, val \u001b[39min\u001b[39;00m \u001b[39menumerate\u001b[39m(tqdm(x_adv, desc\u001b[39m=\u001b[39m\u001b[39m\"\u001b[39m\u001b[39mBoundary attack\u001b[39m\u001b[39m\"\u001b[39m, disable\u001b[39m=\u001b[39m\u001b[39mnot\u001b[39;00m \u001b[39mself\u001b[39m\u001b[39m.\u001b[39mverbose)):\n\u001b[0;32m    163\u001b[0m     \u001b[39mif\u001b[39;00m \u001b[39mself\u001b[39m\u001b[39m.\u001b[39mtargeted:\n\u001b[1;32m--> 164\u001b[0m         x_adv[ind] \u001b[39m=\u001b[39m \u001b[39mself\u001b[39;49m\u001b[39m.\u001b[39;49m_perturb(\n\u001b[0;32m    165\u001b[0m             x\u001b[39m=\u001b[39;49mval,\n\u001b[0;32m    166\u001b[0m             y\u001b[39m=\u001b[39;49my[ind],\n\u001b[0;32m    167\u001b[0m             y_p\u001b[39m=\u001b[39;49mpreds[ind],\n\u001b[0;32m    168\u001b[0m             init_pred\u001b[39m=\u001b[39;49minit_preds[ind],\n\u001b[0;32m    169\u001b[0m             adv_init\u001b[39m=\u001b[39;49mx_adv_init[ind],\n\u001b[0;32m    170\u001b[0m             clip_min\u001b[39m=\u001b[39;49mclip_min,\n\u001b[0;32m    171\u001b[0m             clip_max\u001b[39m=\u001b[39;49mclip_max,\n\u001b[0;32m    172\u001b[0m         )\n\u001b[0;32m    173\u001b[0m     \u001b[39melse\u001b[39;00m:\n\u001b[0;32m    174\u001b[0m         x_adv[ind] \u001b[39m=\u001b[39m \u001b[39mself\u001b[39m\u001b[39m.\u001b[39m_perturb(\n\u001b[0;32m    175\u001b[0m             x\u001b[39m=\u001b[39mval,\n\u001b[0;32m    176\u001b[0m             y\u001b[39m=\u001b[39m\u001b[39m-\u001b[39m\u001b[39m1\u001b[39m,\n\u001b[1;32m   (...)\u001b[0m\n\u001b[0;32m    181\u001b[0m             clip_max\u001b[39m=\u001b[39mclip_max,\n\u001b[0;32m    182\u001b[0m         )\n",
      "File \u001b[1;32mc:\\Users\\mithr\\anaconda3\\envs\\xai\\lib\\site-packages\\art\\attacks\\evasion\\boundary.py:223\u001b[0m, in \u001b[0;36mBoundaryAttack._perturb\u001b[1;34m(self, x, y, y_p, init_pred, adv_init, clip_min, clip_max)\u001b[0m\n\u001b[0;32m    220\u001b[0m     \u001b[39mreturn\u001b[39;00m x\n\u001b[0;32m    222\u001b[0m \u001b[39m# If an initial adversarial example found, then go with boundary attack\u001b[39;00m\n\u001b[1;32m--> 223\u001b[0m x_adv \u001b[39m=\u001b[39m \u001b[39mself\u001b[39;49m\u001b[39m.\u001b[39;49m_attack(\n\u001b[0;32m    224\u001b[0m     initial_sample[\u001b[39m0\u001b[39;49m],\n\u001b[0;32m    225\u001b[0m     x,\n\u001b[0;32m    226\u001b[0m     y_p,\n\u001b[0;32m    227\u001b[0m     initial_sample[\u001b[39m1\u001b[39;49m],\n\u001b[0;32m    228\u001b[0m     \u001b[39mself\u001b[39;49m\u001b[39m.\u001b[39;49mdelta,\n\u001b[0;32m    229\u001b[0m     \u001b[39mself\u001b[39;49m\u001b[39m.\u001b[39;49mepsilon,\n\u001b[0;32m    230\u001b[0m     clip_min,\n\u001b[0;32m    231\u001b[0m     clip_max,\n\u001b[0;32m    232\u001b[0m )\n\u001b[0;32m    234\u001b[0m \u001b[39mreturn\u001b[39;00m x_adv\n",
      "File \u001b[1;32mc:\\Users\\mithr\\anaconda3\\envs\\xai\\lib\\site-packages\\art\\attacks\\evasion\\boundary.py:273\u001b[0m, in \u001b[0;36mBoundaryAttack._attack\u001b[1;34m(self, initial_sample, original_sample, y_p, target, initial_delta, initial_epsilon, clip_min, clip_max)\u001b[0m\n\u001b[0;32m    271\u001b[0m potential_advs \u001b[39m=\u001b[39m []\n\u001b[0;32m    272\u001b[0m \u001b[39mfor\u001b[39;00m _ \u001b[39min\u001b[39;00m \u001b[39mrange\u001b[39m(\u001b[39mself\u001b[39m\u001b[39m.\u001b[39msample_size):\n\u001b[1;32m--> 273\u001b[0m     potential_adv \u001b[39m=\u001b[39m x_adv \u001b[39m+\u001b[39m \u001b[39mself\u001b[39;49m\u001b[39m.\u001b[39;49m_orthogonal_perturb(\u001b[39mself\u001b[39;49m\u001b[39m.\u001b[39;49mcurr_delta, x_adv, original_sample)\n\u001b[0;32m    274\u001b[0m     potential_adv \u001b[39m=\u001b[39m np\u001b[39m.\u001b[39mclip(potential_adv, clip_min, clip_max)\n\u001b[0;32m    275\u001b[0m     potential_advs\u001b[39m.\u001b[39mappend(potential_adv)\n",
      "File \u001b[1;32mc:\\Users\\mithr\\anaconda3\\envs\\xai\\lib\\site-packages\\art\\attacks\\evasion\\boundary.py:365\u001b[0m, in \u001b[0;36mBoundaryAttack._orthogonal_perturb\u001b[1;34m(self, delta, current_sample, original_sample)\u001b[0m\n\u001b[0;32m    362\u001b[0m perturb_flat \u001b[39m-\u001b[39m\u001b[39m=\u001b[39m np\u001b[39m.\u001b[39mdot(perturb_flat, direction_flat\u001b[39m.\u001b[39mT) \u001b[39m*\u001b[39m direction_flat\n\u001b[0;32m    363\u001b[0m perturb \u001b[39m=\u001b[39m perturb_flat\u001b[39m.\u001b[39mreshape(\u001b[39mself\u001b[39m\u001b[39m.\u001b[39mestimator\u001b[39m.\u001b[39minput_shape)\n\u001b[1;32m--> 365\u001b[0m hypotenuse \u001b[39m=\u001b[39m np\u001b[39m.\u001b[39msqrt(\u001b[39m1\u001b[39m \u001b[39m+\u001b[39m delta \u001b[39m*\u001b[39;49m\u001b[39m*\u001b[39;49m \u001b[39m2\u001b[39;49m)\n\u001b[0;32m    366\u001b[0m perturb \u001b[39m=\u001b[39m ((\u001b[39m1\u001b[39m \u001b[39m-\u001b[39m hypotenuse) \u001b[39m*\u001b[39m (current_sample \u001b[39m-\u001b[39m original_sample) \u001b[39m+\u001b[39m perturb) \u001b[39m/\u001b[39m hypotenuse\n\u001b[0;32m    367\u001b[0m \u001b[39mreturn\u001b[39;00m perturb\n",
      "\u001b[1;31mOverflowError\u001b[0m: (34, 'Result too large')"
     ]
    }
   ],
   "source": [
    "max_iter_list = []\n",
    "curr_delta_list = []\n",
    "curr_epsilon_list = []\n",
    "\n",
    "for max_iter in range(50,5001,50):\n",
    "    print(f'{max_iter} Done.')\n",
    "    max_iter_list.append(max_iter)\n",
    "    attack = BoundaryAttack(estimator=SklearnClassifier(models['gbc'], clip_values=(0,1)), verbose= False, batch_size=64, max_iter=max_iter)\n",
    "    x_adv = attack.generate(X_test_re,y_test_re) \n",
    "    if hasattr(attack, 'curr_delta') and hasattr(attack, 'curr_epsilon'):\n",
    "        curr_delta_list.append(attack.curr_delta)\n",
    "        # print(f'The current delta is: {attack.curr_delta}')\n",
    "        curr_epsilon_list.append(attack.curr_epsilon)\n",
    "        # print(f'The current epsilon is: {attack.curr_epsilon}')\n",
    "    else:\n",
    "        break"
   ]
  },
  {
   "cell_type": "code",
   "execution_count": null,
   "metadata": {},
   "outputs": [],
   "source": [
    "# max_iter_list \n",
    "# curr_delta_list\n",
    "# curr_epsilon_list\n",
    "import matplotlib.pyplot as plt"
   ]
  },
  {
   "cell_type": "code",
   "execution_count": null,
   "metadata": {},
   "outputs": [],
   "source": [
    "plt.plot(max_iter_list, curr_delta_list)\n",
    "plt.plot(max_iter_list, curr_epsilon_list)\n",
    "plt.yscale('log')\n",
    "plt.title(f'Boundary attack - compas - GBC')\n",
    "# plt.ylabel(f'delta')\n",
    "plt.xlabel(f'max_iter')\n",
    "plt.legend(['delta', 'epsilon'])\n",
    "\n",
    "plt.show()"
   ]
  },
  {
   "cell_type": "code",
   "execution_count": null,
   "metadata": {},
   "outputs": [],
   "source": [
    "nn_max_iter_list = []\n",
    "nn_curr_delta_list = []\n",
    "nn_curr_epsilon_list = []\n",
    "\n",
    "for max_iter in range(50,5001,50):\n",
    "    print(f'{max_iter} Done.')\n",
    "    nn_max_iter_list.append(max_iter)\n",
    "    attack = BoundaryAttack(estimator=KerasClassifier(models['nn_2'], clip_values=(0,1)), verbose= False, batch_size=64, max_iter=max_iter)\n",
    "    x_adv = attack.generate(X_test_re,y_test_re) \n",
    "    if hasattr(attack, 'curr_delta') and hasattr(attack, 'curr_epsilon'):\n",
    "        nn_curr_delta_list.append(attack.curr_delta)\n",
    "        # print(f'The current delta is: {attack.curr_delta}')\n",
    "        nn_curr_epsilon_list.append(attack.curr_epsilon)\n",
    "        # print(f'The current epsilon is: {attack.curr_epsilon}')\n",
    "    else:\n",
    "        break"
   ]
  },
  {
   "cell_type": "code",
   "execution_count": null,
   "metadata": {},
   "outputs": [],
   "source": [
    "plt.plot(nn_max_iter_list, nn_curr_delta_list)\n",
    "plt.plot(nn_max_iter_list, nn_curr_epsilon_list)\n",
    "plt.yscale('log')\n",
    "plt.title(f'Boundary attack - diabetes - NN')\n",
    "# plt.ylabel(f'delta')\n",
    "plt.xlabel(f'max_iter')\n",
    "plt.legend(['delta', 'epsilon'])\n",
    "\n",
    "plt.show()"
   ]
  },
  {
   "cell_type": "code",
   "execution_count": null,
   "metadata": {},
   "outputs": [],
   "source": []
  }
 ],
 "metadata": {
  "kernelspec": {
   "display_name": "xai",
   "language": "python",
   "name": "python3"
  },
  "language_info": {
   "codemirror_mode": {
    "name": "ipython",
    "version": 3
   },
   "file_extension": ".py",
   "mimetype": "text/x-python",
   "name": "python",
   "nbconvert_exporter": "python",
   "pygments_lexer": "ipython3",
   "version": "3.10.8 | packaged by conda-forge | (main, Nov 24 2022, 14:07:00) [MSC v.1916 64 bit (AMD64)]"
  },
  "orig_nbformat": 4,
  "vscode": {
   "interpreter": {
    "hash": "5372a90187f05abdb7392726881158217660b0fad03ab7bdeca2ae0a854d393b"
   }
  }
 },
 "nbformat": 4,
 "nbformat_minor": 2
}
