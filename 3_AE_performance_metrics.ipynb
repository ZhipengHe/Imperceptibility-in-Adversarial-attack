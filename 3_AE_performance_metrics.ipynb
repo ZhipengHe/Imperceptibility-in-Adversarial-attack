{
 "cells": [
  {
   "cell_type": "code",
   "execution_count": 8,
   "metadata": {},
   "outputs": [],
   "source": [
    "import pandas as pd\n",
    "import numpy as np\n",
    "import os\n",
    "\n",
    "from utils.preprocessing import preprocess_df\n",
    "from utils.df_loader import load_adult_df, load_compas_df, load_german_df, load_diabetes_df, load_breast_cancer_df\n",
    "from utils.evaluation import get_evaluations, EvaluationMatrix\n",
    "\n",
    "# from utils.load import load_result_from_csv, load_datapoints_from_npy\n",
    "# from utils.metric import metric_generator\n",
    "\n",
    "seed = 123"
   ]
  },
  {
   "cell_type": "code",
   "execution_count": 9,
   "metadata": {},
   "outputs": [],
   "source": [
    "import warnings\n",
    "\n",
    "pd.options.mode.chained_assignment = None # suppress \"SettingWithCopyWarning\" warning"
   ]
  },
  {
   "cell_type": "code",
   "execution_count": 10,
   "metadata": {},
   "outputs": [],
   "source": [
    "datasets = [\n",
    "        \"adult\",\n",
    "        \"german\",\n",
    "        \"compas\",\n",
    "        \"diabetes\",\n",
    "        \"breast_cancer\",\n",
    "        ]\n",
    "\n",
    "models = [\"dt\",\"rfc\",\"lr\",\"svc\",\"nn\",\"nn_2\"]\n",
    "\n",
    "\n",
    "attack_list = [\n",
    "        'deepfool', \n",
    "        'carlini_l_2', 'carlini_l_inf', \n",
    "        'lowprofool_l_2', 'lowprofool_l_inf', \n",
    "        'boundary', \n",
    "        'hopskipjump_l_2', 'hopskipjump_l_inf'\n",
    "        ]\n"
   ]
  },
  {
   "cell_type": "code",
   "execution_count": 11,
   "metadata": {},
   "outputs": [],
   "source": [
    "def get_loading_fn(dataset_name):\n",
    "    if dataset_name == 'adult':\n",
    "        dataset_loading_fn = load_adult_df\n",
    "    elif dataset_name == 'german':\n",
    "        dataset_loading_fn = load_german_df\n",
    "    elif dataset_name == 'compas':\n",
    "        dataset_loading_fn = load_compas_df\n",
    "    elif dataset_name == 'diabetes':\n",
    "        dataset_loading_fn = load_diabetes_df\n",
    "    elif dataset_name == 'breast_cancer':\n",
    "        dataset_loading_fn = load_breast_cancer_df\n",
    "    else:\n",
    "        raise Exception(\"Unsupported dataset\")\n",
    "    return dataset_loading_fn\n"
   ]
  },
  {
   "cell_type": "code",
   "execution_count": 12,
   "metadata": {},
   "outputs": [
    {
     "name": "stderr",
     "output_type": "stream",
     "text": [
      "c:\\Users\\n10599070\\Documents\\GitHub\\Imperceptibility-in-Adversarial-attack\\utils\\preprocessing.py:226: FutureWarning: The 'mad' method is deprecated and will be removed in a future version. To compute the same result, you may do `(df - df.mean()).abs().mean()`.\n",
      "  return self.scaled_df[self.numerical_cols].mad().to_dict()\n",
      "c:\\Users\\n10599070\\Documents\\GitHub\\Imperceptibility-in-Adversarial-attack\\utils\\evaluation.py:254: FutureWarning: In a future version, `df.iloc[:, i] = newvals` will attempt to set the values inplace instead of always setting a new array. To retain the old behavior, use either `df[df.columns[i]] = newvals` or, if columns are non-unique, `df.isetitem(i, newvals)`\n",
      "  evaluation_df.loc[:, adv_found_eaval_df.columns] = adv_found_eaval_df\n",
      "c:\\Users\\n10599070\\Documents\\GitHub\\Imperceptibility-in-Adversarial-attack\\utils\\preprocessing.py:226: FutureWarning: The 'mad' method is deprecated and will be removed in a future version. To compute the same result, you may do `(df - df.mean()).abs().mean()`.\n",
      "  return self.scaled_df[self.numerical_cols].mad().to_dict()\n"
     ]
    },
    {
     "name": "stdout",
     "output_type": "stream",
     "text": [
      "Have saved file to results/deepfool_adult/eval_deepfool_adult_lr_result.csv\n"
     ]
    },
    {
     "name": "stderr",
     "output_type": "stream",
     "text": [
      "c:\\Users\\n10599070\\Documents\\GitHub\\Imperceptibility-in-Adversarial-attack\\utils\\evaluation.py:254: FutureWarning: In a future version, `df.iloc[:, i] = newvals` will attempt to set the values inplace instead of always setting a new array. To retain the old behavior, use either `df[df.columns[i]] = newvals` or, if columns are non-unique, `df.isetitem(i, newvals)`\n",
      "  evaluation_df.loc[:, adv_found_eaval_df.columns] = adv_found_eaval_df\n",
      "c:\\Users\\n10599070\\Documents\\GitHub\\Imperceptibility-in-Adversarial-attack\\utils\\preprocessing.py:226: FutureWarning: The 'mad' method is deprecated and will be removed in a future version. To compute the same result, you may do `(df - df.mean()).abs().mean()`.\n",
      "  return self.scaled_df[self.numerical_cols].mad().to_dict()\n"
     ]
    },
    {
     "name": "stdout",
     "output_type": "stream",
     "text": [
      "Have saved file to results/deepfool_adult/eval_deepfool_adult_svc_result.csv\n"
     ]
    },
    {
     "name": "stderr",
     "output_type": "stream",
     "text": [
      "c:\\Users\\n10599070\\Documents\\GitHub\\Imperceptibility-in-Adversarial-attack\\utils\\evaluation.py:254: FutureWarning: In a future version, `df.iloc[:, i] = newvals` will attempt to set the values inplace instead of always setting a new array. To retain the old behavior, use either `df[df.columns[i]] = newvals` or, if columns are non-unique, `df.isetitem(i, newvals)`\n",
      "  evaluation_df.loc[:, adv_found_eaval_df.columns] = adv_found_eaval_df\n",
      "c:\\Users\\n10599070\\Documents\\GitHub\\Imperceptibility-in-Adversarial-attack\\utils\\preprocessing.py:226: FutureWarning: The 'mad' method is deprecated and will be removed in a future version. To compute the same result, you may do `(df - df.mean()).abs().mean()`.\n",
      "  return self.scaled_df[self.numerical_cols].mad().to_dict()\n"
     ]
    },
    {
     "name": "stdout",
     "output_type": "stream",
     "text": [
      "Have saved file to results/deepfool_adult/eval_deepfool_adult_nn_2_result.csv\n"
     ]
    },
    {
     "name": "stderr",
     "output_type": "stream",
     "text": [
      "c:\\Users\\n10599070\\Documents\\GitHub\\Imperceptibility-in-Adversarial-attack\\utils\\evaluation.py:254: FutureWarning: In a future version, `df.iloc[:, i] = newvals` will attempt to set the values inplace instead of always setting a new array. To retain the old behavior, use either `df[df.columns[i]] = newvals` or, if columns are non-unique, `df.isetitem(i, newvals)`\n",
      "  evaluation_df.loc[:, adv_found_eaval_df.columns] = adv_found_eaval_df\n",
      "c:\\Users\\n10599070\\Documents\\GitHub\\Imperceptibility-in-Adversarial-attack\\utils\\preprocessing.py:226: FutureWarning: The 'mad' method is deprecated and will be removed in a future version. To compute the same result, you may do `(df - df.mean()).abs().mean()`.\n",
      "  return self.scaled_df[self.numerical_cols].mad().to_dict()\n"
     ]
    },
    {
     "name": "stdout",
     "output_type": "stream",
     "text": [
      "Have saved file to results/carlini_l_2_adult/eval_carlini_l_2_adult_lr_result.csv\n"
     ]
    },
    {
     "name": "stderr",
     "output_type": "stream",
     "text": [
      "c:\\Users\\n10599070\\Documents\\GitHub\\Imperceptibility-in-Adversarial-attack\\utils\\evaluation.py:254: FutureWarning: In a future version, `df.iloc[:, i] = newvals` will attempt to set the values inplace instead of always setting a new array. To retain the old behavior, use either `df[df.columns[i]] = newvals` or, if columns are non-unique, `df.isetitem(i, newvals)`\n",
      "  evaluation_df.loc[:, adv_found_eaval_df.columns] = adv_found_eaval_df\n",
      "c:\\Users\\n10599070\\Documents\\GitHub\\Imperceptibility-in-Adversarial-attack\\utils\\preprocessing.py:226: FutureWarning: The 'mad' method is deprecated and will be removed in a future version. To compute the same result, you may do `(df - df.mean()).abs().mean()`.\n",
      "  return self.scaled_df[self.numerical_cols].mad().to_dict()\n"
     ]
    },
    {
     "name": "stdout",
     "output_type": "stream",
     "text": [
      "Have saved file to results/carlini_l_2_adult/eval_carlini_l_2_adult_svc_result.csv\n"
     ]
    },
    {
     "name": "stderr",
     "output_type": "stream",
     "text": [
      "c:\\Users\\n10599070\\Documents\\GitHub\\Imperceptibility-in-Adversarial-attack\\utils\\evaluation.py:254: FutureWarning: In a future version, `df.iloc[:, i] = newvals` will attempt to set the values inplace instead of always setting a new array. To retain the old behavior, use either `df[df.columns[i]] = newvals` or, if columns are non-unique, `df.isetitem(i, newvals)`\n",
      "  evaluation_df.loc[:, adv_found_eaval_df.columns] = adv_found_eaval_df\n",
      "c:\\Users\\n10599070\\Documents\\GitHub\\Imperceptibility-in-Adversarial-attack\\utils\\preprocessing.py:226: FutureWarning: The 'mad' method is deprecated and will be removed in a future version. To compute the same result, you may do `(df - df.mean()).abs().mean()`.\n",
      "  return self.scaled_df[self.numerical_cols].mad().to_dict()\n"
     ]
    },
    {
     "name": "stdout",
     "output_type": "stream",
     "text": [
      "Have saved file to results/carlini_l_2_adult/eval_carlini_l_2_adult_nn_2_result.csv\n"
     ]
    },
    {
     "name": "stderr",
     "output_type": "stream",
     "text": [
      "c:\\Users\\n10599070\\Documents\\GitHub\\Imperceptibility-in-Adversarial-attack\\utils\\evaluation.py:254: FutureWarning: In a future version, `df.iloc[:, i] = newvals` will attempt to set the values inplace instead of always setting a new array. To retain the old behavior, use either `df[df.columns[i]] = newvals` or, if columns are non-unique, `df.isetitem(i, newvals)`\n",
      "  evaluation_df.loc[:, adv_found_eaval_df.columns] = adv_found_eaval_df\n",
      "c:\\Users\\n10599070\\Documents\\GitHub\\Imperceptibility-in-Adversarial-attack\\utils\\preprocessing.py:226: FutureWarning: The 'mad' method is deprecated and will be removed in a future version. To compute the same result, you may do `(df - df.mean()).abs().mean()`.\n",
      "  return self.scaled_df[self.numerical_cols].mad().to_dict()\n"
     ]
    },
    {
     "name": "stdout",
     "output_type": "stream",
     "text": [
      "Have saved file to results/carlini_l_inf_adult/eval_carlini_l_inf_adult_lr_result.csv\n"
     ]
    },
    {
     "name": "stderr",
     "output_type": "stream",
     "text": [
      "c:\\Users\\n10599070\\Documents\\GitHub\\Imperceptibility-in-Adversarial-attack\\utils\\evaluation.py:254: FutureWarning: In a future version, `df.iloc[:, i] = newvals` will attempt to set the values inplace instead of always setting a new array. To retain the old behavior, use either `df[df.columns[i]] = newvals` or, if columns are non-unique, `df.isetitem(i, newvals)`\n",
      "  evaluation_df.loc[:, adv_found_eaval_df.columns] = adv_found_eaval_df\n",
      "c:\\Users\\n10599070\\Documents\\GitHub\\Imperceptibility-in-Adversarial-attack\\utils\\preprocessing.py:226: FutureWarning: The 'mad' method is deprecated and will be removed in a future version. To compute the same result, you may do `(df - df.mean()).abs().mean()`.\n",
      "  return self.scaled_df[self.numerical_cols].mad().to_dict()\n"
     ]
    },
    {
     "name": "stdout",
     "output_type": "stream",
     "text": [
      "Have saved file to results/carlini_l_inf_adult/eval_carlini_l_inf_adult_svc_result.csv\n"
     ]
    },
    {
     "name": "stderr",
     "output_type": "stream",
     "text": [
      "c:\\Users\\n10599070\\Documents\\GitHub\\Imperceptibility-in-Adversarial-attack\\utils\\evaluation.py:254: FutureWarning: In a future version, `df.iloc[:, i] = newvals` will attempt to set the values inplace instead of always setting a new array. To retain the old behavior, use either `df[df.columns[i]] = newvals` or, if columns are non-unique, `df.isetitem(i, newvals)`\n",
      "  evaluation_df.loc[:, adv_found_eaval_df.columns] = adv_found_eaval_df\n",
      "c:\\Users\\n10599070\\Documents\\GitHub\\Imperceptibility-in-Adversarial-attack\\utils\\preprocessing.py:226: FutureWarning: The 'mad' method is deprecated and will be removed in a future version. To compute the same result, you may do `(df - df.mean()).abs().mean()`.\n",
      "  return self.scaled_df[self.numerical_cols].mad().to_dict()\n"
     ]
    },
    {
     "name": "stdout",
     "output_type": "stream",
     "text": [
      "Have saved file to results/carlini_l_inf_adult/eval_carlini_l_inf_adult_nn_2_result.csv\n"
     ]
    },
    {
     "name": "stderr",
     "output_type": "stream",
     "text": [
      "c:\\Users\\n10599070\\Documents\\GitHub\\Imperceptibility-in-Adversarial-attack\\utils\\evaluation.py:254: FutureWarning: In a future version, `df.iloc[:, i] = newvals` will attempt to set the values inplace instead of always setting a new array. To retain the old behavior, use either `df[df.columns[i]] = newvals` or, if columns are non-unique, `df.isetitem(i, newvals)`\n",
      "  evaluation_df.loc[:, adv_found_eaval_df.columns] = adv_found_eaval_df\n",
      "c:\\Users\\n10599070\\Documents\\GitHub\\Imperceptibility-in-Adversarial-attack\\utils\\preprocessing.py:226: FutureWarning: The 'mad' method is deprecated and will be removed in a future version. To compute the same result, you may do `(df - df.mean()).abs().mean()`.\n",
      "  return self.scaled_df[self.numerical_cols].mad().to_dict()\n"
     ]
    },
    {
     "name": "stdout",
     "output_type": "stream",
     "text": [
      "Have saved file to results/boundary_adult/eval_boundary_adult_dt_result.csv\n"
     ]
    },
    {
     "name": "stderr",
     "output_type": "stream",
     "text": [
      "c:\\Users\\n10599070\\Documents\\GitHub\\Imperceptibility-in-Adversarial-attack\\utils\\evaluation.py:254: FutureWarning: In a future version, `df.iloc[:, i] = newvals` will attempt to set the values inplace instead of always setting a new array. To retain the old behavior, use either `df[df.columns[i]] = newvals` or, if columns are non-unique, `df.isetitem(i, newvals)`\n",
      "  evaluation_df.loc[:, adv_found_eaval_df.columns] = adv_found_eaval_df\n",
      "c:\\Users\\n10599070\\Documents\\GitHub\\Imperceptibility-in-Adversarial-attack\\utils\\preprocessing.py:226: FutureWarning: The 'mad' method is deprecated and will be removed in a future version. To compute the same result, you may do `(df - df.mean()).abs().mean()`.\n",
      "  return self.scaled_df[self.numerical_cols].mad().to_dict()\n"
     ]
    },
    {
     "name": "stdout",
     "output_type": "stream",
     "text": [
      "Have saved file to results/boundary_adult/eval_boundary_adult_rfc_result.csv\n"
     ]
    },
    {
     "name": "stderr",
     "output_type": "stream",
     "text": [
      "c:\\Users\\n10599070\\Documents\\GitHub\\Imperceptibility-in-Adversarial-attack\\utils\\evaluation.py:254: FutureWarning: In a future version, `df.iloc[:, i] = newvals` will attempt to set the values inplace instead of always setting a new array. To retain the old behavior, use either `df[df.columns[i]] = newvals` or, if columns are non-unique, `df.isetitem(i, newvals)`\n",
      "  evaluation_df.loc[:, adv_found_eaval_df.columns] = adv_found_eaval_df\n",
      "c:\\Users\\n10599070\\Documents\\GitHub\\Imperceptibility-in-Adversarial-attack\\utils\\preprocessing.py:226: FutureWarning: The 'mad' method is deprecated and will be removed in a future version. To compute the same result, you may do `(df - df.mean()).abs().mean()`.\n",
      "  return self.scaled_df[self.numerical_cols].mad().to_dict()\n"
     ]
    },
    {
     "name": "stdout",
     "output_type": "stream",
     "text": [
      "Have saved file to results/boundary_adult/eval_boundary_adult_lr_result.csv\n"
     ]
    },
    {
     "name": "stderr",
     "output_type": "stream",
     "text": [
      "c:\\Users\\n10599070\\Documents\\GitHub\\Imperceptibility-in-Adversarial-attack\\utils\\evaluation.py:254: FutureWarning: In a future version, `df.iloc[:, i] = newvals` will attempt to set the values inplace instead of always setting a new array. To retain the old behavior, use either `df[df.columns[i]] = newvals` or, if columns are non-unique, `df.isetitem(i, newvals)`\n",
      "  evaluation_df.loc[:, adv_found_eaval_df.columns] = adv_found_eaval_df\n",
      "c:\\Users\\n10599070\\Documents\\GitHub\\Imperceptibility-in-Adversarial-attack\\utils\\preprocessing.py:226: FutureWarning: The 'mad' method is deprecated and will be removed in a future version. To compute the same result, you may do `(df - df.mean()).abs().mean()`.\n",
      "  return self.scaled_df[self.numerical_cols].mad().to_dict()\n"
     ]
    },
    {
     "name": "stdout",
     "output_type": "stream",
     "text": [
      "Have saved file to results/boundary_adult/eval_boundary_adult_svc_result.csv\n"
     ]
    },
    {
     "name": "stderr",
     "output_type": "stream",
     "text": [
      "c:\\Users\\n10599070\\Documents\\GitHub\\Imperceptibility-in-Adversarial-attack\\utils\\evaluation.py:254: FutureWarning: In a future version, `df.iloc[:, i] = newvals` will attempt to set the values inplace instead of always setting a new array. To retain the old behavior, use either `df[df.columns[i]] = newvals` or, if columns are non-unique, `df.isetitem(i, newvals)`\n",
      "  evaluation_df.loc[:, adv_found_eaval_df.columns] = adv_found_eaval_df\n",
      "c:\\Users\\n10599070\\Documents\\GitHub\\Imperceptibility-in-Adversarial-attack\\utils\\preprocessing.py:226: FutureWarning: The 'mad' method is deprecated and will be removed in a future version. To compute the same result, you may do `(df - df.mean()).abs().mean()`.\n",
      "  return self.scaled_df[self.numerical_cols].mad().to_dict()\n"
     ]
    },
    {
     "name": "stdout",
     "output_type": "stream",
     "text": [
      "Have saved file to results/boundary_adult/eval_boundary_adult_nn_result.csv\n"
     ]
    },
    {
     "name": "stderr",
     "output_type": "stream",
     "text": [
      "c:\\Users\\n10599070\\Documents\\GitHub\\Imperceptibility-in-Adversarial-attack\\utils\\evaluation.py:254: FutureWarning: In a future version, `df.iloc[:, i] = newvals` will attempt to set the values inplace instead of always setting a new array. To retain the old behavior, use either `df[df.columns[i]] = newvals` or, if columns are non-unique, `df.isetitem(i, newvals)`\n",
      "  evaluation_df.loc[:, adv_found_eaval_df.columns] = adv_found_eaval_df\n",
      "c:\\Users\\n10599070\\Documents\\GitHub\\Imperceptibility-in-Adversarial-attack\\utils\\preprocessing.py:226: FutureWarning: The 'mad' method is deprecated and will be removed in a future version. To compute the same result, you may do `(df - df.mean()).abs().mean()`.\n",
      "  return self.scaled_df[self.numerical_cols].mad().to_dict()\n"
     ]
    },
    {
     "name": "stdout",
     "output_type": "stream",
     "text": [
      "Have saved file to results/boundary_adult/eval_boundary_adult_nn_2_result.csv\n"
     ]
    },
    {
     "name": "stderr",
     "output_type": "stream",
     "text": [
      "c:\\Users\\n10599070\\Documents\\GitHub\\Imperceptibility-in-Adversarial-attack\\utils\\evaluation.py:254: FutureWarning: In a future version, `df.iloc[:, i] = newvals` will attempt to set the values inplace instead of always setting a new array. To retain the old behavior, use either `df[df.columns[i]] = newvals` or, if columns are non-unique, `df.isetitem(i, newvals)`\n",
      "  evaluation_df.loc[:, adv_found_eaval_df.columns] = adv_found_eaval_df\n",
      "c:\\Users\\n10599070\\Documents\\GitHub\\Imperceptibility-in-Adversarial-attack\\utils\\preprocessing.py:226: FutureWarning: The 'mad' method is deprecated and will be removed in a future version. To compute the same result, you may do `(df - df.mean()).abs().mean()`.\n",
      "  return self.scaled_df[self.numerical_cols].mad().to_dict()\n"
     ]
    },
    {
     "name": "stdout",
     "output_type": "stream",
     "text": [
      "Have saved file to results/hopskipjump_l_2_adult/eval_hopskipjump_l_2_adult_dt_result.csv\n"
     ]
    },
    {
     "name": "stderr",
     "output_type": "stream",
     "text": [
      "c:\\Users\\n10599070\\Documents\\GitHub\\Imperceptibility-in-Adversarial-attack\\utils\\evaluation.py:254: FutureWarning: In a future version, `df.iloc[:, i] = newvals` will attempt to set the values inplace instead of always setting a new array. To retain the old behavior, use either `df[df.columns[i]] = newvals` or, if columns are non-unique, `df.isetitem(i, newvals)`\n",
      "  evaluation_df.loc[:, adv_found_eaval_df.columns] = adv_found_eaval_df\n",
      "c:\\Users\\n10599070\\Documents\\GitHub\\Imperceptibility-in-Adversarial-attack\\utils\\preprocessing.py:226: FutureWarning: The 'mad' method is deprecated and will be removed in a future version. To compute the same result, you may do `(df - df.mean()).abs().mean()`.\n",
      "  return self.scaled_df[self.numerical_cols].mad().to_dict()\n"
     ]
    },
    {
     "name": "stdout",
     "output_type": "stream",
     "text": [
      "Have saved file to results/hopskipjump_l_2_adult/eval_hopskipjump_l_2_adult_rfc_result.csv\n"
     ]
    },
    {
     "name": "stderr",
     "output_type": "stream",
     "text": [
      "c:\\Users\\n10599070\\Documents\\GitHub\\Imperceptibility-in-Adversarial-attack\\utils\\evaluation.py:254: FutureWarning: In a future version, `df.iloc[:, i] = newvals` will attempt to set the values inplace instead of always setting a new array. To retain the old behavior, use either `df[df.columns[i]] = newvals` or, if columns are non-unique, `df.isetitem(i, newvals)`\n",
      "  evaluation_df.loc[:, adv_found_eaval_df.columns] = adv_found_eaval_df\n",
      "c:\\Users\\n10599070\\Documents\\GitHub\\Imperceptibility-in-Adversarial-attack\\utils\\preprocessing.py:226: FutureWarning: The 'mad' method is deprecated and will be removed in a future version. To compute the same result, you may do `(df - df.mean()).abs().mean()`.\n",
      "  return self.scaled_df[self.numerical_cols].mad().to_dict()\n"
     ]
    },
    {
     "name": "stdout",
     "output_type": "stream",
     "text": [
      "Have saved file to results/hopskipjump_l_2_adult/eval_hopskipjump_l_2_adult_lr_result.csv\n"
     ]
    },
    {
     "name": "stderr",
     "output_type": "stream",
     "text": [
      "c:\\Users\\n10599070\\Documents\\GitHub\\Imperceptibility-in-Adversarial-attack\\utils\\evaluation.py:254: FutureWarning: In a future version, `df.iloc[:, i] = newvals` will attempt to set the values inplace instead of always setting a new array. To retain the old behavior, use either `df[df.columns[i]] = newvals` or, if columns are non-unique, `df.isetitem(i, newvals)`\n",
      "  evaluation_df.loc[:, adv_found_eaval_df.columns] = adv_found_eaval_df\n",
      "c:\\Users\\n10599070\\Documents\\GitHub\\Imperceptibility-in-Adversarial-attack\\utils\\preprocessing.py:226: FutureWarning: The 'mad' method is deprecated and will be removed in a future version. To compute the same result, you may do `(df - df.mean()).abs().mean()`.\n",
      "  return self.scaled_df[self.numerical_cols].mad().to_dict()\n"
     ]
    },
    {
     "name": "stdout",
     "output_type": "stream",
     "text": [
      "Have saved file to results/hopskipjump_l_2_adult/eval_hopskipjump_l_2_adult_svc_result.csv\n"
     ]
    },
    {
     "name": "stderr",
     "output_type": "stream",
     "text": [
      "c:\\Users\\n10599070\\Documents\\GitHub\\Imperceptibility-in-Adversarial-attack\\utils\\evaluation.py:254: FutureWarning: In a future version, `df.iloc[:, i] = newvals` will attempt to set the values inplace instead of always setting a new array. To retain the old behavior, use either `df[df.columns[i]] = newvals` or, if columns are non-unique, `df.isetitem(i, newvals)`\n",
      "  evaluation_df.loc[:, adv_found_eaval_df.columns] = adv_found_eaval_df\n",
      "c:\\Users\\n10599070\\Documents\\GitHub\\Imperceptibility-in-Adversarial-attack\\utils\\preprocessing.py:226: FutureWarning: The 'mad' method is deprecated and will be removed in a future version. To compute the same result, you may do `(df - df.mean()).abs().mean()`.\n",
      "  return self.scaled_df[self.numerical_cols].mad().to_dict()\n"
     ]
    },
    {
     "name": "stdout",
     "output_type": "stream",
     "text": [
      "Have saved file to results/hopskipjump_l_2_adult/eval_hopskipjump_l_2_adult_nn_result.csv\n"
     ]
    },
    {
     "name": "stderr",
     "output_type": "stream",
     "text": [
      "c:\\Users\\n10599070\\Documents\\GitHub\\Imperceptibility-in-Adversarial-attack\\utils\\evaluation.py:254: FutureWarning: In a future version, `df.iloc[:, i] = newvals` will attempt to set the values inplace instead of always setting a new array. To retain the old behavior, use either `df[df.columns[i]] = newvals` or, if columns are non-unique, `df.isetitem(i, newvals)`\n",
      "  evaluation_df.loc[:, adv_found_eaval_df.columns] = adv_found_eaval_df\n",
      "c:\\Users\\n10599070\\Documents\\GitHub\\Imperceptibility-in-Adversarial-attack\\utils\\preprocessing.py:226: FutureWarning: The 'mad' method is deprecated and will be removed in a future version. To compute the same result, you may do `(df - df.mean()).abs().mean()`.\n",
      "  return self.scaled_df[self.numerical_cols].mad().to_dict()\n"
     ]
    },
    {
     "name": "stdout",
     "output_type": "stream",
     "text": [
      "Have saved file to results/hopskipjump_l_2_adult/eval_hopskipjump_l_2_adult_nn_2_result.csv\n"
     ]
    },
    {
     "name": "stderr",
     "output_type": "stream",
     "text": [
      "c:\\Users\\n10599070\\Documents\\GitHub\\Imperceptibility-in-Adversarial-attack\\utils\\evaluation.py:254: FutureWarning: In a future version, `df.iloc[:, i] = newvals` will attempt to set the values inplace instead of always setting a new array. To retain the old behavior, use either `df[df.columns[i]] = newvals` or, if columns are non-unique, `df.isetitem(i, newvals)`\n",
      "  evaluation_df.loc[:, adv_found_eaval_df.columns] = adv_found_eaval_df\n",
      "c:\\Users\\n10599070\\Documents\\GitHub\\Imperceptibility-in-Adversarial-attack\\utils\\preprocessing.py:226: FutureWarning: The 'mad' method is deprecated and will be removed in a future version. To compute the same result, you may do `(df - df.mean()).abs().mean()`.\n",
      "  return self.scaled_df[self.numerical_cols].mad().to_dict()\n"
     ]
    },
    {
     "name": "stdout",
     "output_type": "stream",
     "text": [
      "Have saved file to results/hopskipjump_l_inf_adult/eval_hopskipjump_l_inf_adult_dt_result.csv\n"
     ]
    },
    {
     "name": "stderr",
     "output_type": "stream",
     "text": [
      "c:\\Users\\n10599070\\Documents\\GitHub\\Imperceptibility-in-Adversarial-attack\\utils\\evaluation.py:254: FutureWarning: In a future version, `df.iloc[:, i] = newvals` will attempt to set the values inplace instead of always setting a new array. To retain the old behavior, use either `df[df.columns[i]] = newvals` or, if columns are non-unique, `df.isetitem(i, newvals)`\n",
      "  evaluation_df.loc[:, adv_found_eaval_df.columns] = adv_found_eaval_df\n",
      "c:\\Users\\n10599070\\Documents\\GitHub\\Imperceptibility-in-Adversarial-attack\\utils\\preprocessing.py:226: FutureWarning: The 'mad' method is deprecated and will be removed in a future version. To compute the same result, you may do `(df - df.mean()).abs().mean()`.\n",
      "  return self.scaled_df[self.numerical_cols].mad().to_dict()\n"
     ]
    },
    {
     "name": "stdout",
     "output_type": "stream",
     "text": [
      "Have saved file to results/hopskipjump_l_inf_adult/eval_hopskipjump_l_inf_adult_rfc_result.csv\n"
     ]
    },
    {
     "name": "stderr",
     "output_type": "stream",
     "text": [
      "c:\\Users\\n10599070\\Documents\\GitHub\\Imperceptibility-in-Adversarial-attack\\utils\\evaluation.py:254: FutureWarning: In a future version, `df.iloc[:, i] = newvals` will attempt to set the values inplace instead of always setting a new array. To retain the old behavior, use either `df[df.columns[i]] = newvals` or, if columns are non-unique, `df.isetitem(i, newvals)`\n",
      "  evaluation_df.loc[:, adv_found_eaval_df.columns] = adv_found_eaval_df\n",
      "c:\\Users\\n10599070\\Documents\\GitHub\\Imperceptibility-in-Adversarial-attack\\utils\\preprocessing.py:226: FutureWarning: The 'mad' method is deprecated and will be removed in a future version. To compute the same result, you may do `(df - df.mean()).abs().mean()`.\n",
      "  return self.scaled_df[self.numerical_cols].mad().to_dict()\n"
     ]
    },
    {
     "name": "stdout",
     "output_type": "stream",
     "text": [
      "Have saved file to results/hopskipjump_l_inf_adult/eval_hopskipjump_l_inf_adult_lr_result.csv\n"
     ]
    },
    {
     "name": "stderr",
     "output_type": "stream",
     "text": [
      "c:\\Users\\n10599070\\Documents\\GitHub\\Imperceptibility-in-Adversarial-attack\\utils\\evaluation.py:254: FutureWarning: In a future version, `df.iloc[:, i] = newvals` will attempt to set the values inplace instead of always setting a new array. To retain the old behavior, use either `df[df.columns[i]] = newvals` or, if columns are non-unique, `df.isetitem(i, newvals)`\n",
      "  evaluation_df.loc[:, adv_found_eaval_df.columns] = adv_found_eaval_df\n",
      "c:\\Users\\n10599070\\Documents\\GitHub\\Imperceptibility-in-Adversarial-attack\\utils\\preprocessing.py:226: FutureWarning: The 'mad' method is deprecated and will be removed in a future version. To compute the same result, you may do `(df - df.mean()).abs().mean()`.\n",
      "  return self.scaled_df[self.numerical_cols].mad().to_dict()\n"
     ]
    },
    {
     "name": "stdout",
     "output_type": "stream",
     "text": [
      "Have saved file to results/hopskipjump_l_inf_adult/eval_hopskipjump_l_inf_adult_svc_result.csv\n"
     ]
    },
    {
     "name": "stderr",
     "output_type": "stream",
     "text": [
      "c:\\Users\\n10599070\\Documents\\GitHub\\Imperceptibility-in-Adversarial-attack\\utils\\evaluation.py:254: FutureWarning: In a future version, `df.iloc[:, i] = newvals` will attempt to set the values inplace instead of always setting a new array. To retain the old behavior, use either `df[df.columns[i]] = newvals` or, if columns are non-unique, `df.isetitem(i, newvals)`\n",
      "  evaluation_df.loc[:, adv_found_eaval_df.columns] = adv_found_eaval_df\n",
      "c:\\Users\\n10599070\\Documents\\GitHub\\Imperceptibility-in-Adversarial-attack\\utils\\preprocessing.py:226: FutureWarning: The 'mad' method is deprecated and will be removed in a future version. To compute the same result, you may do `(df - df.mean()).abs().mean()`.\n",
      "  return self.scaled_df[self.numerical_cols].mad().to_dict()\n"
     ]
    },
    {
     "name": "stdout",
     "output_type": "stream",
     "text": [
      "Have saved file to results/hopskipjump_l_inf_adult/eval_hopskipjump_l_inf_adult_nn_result.csv\n"
     ]
    },
    {
     "name": "stderr",
     "output_type": "stream",
     "text": [
      "c:\\Users\\n10599070\\Documents\\GitHub\\Imperceptibility-in-Adversarial-attack\\utils\\evaluation.py:254: FutureWarning: In a future version, `df.iloc[:, i] = newvals` will attempt to set the values inplace instead of always setting a new array. To retain the old behavior, use either `df[df.columns[i]] = newvals` or, if columns are non-unique, `df.isetitem(i, newvals)`\n",
      "  evaluation_df.loc[:, adv_found_eaval_df.columns] = adv_found_eaval_df\n",
      "c:\\Users\\n10599070\\Documents\\GitHub\\Imperceptibility-in-Adversarial-attack\\utils\\preprocessing.py:226: FutureWarning: The 'mad' method is deprecated and will be removed in a future version. To compute the same result, you may do `(df - df.mean()).abs().mean()`.\n",
      "  return self.scaled_df[self.numerical_cols].mad().to_dict()\n",
      "c:\\Users\\n10599070\\Documents\\GitHub\\Imperceptibility-in-Adversarial-attack\\utils\\evaluation.py:254: FutureWarning: In a future version, `df.iloc[:, i] = newvals` will attempt to set the values inplace instead of always setting a new array. To retain the old behavior, use either `df[df.columns[i]] = newvals` or, if columns are non-unique, `df.isetitem(i, newvals)`\n",
      "  evaluation_df.loc[:, adv_found_eaval_df.columns] = adv_found_eaval_df\n",
      "c:\\Users\\n10599070\\Documents\\GitHub\\Imperceptibility-in-Adversarial-attack\\utils\\preprocessing.py:226: FutureWarning: The 'mad' method is deprecated and will be removed in a future version. To compute the same result, you may do `(df - df.mean()).abs().mean()`.\n",
      "  return self.scaled_df[self.numerical_cols].mad().to_dict()\n"
     ]
    },
    {
     "name": "stdout",
     "output_type": "stream",
     "text": [
      "Have saved file to results/hopskipjump_l_inf_adult/eval_hopskipjump_l_inf_adult_nn_2_result.csv\n",
      "Have saved file to results/deepfool_german/eval_deepfool_german_lr_result.csv\n"
     ]
    },
    {
     "name": "stderr",
     "output_type": "stream",
     "text": [
      "c:\\Users\\n10599070\\Documents\\GitHub\\Imperceptibility-in-Adversarial-attack\\utils\\evaluation.py:254: FutureWarning: In a future version, `df.iloc[:, i] = newvals` will attempt to set the values inplace instead of always setting a new array. To retain the old behavior, use either `df[df.columns[i]] = newvals` or, if columns are non-unique, `df.isetitem(i, newvals)`\n",
      "  evaluation_df.loc[:, adv_found_eaval_df.columns] = adv_found_eaval_df\n",
      "c:\\Users\\n10599070\\Documents\\GitHub\\Imperceptibility-in-Adversarial-attack\\utils\\preprocessing.py:226: FutureWarning: The 'mad' method is deprecated and will be removed in a future version. To compute the same result, you may do `(df - df.mean()).abs().mean()`.\n",
      "  return self.scaled_df[self.numerical_cols].mad().to_dict()\n",
      "c:\\Users\\n10599070\\Documents\\GitHub\\Imperceptibility-in-Adversarial-attack\\utils\\evaluation.py:254: FutureWarning: In a future version, `df.iloc[:, i] = newvals` will attempt to set the values inplace instead of always setting a new array. To retain the old behavior, use either `df[df.columns[i]] = newvals` or, if columns are non-unique, `df.isetitem(i, newvals)`\n",
      "  evaluation_df.loc[:, adv_found_eaval_df.columns] = adv_found_eaval_df\n",
      "c:\\Users\\n10599070\\Documents\\GitHub\\Imperceptibility-in-Adversarial-attack\\utils\\preprocessing.py:226: FutureWarning: The 'mad' method is deprecated and will be removed in a future version. To compute the same result, you may do `(df - df.mean()).abs().mean()`.\n",
      "  return self.scaled_df[self.numerical_cols].mad().to_dict()\n"
     ]
    },
    {
     "name": "stdout",
     "output_type": "stream",
     "text": [
      "Have saved file to results/deepfool_german/eval_deepfool_german_svc_result.csv\n",
      "Have saved file to results/deepfool_german/eval_deepfool_german_nn_2_result.csv\n"
     ]
    },
    {
     "name": "stderr",
     "output_type": "stream",
     "text": [
      "c:\\Users\\n10599070\\Documents\\GitHub\\Imperceptibility-in-Adversarial-attack\\utils\\evaluation.py:254: FutureWarning: In a future version, `df.iloc[:, i] = newvals` will attempt to set the values inplace instead of always setting a new array. To retain the old behavior, use either `df[df.columns[i]] = newvals` or, if columns are non-unique, `df.isetitem(i, newvals)`\n",
      "  evaluation_df.loc[:, adv_found_eaval_df.columns] = adv_found_eaval_df\n",
      "c:\\Users\\n10599070\\Documents\\GitHub\\Imperceptibility-in-Adversarial-attack\\utils\\preprocessing.py:226: FutureWarning: The 'mad' method is deprecated and will be removed in a future version. To compute the same result, you may do `(df - df.mean()).abs().mean()`.\n",
      "  return self.scaled_df[self.numerical_cols].mad().to_dict()\n",
      "c:\\Users\\n10599070\\Documents\\GitHub\\Imperceptibility-in-Adversarial-attack\\utils\\evaluation.py:254: FutureWarning: In a future version, `df.iloc[:, i] = newvals` will attempt to set the values inplace instead of always setting a new array. To retain the old behavior, use either `df[df.columns[i]] = newvals` or, if columns are non-unique, `df.isetitem(i, newvals)`\n",
      "  evaluation_df.loc[:, adv_found_eaval_df.columns] = adv_found_eaval_df\n",
      "c:\\Users\\n10599070\\Documents\\GitHub\\Imperceptibility-in-Adversarial-attack\\utils\\preprocessing.py:226: FutureWarning: The 'mad' method is deprecated and will be removed in a future version. To compute the same result, you may do `(df - df.mean()).abs().mean()`.\n",
      "  return self.scaled_df[self.numerical_cols].mad().to_dict()\n"
     ]
    },
    {
     "name": "stdout",
     "output_type": "stream",
     "text": [
      "Have saved file to results/carlini_l_2_german/eval_carlini_l_2_german_lr_result.csv\n",
      "Have saved file to results/carlini_l_2_german/eval_carlini_l_2_german_svc_result.csv\n"
     ]
    },
    {
     "name": "stderr",
     "output_type": "stream",
     "text": [
      "c:\\Users\\n10599070\\Documents\\GitHub\\Imperceptibility-in-Adversarial-attack\\utils\\evaluation.py:254: FutureWarning: In a future version, `df.iloc[:, i] = newvals` will attempt to set the values inplace instead of always setting a new array. To retain the old behavior, use either `df[df.columns[i]] = newvals` or, if columns are non-unique, `df.isetitem(i, newvals)`\n",
      "  evaluation_df.loc[:, adv_found_eaval_df.columns] = adv_found_eaval_df\n",
      "c:\\Users\\n10599070\\Documents\\GitHub\\Imperceptibility-in-Adversarial-attack\\utils\\preprocessing.py:226: FutureWarning: The 'mad' method is deprecated and will be removed in a future version. To compute the same result, you may do `(df - df.mean()).abs().mean()`.\n",
      "  return self.scaled_df[self.numerical_cols].mad().to_dict()\n",
      "c:\\Users\\n10599070\\Documents\\GitHub\\Imperceptibility-in-Adversarial-attack\\utils\\evaluation.py:254: FutureWarning: In a future version, `df.iloc[:, i] = newvals` will attempt to set the values inplace instead of always setting a new array. To retain the old behavior, use either `df[df.columns[i]] = newvals` or, if columns are non-unique, `df.isetitem(i, newvals)`\n",
      "  evaluation_df.loc[:, adv_found_eaval_df.columns] = adv_found_eaval_df\n",
      "c:\\Users\\n10599070\\Documents\\GitHub\\Imperceptibility-in-Adversarial-attack\\utils\\preprocessing.py:226: FutureWarning: The 'mad' method is deprecated and will be removed in a future version. To compute the same result, you may do `(df - df.mean()).abs().mean()`.\n",
      "  return self.scaled_df[self.numerical_cols].mad().to_dict()\n"
     ]
    },
    {
     "name": "stdout",
     "output_type": "stream",
     "text": [
      "Have saved file to results/carlini_l_2_german/eval_carlini_l_2_german_nn_2_result.csv\n",
      "Have saved file to results/carlini_l_inf_german/eval_carlini_l_inf_german_lr_result.csv\n"
     ]
    },
    {
     "name": "stderr",
     "output_type": "stream",
     "text": [
      "c:\\Users\\n10599070\\Documents\\GitHub\\Imperceptibility-in-Adversarial-attack\\utils\\evaluation.py:254: FutureWarning: In a future version, `df.iloc[:, i] = newvals` will attempt to set the values inplace instead of always setting a new array. To retain the old behavior, use either `df[df.columns[i]] = newvals` or, if columns are non-unique, `df.isetitem(i, newvals)`\n",
      "  evaluation_df.loc[:, adv_found_eaval_df.columns] = adv_found_eaval_df\n",
      "c:\\Users\\n10599070\\Documents\\GitHub\\Imperceptibility-in-Adversarial-attack\\utils\\preprocessing.py:226: FutureWarning: The 'mad' method is deprecated and will be removed in a future version. To compute the same result, you may do `(df - df.mean()).abs().mean()`.\n",
      "  return self.scaled_df[self.numerical_cols].mad().to_dict()\n",
      "c:\\Users\\n10599070\\Documents\\GitHub\\Imperceptibility-in-Adversarial-attack\\utils\\evaluation.py:254: FutureWarning: In a future version, `df.iloc[:, i] = newvals` will attempt to set the values inplace instead of always setting a new array. To retain the old behavior, use either `df[df.columns[i]] = newvals` or, if columns are non-unique, `df.isetitem(i, newvals)`\n",
      "  evaluation_df.loc[:, adv_found_eaval_df.columns] = adv_found_eaval_df\n",
      "c:\\Users\\n10599070\\Documents\\GitHub\\Imperceptibility-in-Adversarial-attack\\utils\\preprocessing.py:226: FutureWarning: The 'mad' method is deprecated and will be removed in a future version. To compute the same result, you may do `(df - df.mean()).abs().mean()`.\n",
      "  return self.scaled_df[self.numerical_cols].mad().to_dict()\n"
     ]
    },
    {
     "name": "stdout",
     "output_type": "stream",
     "text": [
      "Have saved file to results/carlini_l_inf_german/eval_carlini_l_inf_german_svc_result.csv\n",
      "Have saved file to results/carlini_l_inf_german/eval_carlini_l_inf_german_nn_2_result.csv\n"
     ]
    },
    {
     "name": "stderr",
     "output_type": "stream",
     "text": [
      "c:\\Users\\n10599070\\Documents\\GitHub\\Imperceptibility-in-Adversarial-attack\\utils\\evaluation.py:254: FutureWarning: In a future version, `df.iloc[:, i] = newvals` will attempt to set the values inplace instead of always setting a new array. To retain the old behavior, use either `df[df.columns[i]] = newvals` or, if columns are non-unique, `df.isetitem(i, newvals)`\n",
      "  evaluation_df.loc[:, adv_found_eaval_df.columns] = adv_found_eaval_df\n",
      "c:\\Users\\n10599070\\Documents\\GitHub\\Imperceptibility-in-Adversarial-attack\\utils\\preprocessing.py:226: FutureWarning: The 'mad' method is deprecated and will be removed in a future version. To compute the same result, you may do `(df - df.mean()).abs().mean()`.\n",
      "  return self.scaled_df[self.numerical_cols].mad().to_dict()\n",
      "c:\\Users\\n10599070\\Documents\\GitHub\\Imperceptibility-in-Adversarial-attack\\utils\\evaluation.py:254: FutureWarning: In a future version, `df.iloc[:, i] = newvals` will attempt to set the values inplace instead of always setting a new array. To retain the old behavior, use either `df[df.columns[i]] = newvals` or, if columns are non-unique, `df.isetitem(i, newvals)`\n",
      "  evaluation_df.loc[:, adv_found_eaval_df.columns] = adv_found_eaval_df\n",
      "c:\\Users\\n10599070\\Documents\\GitHub\\Imperceptibility-in-Adversarial-attack\\utils\\preprocessing.py:226: FutureWarning: The 'mad' method is deprecated and will be removed in a future version. To compute the same result, you may do `(df - df.mean()).abs().mean()`.\n",
      "  return self.scaled_df[self.numerical_cols].mad().to_dict()\n"
     ]
    },
    {
     "name": "stdout",
     "output_type": "stream",
     "text": [
      "Have saved file to results/boundary_german/eval_boundary_german_dt_result.csv\n",
      "Have saved file to results/boundary_german/eval_boundary_german_rfc_result.csv\n"
     ]
    },
    {
     "name": "stderr",
     "output_type": "stream",
     "text": [
      "c:\\Users\\n10599070\\Documents\\GitHub\\Imperceptibility-in-Adversarial-attack\\utils\\evaluation.py:254: FutureWarning: In a future version, `df.iloc[:, i] = newvals` will attempt to set the values inplace instead of always setting a new array. To retain the old behavior, use either `df[df.columns[i]] = newvals` or, if columns are non-unique, `df.isetitem(i, newvals)`\n",
      "  evaluation_df.loc[:, adv_found_eaval_df.columns] = adv_found_eaval_df\n",
      "c:\\Users\\n10599070\\Documents\\GitHub\\Imperceptibility-in-Adversarial-attack\\utils\\preprocessing.py:226: FutureWarning: The 'mad' method is deprecated and will be removed in a future version. To compute the same result, you may do `(df - df.mean()).abs().mean()`.\n",
      "  return self.scaled_df[self.numerical_cols].mad().to_dict()\n",
      "c:\\Users\\n10599070\\Documents\\GitHub\\Imperceptibility-in-Adversarial-attack\\utils\\evaluation.py:254: FutureWarning: In a future version, `df.iloc[:, i] = newvals` will attempt to set the values inplace instead of always setting a new array. To retain the old behavior, use either `df[df.columns[i]] = newvals` or, if columns are non-unique, `df.isetitem(i, newvals)`\n",
      "  evaluation_df.loc[:, adv_found_eaval_df.columns] = adv_found_eaval_df\n",
      "c:\\Users\\n10599070\\Documents\\GitHub\\Imperceptibility-in-Adversarial-attack\\utils\\preprocessing.py:226: FutureWarning: The 'mad' method is deprecated and will be removed in a future version. To compute the same result, you may do `(df - df.mean()).abs().mean()`.\n",
      "  return self.scaled_df[self.numerical_cols].mad().to_dict()\n"
     ]
    },
    {
     "name": "stdout",
     "output_type": "stream",
     "text": [
      "Have saved file to results/boundary_german/eval_boundary_german_lr_result.csv\n",
      "Have saved file to results/boundary_german/eval_boundary_german_svc_result.csv\n"
     ]
    },
    {
     "name": "stderr",
     "output_type": "stream",
     "text": [
      "c:\\Users\\n10599070\\Documents\\GitHub\\Imperceptibility-in-Adversarial-attack\\utils\\evaluation.py:254: FutureWarning: In a future version, `df.iloc[:, i] = newvals` will attempt to set the values inplace instead of always setting a new array. To retain the old behavior, use either `df[df.columns[i]] = newvals` or, if columns are non-unique, `df.isetitem(i, newvals)`\n",
      "  evaluation_df.loc[:, adv_found_eaval_df.columns] = adv_found_eaval_df\n",
      "c:\\Users\\n10599070\\Documents\\GitHub\\Imperceptibility-in-Adversarial-attack\\utils\\preprocessing.py:226: FutureWarning: The 'mad' method is deprecated and will be removed in a future version. To compute the same result, you may do `(df - df.mean()).abs().mean()`.\n",
      "  return self.scaled_df[self.numerical_cols].mad().to_dict()\n",
      "c:\\Users\\n10599070\\Documents\\GitHub\\Imperceptibility-in-Adversarial-attack\\utils\\evaluation.py:254: FutureWarning: In a future version, `df.iloc[:, i] = newvals` will attempt to set the values inplace instead of always setting a new array. To retain the old behavior, use either `df[df.columns[i]] = newvals` or, if columns are non-unique, `df.isetitem(i, newvals)`\n",
      "  evaluation_df.loc[:, adv_found_eaval_df.columns] = adv_found_eaval_df\n",
      "c:\\Users\\n10599070\\Documents\\GitHub\\Imperceptibility-in-Adversarial-attack\\utils\\preprocessing.py:226: FutureWarning: The 'mad' method is deprecated and will be removed in a future version. To compute the same result, you may do `(df - df.mean()).abs().mean()`.\n",
      "  return self.scaled_df[self.numerical_cols].mad().to_dict()\n"
     ]
    },
    {
     "name": "stdout",
     "output_type": "stream",
     "text": [
      "Have saved file to results/boundary_german/eval_boundary_german_nn_result.csv\n",
      "Have saved file to results/boundary_german/eval_boundary_german_nn_2_result.csv\n"
     ]
    },
    {
     "name": "stderr",
     "output_type": "stream",
     "text": [
      "c:\\Users\\n10599070\\Documents\\GitHub\\Imperceptibility-in-Adversarial-attack\\utils\\evaluation.py:254: FutureWarning: In a future version, `df.iloc[:, i] = newvals` will attempt to set the values inplace instead of always setting a new array. To retain the old behavior, use either `df[df.columns[i]] = newvals` or, if columns are non-unique, `df.isetitem(i, newvals)`\n",
      "  evaluation_df.loc[:, adv_found_eaval_df.columns] = adv_found_eaval_df\n",
      "c:\\Users\\n10599070\\Documents\\GitHub\\Imperceptibility-in-Adversarial-attack\\utils\\preprocessing.py:226: FutureWarning: The 'mad' method is deprecated and will be removed in a future version. To compute the same result, you may do `(df - df.mean()).abs().mean()`.\n",
      "  return self.scaled_df[self.numerical_cols].mad().to_dict()\n",
      "c:\\Users\\n10599070\\Documents\\GitHub\\Imperceptibility-in-Adversarial-attack\\utils\\evaluation.py:254: FutureWarning: In a future version, `df.iloc[:, i] = newvals` will attempt to set the values inplace instead of always setting a new array. To retain the old behavior, use either `df[df.columns[i]] = newvals` or, if columns are non-unique, `df.isetitem(i, newvals)`\n",
      "  evaluation_df.loc[:, adv_found_eaval_df.columns] = adv_found_eaval_df\n",
      "c:\\Users\\n10599070\\Documents\\GitHub\\Imperceptibility-in-Adversarial-attack\\utils\\preprocessing.py:226: FutureWarning: The 'mad' method is deprecated and will be removed in a future version. To compute the same result, you may do `(df - df.mean()).abs().mean()`.\n",
      "  return self.scaled_df[self.numerical_cols].mad().to_dict()\n"
     ]
    },
    {
     "name": "stdout",
     "output_type": "stream",
     "text": [
      "Have saved file to results/hopskipjump_l_2_german/eval_hopskipjump_l_2_german_dt_result.csv\n",
      "Have saved file to results/hopskipjump_l_2_german/eval_hopskipjump_l_2_german_rfc_result.csv\n"
     ]
    },
    {
     "name": "stderr",
     "output_type": "stream",
     "text": [
      "c:\\Users\\n10599070\\Documents\\GitHub\\Imperceptibility-in-Adversarial-attack\\utils\\evaluation.py:254: FutureWarning: In a future version, `df.iloc[:, i] = newvals` will attempt to set the values inplace instead of always setting a new array. To retain the old behavior, use either `df[df.columns[i]] = newvals` or, if columns are non-unique, `df.isetitem(i, newvals)`\n",
      "  evaluation_df.loc[:, adv_found_eaval_df.columns] = adv_found_eaval_df\n",
      "c:\\Users\\n10599070\\Documents\\GitHub\\Imperceptibility-in-Adversarial-attack\\utils\\preprocessing.py:226: FutureWarning: The 'mad' method is deprecated and will be removed in a future version. To compute the same result, you may do `(df - df.mean()).abs().mean()`.\n",
      "  return self.scaled_df[self.numerical_cols].mad().to_dict()\n",
      "c:\\Users\\n10599070\\Documents\\GitHub\\Imperceptibility-in-Adversarial-attack\\utils\\evaluation.py:254: FutureWarning: In a future version, `df.iloc[:, i] = newvals` will attempt to set the values inplace instead of always setting a new array. To retain the old behavior, use either `df[df.columns[i]] = newvals` or, if columns are non-unique, `df.isetitem(i, newvals)`\n",
      "  evaluation_df.loc[:, adv_found_eaval_df.columns] = adv_found_eaval_df\n",
      "c:\\Users\\n10599070\\Documents\\GitHub\\Imperceptibility-in-Adversarial-attack\\utils\\preprocessing.py:226: FutureWarning: The 'mad' method is deprecated and will be removed in a future version. To compute the same result, you may do `(df - df.mean()).abs().mean()`.\n",
      "  return self.scaled_df[self.numerical_cols].mad().to_dict()\n"
     ]
    },
    {
     "name": "stdout",
     "output_type": "stream",
     "text": [
      "Have saved file to results/hopskipjump_l_2_german/eval_hopskipjump_l_2_german_lr_result.csv\n",
      "Have saved file to results/hopskipjump_l_2_german/eval_hopskipjump_l_2_german_svc_result.csv\n"
     ]
    },
    {
     "name": "stderr",
     "output_type": "stream",
     "text": [
      "c:\\Users\\n10599070\\Documents\\GitHub\\Imperceptibility-in-Adversarial-attack\\utils\\evaluation.py:254: FutureWarning: In a future version, `df.iloc[:, i] = newvals` will attempt to set the values inplace instead of always setting a new array. To retain the old behavior, use either `df[df.columns[i]] = newvals` or, if columns are non-unique, `df.isetitem(i, newvals)`\n",
      "  evaluation_df.loc[:, adv_found_eaval_df.columns] = adv_found_eaval_df\n",
      "c:\\Users\\n10599070\\Documents\\GitHub\\Imperceptibility-in-Adversarial-attack\\utils\\preprocessing.py:226: FutureWarning: The 'mad' method is deprecated and will be removed in a future version. To compute the same result, you may do `(df - df.mean()).abs().mean()`.\n",
      "  return self.scaled_df[self.numerical_cols].mad().to_dict()\n",
      "c:\\Users\\n10599070\\Documents\\GitHub\\Imperceptibility-in-Adversarial-attack\\utils\\evaluation.py:254: FutureWarning: In a future version, `df.iloc[:, i] = newvals` will attempt to set the values inplace instead of always setting a new array. To retain the old behavior, use either `df[df.columns[i]] = newvals` or, if columns are non-unique, `df.isetitem(i, newvals)`\n",
      "  evaluation_df.loc[:, adv_found_eaval_df.columns] = adv_found_eaval_df\n",
      "c:\\Users\\n10599070\\Documents\\GitHub\\Imperceptibility-in-Adversarial-attack\\utils\\preprocessing.py:226: FutureWarning: The 'mad' method is deprecated and will be removed in a future version. To compute the same result, you may do `(df - df.mean()).abs().mean()`.\n",
      "  return self.scaled_df[self.numerical_cols].mad().to_dict()\n"
     ]
    },
    {
     "name": "stdout",
     "output_type": "stream",
     "text": [
      "Have saved file to results/hopskipjump_l_2_german/eval_hopskipjump_l_2_german_nn_result.csv\n",
      "Have saved file to results/hopskipjump_l_2_german/eval_hopskipjump_l_2_german_nn_2_result.csv\n"
     ]
    },
    {
     "name": "stderr",
     "output_type": "stream",
     "text": [
      "c:\\Users\\n10599070\\Documents\\GitHub\\Imperceptibility-in-Adversarial-attack\\utils\\evaluation.py:254: FutureWarning: In a future version, `df.iloc[:, i] = newvals` will attempt to set the values inplace instead of always setting a new array. To retain the old behavior, use either `df[df.columns[i]] = newvals` or, if columns are non-unique, `df.isetitem(i, newvals)`\n",
      "  evaluation_df.loc[:, adv_found_eaval_df.columns] = adv_found_eaval_df\n",
      "c:\\Users\\n10599070\\Documents\\GitHub\\Imperceptibility-in-Adversarial-attack\\utils\\preprocessing.py:226: FutureWarning: The 'mad' method is deprecated and will be removed in a future version. To compute the same result, you may do `(df - df.mean()).abs().mean()`.\n",
      "  return self.scaled_df[self.numerical_cols].mad().to_dict()\n",
      "c:\\Users\\n10599070\\Documents\\GitHub\\Imperceptibility-in-Adversarial-attack\\utils\\evaluation.py:254: FutureWarning: In a future version, `df.iloc[:, i] = newvals` will attempt to set the values inplace instead of always setting a new array. To retain the old behavior, use either `df[df.columns[i]] = newvals` or, if columns are non-unique, `df.isetitem(i, newvals)`\n",
      "  evaluation_df.loc[:, adv_found_eaval_df.columns] = adv_found_eaval_df\n",
      "c:\\Users\\n10599070\\Documents\\GitHub\\Imperceptibility-in-Adversarial-attack\\utils\\preprocessing.py:226: FutureWarning: The 'mad' method is deprecated and will be removed in a future version. To compute the same result, you may do `(df - df.mean()).abs().mean()`.\n",
      "  return self.scaled_df[self.numerical_cols].mad().to_dict()\n"
     ]
    },
    {
     "name": "stdout",
     "output_type": "stream",
     "text": [
      "Have saved file to results/hopskipjump_l_inf_german/eval_hopskipjump_l_inf_german_dt_result.csv\n",
      "Have saved file to results/hopskipjump_l_inf_german/eval_hopskipjump_l_inf_german_rfc_result.csv\n"
     ]
    },
    {
     "name": "stderr",
     "output_type": "stream",
     "text": [
      "c:\\Users\\n10599070\\Documents\\GitHub\\Imperceptibility-in-Adversarial-attack\\utils\\evaluation.py:254: FutureWarning: In a future version, `df.iloc[:, i] = newvals` will attempt to set the values inplace instead of always setting a new array. To retain the old behavior, use either `df[df.columns[i]] = newvals` or, if columns are non-unique, `df.isetitem(i, newvals)`\n",
      "  evaluation_df.loc[:, adv_found_eaval_df.columns] = adv_found_eaval_df\n",
      "c:\\Users\\n10599070\\Documents\\GitHub\\Imperceptibility-in-Adversarial-attack\\utils\\preprocessing.py:226: FutureWarning: The 'mad' method is deprecated and will be removed in a future version. To compute the same result, you may do `(df - df.mean()).abs().mean()`.\n",
      "  return self.scaled_df[self.numerical_cols].mad().to_dict()\n",
      "c:\\Users\\n10599070\\Documents\\GitHub\\Imperceptibility-in-Adversarial-attack\\utils\\evaluation.py:254: FutureWarning: In a future version, `df.iloc[:, i] = newvals` will attempt to set the values inplace instead of always setting a new array. To retain the old behavior, use either `df[df.columns[i]] = newvals` or, if columns are non-unique, `df.isetitem(i, newvals)`\n",
      "  evaluation_df.loc[:, adv_found_eaval_df.columns] = adv_found_eaval_df\n",
      "c:\\Users\\n10599070\\Documents\\GitHub\\Imperceptibility-in-Adversarial-attack\\utils\\preprocessing.py:226: FutureWarning: The 'mad' method is deprecated and will be removed in a future version. To compute the same result, you may do `(df - df.mean()).abs().mean()`.\n",
      "  return self.scaled_df[self.numerical_cols].mad().to_dict()\n"
     ]
    },
    {
     "name": "stdout",
     "output_type": "stream",
     "text": [
      "Have saved file to results/hopskipjump_l_inf_german/eval_hopskipjump_l_inf_german_lr_result.csv\n",
      "Have saved file to results/hopskipjump_l_inf_german/eval_hopskipjump_l_inf_german_svc_result.csv\n"
     ]
    },
    {
     "name": "stderr",
     "output_type": "stream",
     "text": [
      "c:\\Users\\n10599070\\Documents\\GitHub\\Imperceptibility-in-Adversarial-attack\\utils\\evaluation.py:254: FutureWarning: In a future version, `df.iloc[:, i] = newvals` will attempt to set the values inplace instead of always setting a new array. To retain the old behavior, use either `df[df.columns[i]] = newvals` or, if columns are non-unique, `df.isetitem(i, newvals)`\n",
      "  evaluation_df.loc[:, adv_found_eaval_df.columns] = adv_found_eaval_df\n",
      "c:\\Users\\n10599070\\Documents\\GitHub\\Imperceptibility-in-Adversarial-attack\\utils\\preprocessing.py:226: FutureWarning: The 'mad' method is deprecated and will be removed in a future version. To compute the same result, you may do `(df - df.mean()).abs().mean()`.\n",
      "  return self.scaled_df[self.numerical_cols].mad().to_dict()\n",
      "c:\\Users\\n10599070\\Documents\\GitHub\\Imperceptibility-in-Adversarial-attack\\utils\\evaluation.py:254: FutureWarning: In a future version, `df.iloc[:, i] = newvals` will attempt to set the values inplace instead of always setting a new array. To retain the old behavior, use either `df[df.columns[i]] = newvals` or, if columns are non-unique, `df.isetitem(i, newvals)`\n",
      "  evaluation_df.loc[:, adv_found_eaval_df.columns] = adv_found_eaval_df\n",
      "c:\\Users\\n10599070\\Documents\\GitHub\\Imperceptibility-in-Adversarial-attack\\utils\\preprocessing.py:226: FutureWarning: The 'mad' method is deprecated and will be removed in a future version. To compute the same result, you may do `(df - df.mean()).abs().mean()`.\n",
      "  return self.scaled_df[self.numerical_cols].mad().to_dict()\n"
     ]
    },
    {
     "name": "stdout",
     "output_type": "stream",
     "text": [
      "Have saved file to results/hopskipjump_l_inf_german/eval_hopskipjump_l_inf_german_nn_result.csv\n",
      "Have saved file to results/hopskipjump_l_inf_german/eval_hopskipjump_l_inf_german_nn_2_result.csv\n"
     ]
    },
    {
     "name": "stderr",
     "output_type": "stream",
     "text": [
      "c:\\Users\\n10599070\\Documents\\GitHub\\Imperceptibility-in-Adversarial-attack\\utils\\evaluation.py:254: FutureWarning: In a future version, `df.iloc[:, i] = newvals` will attempt to set the values inplace instead of always setting a new array. To retain the old behavior, use either `df[df.columns[i]] = newvals` or, if columns are non-unique, `df.isetitem(i, newvals)`\n",
      "  evaluation_df.loc[:, adv_found_eaval_df.columns] = adv_found_eaval_df\n",
      "c:\\Users\\n10599070\\Documents\\GitHub\\Imperceptibility-in-Adversarial-attack\\utils\\preprocessing.py:226: FutureWarning: The 'mad' method is deprecated and will be removed in a future version. To compute the same result, you may do `(df - df.mean()).abs().mean()`.\n",
      "  return self.scaled_df[self.numerical_cols].mad().to_dict()\n",
      "c:\\Users\\n10599070\\Documents\\GitHub\\Imperceptibility-in-Adversarial-attack\\utils\\evaluation.py:254: FutureWarning: In a future version, `df.iloc[:, i] = newvals` will attempt to set the values inplace instead of always setting a new array. To retain the old behavior, use either `df[df.columns[i]] = newvals` or, if columns are non-unique, `df.isetitem(i, newvals)`\n",
      "  evaluation_df.loc[:, adv_found_eaval_df.columns] = adv_found_eaval_df\n",
      "c:\\Users\\n10599070\\Documents\\GitHub\\Imperceptibility-in-Adversarial-attack\\utils\\preprocessing.py:226: FutureWarning: The 'mad' method is deprecated and will be removed in a future version. To compute the same result, you may do `(df - df.mean()).abs().mean()`.\n",
      "  return self.scaled_df[self.numerical_cols].mad().to_dict()\n",
      "c:\\Users\\n10599070\\Documents\\GitHub\\Imperceptibility-in-Adversarial-attack\\utils\\evaluation.py:254: FutureWarning: In a future version, `df.iloc[:, i] = newvals` will attempt to set the values inplace instead of always setting a new array. To retain the old behavior, use either `df[df.columns[i]] = newvals` or, if columns are non-unique, `df.isetitem(i, newvals)`\n",
      "  evaluation_df.loc[:, adv_found_eaval_df.columns] = adv_found_eaval_df\n",
      "c:\\Users\\n10599070\\Documents\\GitHub\\Imperceptibility-in-Adversarial-attack\\utils\\preprocessing.py:226: FutureWarning: The 'mad' method is deprecated and will be removed in a future version. To compute the same result, you may do `(df - df.mean()).abs().mean()`.\n",
      "  return self.scaled_df[self.numerical_cols].mad().to_dict()\n"
     ]
    },
    {
     "name": "stdout",
     "output_type": "stream",
     "text": [
      "Have saved file to results/deepfool_compas/eval_deepfool_compas_lr_result.csv\n",
      "Have saved file to results/deepfool_compas/eval_deepfool_compas_svc_result.csv\n",
      "Have saved file to results/deepfool_compas/eval_deepfool_compas_nn_2_result.csv\n"
     ]
    },
    {
     "name": "stderr",
     "output_type": "stream",
     "text": [
      "c:\\Users\\n10599070\\Documents\\GitHub\\Imperceptibility-in-Adversarial-attack\\utils\\evaluation.py:254: FutureWarning: In a future version, `df.iloc[:, i] = newvals` will attempt to set the values inplace instead of always setting a new array. To retain the old behavior, use either `df[df.columns[i]] = newvals` or, if columns are non-unique, `df.isetitem(i, newvals)`\n",
      "  evaluation_df.loc[:, adv_found_eaval_df.columns] = adv_found_eaval_df\n",
      "c:\\Users\\n10599070\\Documents\\GitHub\\Imperceptibility-in-Adversarial-attack\\utils\\preprocessing.py:226: FutureWarning: The 'mad' method is deprecated and will be removed in a future version. To compute the same result, you may do `(df - df.mean()).abs().mean()`.\n",
      "  return self.scaled_df[self.numerical_cols].mad().to_dict()\n",
      "c:\\Users\\n10599070\\Documents\\GitHub\\Imperceptibility-in-Adversarial-attack\\utils\\evaluation.py:254: FutureWarning: In a future version, `df.iloc[:, i] = newvals` will attempt to set the values inplace instead of always setting a new array. To retain the old behavior, use either `df[df.columns[i]] = newvals` or, if columns are non-unique, `df.isetitem(i, newvals)`\n",
      "  evaluation_df.loc[:, adv_found_eaval_df.columns] = adv_found_eaval_df\n",
      "c:\\Users\\n10599070\\Documents\\GitHub\\Imperceptibility-in-Adversarial-attack\\utils\\preprocessing.py:226: FutureWarning: The 'mad' method is deprecated and will be removed in a future version. To compute the same result, you may do `(df - df.mean()).abs().mean()`.\n",
      "  return self.scaled_df[self.numerical_cols].mad().to_dict()\n",
      "c:\\Users\\n10599070\\Documents\\GitHub\\Imperceptibility-in-Adversarial-attack\\utils\\evaluation.py:254: FutureWarning: In a future version, `df.iloc[:, i] = newvals` will attempt to set the values inplace instead of always setting a new array. To retain the old behavior, use either `df[df.columns[i]] = newvals` or, if columns are non-unique, `df.isetitem(i, newvals)`\n",
      "  evaluation_df.loc[:, adv_found_eaval_df.columns] = adv_found_eaval_df\n",
      "c:\\Users\\n10599070\\Documents\\GitHub\\Imperceptibility-in-Adversarial-attack\\utils\\preprocessing.py:226: FutureWarning: The 'mad' method is deprecated and will be removed in a future version. To compute the same result, you may do `(df - df.mean()).abs().mean()`.\n",
      "  return self.scaled_df[self.numerical_cols].mad().to_dict()\n"
     ]
    },
    {
     "name": "stdout",
     "output_type": "stream",
     "text": [
      "Have saved file to results/carlini_l_2_compas/eval_carlini_l_2_compas_lr_result.csv\n",
      "Have saved file to results/carlini_l_2_compas/eval_carlini_l_2_compas_svc_result.csv\n",
      "Have saved file to results/carlini_l_2_compas/eval_carlini_l_2_compas_nn_2_result.csv\n"
     ]
    },
    {
     "name": "stderr",
     "output_type": "stream",
     "text": [
      "c:\\Users\\n10599070\\Documents\\GitHub\\Imperceptibility-in-Adversarial-attack\\utils\\evaluation.py:254: FutureWarning: In a future version, `df.iloc[:, i] = newvals` will attempt to set the values inplace instead of always setting a new array. To retain the old behavior, use either `df[df.columns[i]] = newvals` or, if columns are non-unique, `df.isetitem(i, newvals)`\n",
      "  evaluation_df.loc[:, adv_found_eaval_df.columns] = adv_found_eaval_df\n",
      "c:\\Users\\n10599070\\Documents\\GitHub\\Imperceptibility-in-Adversarial-attack\\utils\\preprocessing.py:226: FutureWarning: The 'mad' method is deprecated and will be removed in a future version. To compute the same result, you may do `(df - df.mean()).abs().mean()`.\n",
      "  return self.scaled_df[self.numerical_cols].mad().to_dict()\n",
      "c:\\Users\\n10599070\\Documents\\GitHub\\Imperceptibility-in-Adversarial-attack\\utils\\evaluation.py:254: FutureWarning: In a future version, `df.iloc[:, i] = newvals` will attempt to set the values inplace instead of always setting a new array. To retain the old behavior, use either `df[df.columns[i]] = newvals` or, if columns are non-unique, `df.isetitem(i, newvals)`\n",
      "  evaluation_df.loc[:, adv_found_eaval_df.columns] = adv_found_eaval_df\n",
      "c:\\Users\\n10599070\\Documents\\GitHub\\Imperceptibility-in-Adversarial-attack\\utils\\preprocessing.py:226: FutureWarning: The 'mad' method is deprecated and will be removed in a future version. To compute the same result, you may do `(df - df.mean()).abs().mean()`.\n",
      "  return self.scaled_df[self.numerical_cols].mad().to_dict()\n",
      "c:\\Users\\n10599070\\Documents\\GitHub\\Imperceptibility-in-Adversarial-attack\\utils\\evaluation.py:254: FutureWarning: In a future version, `df.iloc[:, i] = newvals` will attempt to set the values inplace instead of always setting a new array. To retain the old behavior, use either `df[df.columns[i]] = newvals` or, if columns are non-unique, `df.isetitem(i, newvals)`\n",
      "  evaluation_df.loc[:, adv_found_eaval_df.columns] = adv_found_eaval_df\n",
      "c:\\Users\\n10599070\\Documents\\GitHub\\Imperceptibility-in-Adversarial-attack\\utils\\preprocessing.py:226: FutureWarning: The 'mad' method is deprecated and will be removed in a future version. To compute the same result, you may do `(df - df.mean()).abs().mean()`.\n",
      "  return self.scaled_df[self.numerical_cols].mad().to_dict()\n"
     ]
    },
    {
     "name": "stdout",
     "output_type": "stream",
     "text": [
      "Have saved file to results/carlini_l_inf_compas/eval_carlini_l_inf_compas_lr_result.csv\n",
      "Have saved file to results/carlini_l_inf_compas/eval_carlini_l_inf_compas_svc_result.csv\n",
      "Have saved file to results/carlini_l_inf_compas/eval_carlini_l_inf_compas_nn_2_result.csv\n"
     ]
    },
    {
     "name": "stderr",
     "output_type": "stream",
     "text": [
      "c:\\Users\\n10599070\\Documents\\GitHub\\Imperceptibility-in-Adversarial-attack\\utils\\evaluation.py:254: FutureWarning: In a future version, `df.iloc[:, i] = newvals` will attempt to set the values inplace instead of always setting a new array. To retain the old behavior, use either `df[df.columns[i]] = newvals` or, if columns are non-unique, `df.isetitem(i, newvals)`\n",
      "  evaluation_df.loc[:, adv_found_eaval_df.columns] = adv_found_eaval_df\n",
      "c:\\Users\\n10599070\\Documents\\GitHub\\Imperceptibility-in-Adversarial-attack\\utils\\preprocessing.py:226: FutureWarning: The 'mad' method is deprecated and will be removed in a future version. To compute the same result, you may do `(df - df.mean()).abs().mean()`.\n",
      "  return self.scaled_df[self.numerical_cols].mad().to_dict()\n",
      "c:\\Users\\n10599070\\Documents\\GitHub\\Imperceptibility-in-Adversarial-attack\\utils\\evaluation.py:254: FutureWarning: In a future version, `df.iloc[:, i] = newvals` will attempt to set the values inplace instead of always setting a new array. To retain the old behavior, use either `df[df.columns[i]] = newvals` or, if columns are non-unique, `df.isetitem(i, newvals)`\n",
      "  evaluation_df.loc[:, adv_found_eaval_df.columns] = adv_found_eaval_df\n",
      "c:\\Users\\n10599070\\Documents\\GitHub\\Imperceptibility-in-Adversarial-attack\\utils\\preprocessing.py:226: FutureWarning: The 'mad' method is deprecated and will be removed in a future version. To compute the same result, you may do `(df - df.mean()).abs().mean()`.\n",
      "  return self.scaled_df[self.numerical_cols].mad().to_dict()\n",
      "c:\\Users\\n10599070\\Documents\\GitHub\\Imperceptibility-in-Adversarial-attack\\utils\\evaluation.py:254: FutureWarning: In a future version, `df.iloc[:, i] = newvals` will attempt to set the values inplace instead of always setting a new array. To retain the old behavior, use either `df[df.columns[i]] = newvals` or, if columns are non-unique, `df.isetitem(i, newvals)`\n",
      "  evaluation_df.loc[:, adv_found_eaval_df.columns] = adv_found_eaval_df\n"
     ]
    },
    {
     "name": "stdout",
     "output_type": "stream",
     "text": [
      "Have saved file to results/boundary_compas/eval_boundary_compas_dt_result.csv\n",
      "Have saved file to results/boundary_compas/eval_boundary_compas_rfc_result.csv\n",
      "Have saved file to results/boundary_compas/eval_boundary_compas_lr_result.csv\n"
     ]
    },
    {
     "name": "stderr",
     "output_type": "stream",
     "text": [
      "c:\\Users\\n10599070\\Documents\\GitHub\\Imperceptibility-in-Adversarial-attack\\utils\\preprocessing.py:226: FutureWarning: The 'mad' method is deprecated and will be removed in a future version. To compute the same result, you may do `(df - df.mean()).abs().mean()`.\n",
      "  return self.scaled_df[self.numerical_cols].mad().to_dict()\n",
      "c:\\Users\\n10599070\\Documents\\GitHub\\Imperceptibility-in-Adversarial-attack\\utils\\evaluation.py:254: FutureWarning: In a future version, `df.iloc[:, i] = newvals` will attempt to set the values inplace instead of always setting a new array. To retain the old behavior, use either `df[df.columns[i]] = newvals` or, if columns are non-unique, `df.isetitem(i, newvals)`\n",
      "  evaluation_df.loc[:, adv_found_eaval_df.columns] = adv_found_eaval_df\n",
      "c:\\Users\\n10599070\\Documents\\GitHub\\Imperceptibility-in-Adversarial-attack\\utils\\preprocessing.py:226: FutureWarning: The 'mad' method is deprecated and will be removed in a future version. To compute the same result, you may do `(df - df.mean()).abs().mean()`.\n",
      "  return self.scaled_df[self.numerical_cols].mad().to_dict()\n",
      "c:\\Users\\n10599070\\Documents\\GitHub\\Imperceptibility-in-Adversarial-attack\\utils\\evaluation.py:254: FutureWarning: In a future version, `df.iloc[:, i] = newvals` will attempt to set the values inplace instead of always setting a new array. To retain the old behavior, use either `df[df.columns[i]] = newvals` or, if columns are non-unique, `df.isetitem(i, newvals)`\n",
      "  evaluation_df.loc[:, adv_found_eaval_df.columns] = adv_found_eaval_df\n",
      "c:\\Users\\n10599070\\Documents\\GitHub\\Imperceptibility-in-Adversarial-attack\\utils\\preprocessing.py:226: FutureWarning: The 'mad' method is deprecated and will be removed in a future version. To compute the same result, you may do `(df - df.mean()).abs().mean()`.\n",
      "  return self.scaled_df[self.numerical_cols].mad().to_dict()\n"
     ]
    },
    {
     "name": "stdout",
     "output_type": "stream",
     "text": [
      "Have saved file to results/boundary_compas/eval_boundary_compas_svc_result.csv\n",
      "Have saved file to results/boundary_compas/eval_boundary_compas_nn_result.csv\n"
     ]
    },
    {
     "name": "stderr",
     "output_type": "stream",
     "text": [
      "c:\\Users\\n10599070\\Documents\\GitHub\\Imperceptibility-in-Adversarial-attack\\utils\\evaluation.py:254: FutureWarning: In a future version, `df.iloc[:, i] = newvals` will attempt to set the values inplace instead of always setting a new array. To retain the old behavior, use either `df[df.columns[i]] = newvals` or, if columns are non-unique, `df.isetitem(i, newvals)`\n",
      "  evaluation_df.loc[:, adv_found_eaval_df.columns] = adv_found_eaval_df\n",
      "c:\\Users\\n10599070\\Documents\\GitHub\\Imperceptibility-in-Adversarial-attack\\utils\\preprocessing.py:226: FutureWarning: The 'mad' method is deprecated and will be removed in a future version. To compute the same result, you may do `(df - df.mean()).abs().mean()`.\n",
      "  return self.scaled_df[self.numerical_cols].mad().to_dict()\n",
      "c:\\Users\\n10599070\\Documents\\GitHub\\Imperceptibility-in-Adversarial-attack\\utils\\evaluation.py:254: FutureWarning: In a future version, `df.iloc[:, i] = newvals` will attempt to set the values inplace instead of always setting a new array. To retain the old behavior, use either `df[df.columns[i]] = newvals` or, if columns are non-unique, `df.isetitem(i, newvals)`\n",
      "  evaluation_df.loc[:, adv_found_eaval_df.columns] = adv_found_eaval_df\n",
      "c:\\Users\\n10599070\\Documents\\GitHub\\Imperceptibility-in-Adversarial-attack\\utils\\preprocessing.py:226: FutureWarning: The 'mad' method is deprecated and will be removed in a future version. To compute the same result, you may do `(df - df.mean()).abs().mean()`.\n",
      "  return self.scaled_df[self.numerical_cols].mad().to_dict()\n",
      "c:\\Users\\n10599070\\Documents\\GitHub\\Imperceptibility-in-Adversarial-attack\\utils\\evaluation.py:254: FutureWarning: In a future version, `df.iloc[:, i] = newvals` will attempt to set the values inplace instead of always setting a new array. To retain the old behavior, use either `df[df.columns[i]] = newvals` or, if columns are non-unique, `df.isetitem(i, newvals)`\n",
      "  evaluation_df.loc[:, adv_found_eaval_df.columns] = adv_found_eaval_df\n",
      "c:\\Users\\n10599070\\Documents\\GitHub\\Imperceptibility-in-Adversarial-attack\\utils\\preprocessing.py:226: FutureWarning: The 'mad' method is deprecated and will be removed in a future version. To compute the same result, you may do `(df - df.mean()).abs().mean()`.\n",
      "  return self.scaled_df[self.numerical_cols].mad().to_dict()\n"
     ]
    },
    {
     "name": "stdout",
     "output_type": "stream",
     "text": [
      "Have saved file to results/boundary_compas/eval_boundary_compas_nn_2_result.csv\n",
      "Have saved file to results/hopskipjump_l_2_compas/eval_hopskipjump_l_2_compas_dt_result.csv\n",
      "Have saved file to results/hopskipjump_l_2_compas/eval_hopskipjump_l_2_compas_rfc_result.csv\n"
     ]
    },
    {
     "name": "stderr",
     "output_type": "stream",
     "text": [
      "c:\\Users\\n10599070\\Documents\\GitHub\\Imperceptibility-in-Adversarial-attack\\utils\\evaluation.py:254: FutureWarning: In a future version, `df.iloc[:, i] = newvals` will attempt to set the values inplace instead of always setting a new array. To retain the old behavior, use either `df[df.columns[i]] = newvals` or, if columns are non-unique, `df.isetitem(i, newvals)`\n",
      "  evaluation_df.loc[:, adv_found_eaval_df.columns] = adv_found_eaval_df\n",
      "c:\\Users\\n10599070\\Documents\\GitHub\\Imperceptibility-in-Adversarial-attack\\utils\\preprocessing.py:226: FutureWarning: The 'mad' method is deprecated and will be removed in a future version. To compute the same result, you may do `(df - df.mean()).abs().mean()`.\n",
      "  return self.scaled_df[self.numerical_cols].mad().to_dict()\n",
      "c:\\Users\\n10599070\\Documents\\GitHub\\Imperceptibility-in-Adversarial-attack\\utils\\evaluation.py:254: FutureWarning: In a future version, `df.iloc[:, i] = newvals` will attempt to set the values inplace instead of always setting a new array. To retain the old behavior, use either `df[df.columns[i]] = newvals` or, if columns are non-unique, `df.isetitem(i, newvals)`\n",
      "  evaluation_df.loc[:, adv_found_eaval_df.columns] = adv_found_eaval_df\n",
      "c:\\Users\\n10599070\\Documents\\GitHub\\Imperceptibility-in-Adversarial-attack\\utils\\preprocessing.py:226: FutureWarning: The 'mad' method is deprecated and will be removed in a future version. To compute the same result, you may do `(df - df.mean()).abs().mean()`.\n",
      "  return self.scaled_df[self.numerical_cols].mad().to_dict()\n",
      "c:\\Users\\n10599070\\Documents\\GitHub\\Imperceptibility-in-Adversarial-attack\\utils\\evaluation.py:254: FutureWarning: In a future version, `df.iloc[:, i] = newvals` will attempt to set the values inplace instead of always setting a new array. To retain the old behavior, use either `df[df.columns[i]] = newvals` or, if columns are non-unique, `df.isetitem(i, newvals)`\n",
      "  evaluation_df.loc[:, adv_found_eaval_df.columns] = adv_found_eaval_df\n"
     ]
    },
    {
     "name": "stdout",
     "output_type": "stream",
     "text": [
      "Have saved file to results/hopskipjump_l_2_compas/eval_hopskipjump_l_2_compas_lr_result.csv\n",
      "Have saved file to results/hopskipjump_l_2_compas/eval_hopskipjump_l_2_compas_svc_result.csv\n",
      "Have saved file to results/hopskipjump_l_2_compas/eval_hopskipjump_l_2_compas_nn_result.csv\n"
     ]
    },
    {
     "name": "stderr",
     "output_type": "stream",
     "text": [
      "c:\\Users\\n10599070\\Documents\\GitHub\\Imperceptibility-in-Adversarial-attack\\utils\\preprocessing.py:226: FutureWarning: The 'mad' method is deprecated and will be removed in a future version. To compute the same result, you may do `(df - df.mean()).abs().mean()`.\n",
      "  return self.scaled_df[self.numerical_cols].mad().to_dict()\n",
      "c:\\Users\\n10599070\\Documents\\GitHub\\Imperceptibility-in-Adversarial-attack\\utils\\evaluation.py:254: FutureWarning: In a future version, `df.iloc[:, i] = newvals` will attempt to set the values inplace instead of always setting a new array. To retain the old behavior, use either `df[df.columns[i]] = newvals` or, if columns are non-unique, `df.isetitem(i, newvals)`\n",
      "  evaluation_df.loc[:, adv_found_eaval_df.columns] = adv_found_eaval_df\n",
      "c:\\Users\\n10599070\\Documents\\GitHub\\Imperceptibility-in-Adversarial-attack\\utils\\preprocessing.py:226: FutureWarning: The 'mad' method is deprecated and will be removed in a future version. To compute the same result, you may do `(df - df.mean()).abs().mean()`.\n",
      "  return self.scaled_df[self.numerical_cols].mad().to_dict()\n",
      "c:\\Users\\n10599070\\Documents\\GitHub\\Imperceptibility-in-Adversarial-attack\\utils\\evaluation.py:254: FutureWarning: In a future version, `df.iloc[:, i] = newvals` will attempt to set the values inplace instead of always setting a new array. To retain the old behavior, use either `df[df.columns[i]] = newvals` or, if columns are non-unique, `df.isetitem(i, newvals)`\n",
      "  evaluation_df.loc[:, adv_found_eaval_df.columns] = adv_found_eaval_df\n",
      "c:\\Users\\n10599070\\Documents\\GitHub\\Imperceptibility-in-Adversarial-attack\\utils\\preprocessing.py:226: FutureWarning: The 'mad' method is deprecated and will be removed in a future version. To compute the same result, you may do `(df - df.mean()).abs().mean()`.\n",
      "  return self.scaled_df[self.numerical_cols].mad().to_dict()\n"
     ]
    },
    {
     "name": "stdout",
     "output_type": "stream",
     "text": [
      "Have saved file to results/hopskipjump_l_2_compas/eval_hopskipjump_l_2_compas_nn_2_result.csv\n",
      "Have saved file to results/hopskipjump_l_inf_compas/eval_hopskipjump_l_inf_compas_dt_result.csv\n",
      "Have saved file to results/hopskipjump_l_inf_compas/eval_hopskipjump_l_inf_compas_rfc_result.csv\n"
     ]
    },
    {
     "name": "stderr",
     "output_type": "stream",
     "text": [
      "c:\\Users\\n10599070\\Documents\\GitHub\\Imperceptibility-in-Adversarial-attack\\utils\\evaluation.py:254: FutureWarning: In a future version, `df.iloc[:, i] = newvals` will attempt to set the values inplace instead of always setting a new array. To retain the old behavior, use either `df[df.columns[i]] = newvals` or, if columns are non-unique, `df.isetitem(i, newvals)`\n",
      "  evaluation_df.loc[:, adv_found_eaval_df.columns] = adv_found_eaval_df\n",
      "c:\\Users\\n10599070\\Documents\\GitHub\\Imperceptibility-in-Adversarial-attack\\utils\\preprocessing.py:226: FutureWarning: The 'mad' method is deprecated and will be removed in a future version. To compute the same result, you may do `(df - df.mean()).abs().mean()`.\n",
      "  return self.scaled_df[self.numerical_cols].mad().to_dict()\n",
      "c:\\Users\\n10599070\\Documents\\GitHub\\Imperceptibility-in-Adversarial-attack\\utils\\evaluation.py:254: FutureWarning: In a future version, `df.iloc[:, i] = newvals` will attempt to set the values inplace instead of always setting a new array. To retain the old behavior, use either `df[df.columns[i]] = newvals` or, if columns are non-unique, `df.isetitem(i, newvals)`\n",
      "  evaluation_df.loc[:, adv_found_eaval_df.columns] = adv_found_eaval_df\n",
      "c:\\Users\\n10599070\\Documents\\GitHub\\Imperceptibility-in-Adversarial-attack\\utils\\preprocessing.py:226: FutureWarning: The 'mad' method is deprecated and will be removed in a future version. To compute the same result, you may do `(df - df.mean()).abs().mean()`.\n",
      "  return self.scaled_df[self.numerical_cols].mad().to_dict()\n",
      "c:\\Users\\n10599070\\Documents\\GitHub\\Imperceptibility-in-Adversarial-attack\\utils\\evaluation.py:254: FutureWarning: In a future version, `df.iloc[:, i] = newvals` will attempt to set the values inplace instead of always setting a new array. To retain the old behavior, use either `df[df.columns[i]] = newvals` or, if columns are non-unique, `df.isetitem(i, newvals)`\n",
      "  evaluation_df.loc[:, adv_found_eaval_df.columns] = adv_found_eaval_df\n",
      "c:\\Users\\n10599070\\Documents\\GitHub\\Imperceptibility-in-Adversarial-attack\\utils\\preprocessing.py:226: FutureWarning: The 'mad' method is deprecated and will be removed in a future version. To compute the same result, you may do `(df - df.mean()).abs().mean()`.\n",
      "  return self.scaled_df[self.numerical_cols].mad().to_dict()\n"
     ]
    },
    {
     "name": "stdout",
     "output_type": "stream",
     "text": [
      "Have saved file to results/hopskipjump_l_inf_compas/eval_hopskipjump_l_inf_compas_lr_result.csv\n",
      "Have saved file to results/hopskipjump_l_inf_compas/eval_hopskipjump_l_inf_compas_svc_result.csv\n",
      "Have saved file to results/hopskipjump_l_inf_compas/eval_hopskipjump_l_inf_compas_nn_result.csv\n"
     ]
    },
    {
     "name": "stderr",
     "output_type": "stream",
     "text": [
      "c:\\Users\\n10599070\\Documents\\GitHub\\Imperceptibility-in-Adversarial-attack\\utils\\evaluation.py:254: FutureWarning: In a future version, `df.iloc[:, i] = newvals` will attempt to set the values inplace instead of always setting a new array. To retain the old behavior, use either `df[df.columns[i]] = newvals` or, if columns are non-unique, `df.isetitem(i, newvals)`\n",
      "  evaluation_df.loc[:, adv_found_eaval_df.columns] = adv_found_eaval_df\n",
      "c:\\Users\\n10599070\\Documents\\GitHub\\Imperceptibility-in-Adversarial-attack\\utils\\preprocessing.py:226: FutureWarning: The 'mad' method is deprecated and will be removed in a future version. To compute the same result, you may do `(df - df.mean()).abs().mean()`.\n",
      "  return self.scaled_df[self.numerical_cols].mad().to_dict()\n",
      "c:\\Users\\n10599070\\Documents\\GitHub\\Imperceptibility-in-Adversarial-attack\\utils\\evaluation.py:254: FutureWarning: In a future version, `df.iloc[:, i] = newvals` will attempt to set the values inplace instead of always setting a new array. To retain the old behavior, use either `df[df.columns[i]] = newvals` or, if columns are non-unique, `df.isetitem(i, newvals)`\n",
      "  evaluation_df.loc[:, adv_found_eaval_df.columns] = adv_found_eaval_df\n",
      "c:\\Users\\n10599070\\Documents\\GitHub\\Imperceptibility-in-Adversarial-attack\\utils\\preprocessing.py:226: FutureWarning: The 'mad' method is deprecated and will be removed in a future version. To compute the same result, you may do `(df - df.mean()).abs().mean()`.\n",
      "  return self.scaled_df[self.numerical_cols].mad().to_dict()\n",
      "c:\\Users\\n10599070\\Documents\\GitHub\\Imperceptibility-in-Adversarial-attack\\utils\\evaluation.py:254: FutureWarning: In a future version, `df.iloc[:, i] = newvals` will attempt to set the values inplace instead of always setting a new array. To retain the old behavior, use either `df[df.columns[i]] = newvals` or, if columns are non-unique, `df.isetitem(i, newvals)`\n",
      "  evaluation_df.loc[:, adv_found_eaval_df.columns] = adv_found_eaval_df\n",
      "c:\\Users\\n10599070\\Documents\\GitHub\\Imperceptibility-in-Adversarial-attack\\utils\\preprocessing.py:226: FutureWarning: The 'mad' method is deprecated and will be removed in a future version. To compute the same result, you may do `(df - df.mean()).abs().mean()`.\n",
      "  return self.scaled_df[self.numerical_cols].mad().to_dict()\n"
     ]
    },
    {
     "name": "stdout",
     "output_type": "stream",
     "text": [
      "Have saved file to results/hopskipjump_l_inf_compas/eval_hopskipjump_l_inf_compas_nn_2_result.csv\n",
      "Have saved file to results/deepfool_diabetes/eval_deepfool_diabetes_lr_result.csv\n",
      "Have saved file to results/deepfool_diabetes/eval_deepfool_diabetes_svc_result.csv\n",
      "Have saved file to results/deepfool_diabetes/eval_deepfool_diabetes_nn_2_result.csv\n"
     ]
    },
    {
     "name": "stderr",
     "output_type": "stream",
     "text": [
      "c:\\Users\\n10599070\\Documents\\GitHub\\Imperceptibility-in-Adversarial-attack\\utils\\evaluation.py:254: FutureWarning: In a future version, `df.iloc[:, i] = newvals` will attempt to set the values inplace instead of always setting a new array. To retain the old behavior, use either `df[df.columns[i]] = newvals` or, if columns are non-unique, `df.isetitem(i, newvals)`\n",
      "  evaluation_df.loc[:, adv_found_eaval_df.columns] = adv_found_eaval_df\n",
      "c:\\Users\\n10599070\\Documents\\GitHub\\Imperceptibility-in-Adversarial-attack\\utils\\preprocessing.py:226: FutureWarning: The 'mad' method is deprecated and will be removed in a future version. To compute the same result, you may do `(df - df.mean()).abs().mean()`.\n",
      "  return self.scaled_df[self.numerical_cols].mad().to_dict()\n",
      "c:\\Users\\n10599070\\Documents\\GitHub\\Imperceptibility-in-Adversarial-attack\\utils\\evaluation.py:254: FutureWarning: In a future version, `df.iloc[:, i] = newvals` will attempt to set the values inplace instead of always setting a new array. To retain the old behavior, use either `df[df.columns[i]] = newvals` or, if columns are non-unique, `df.isetitem(i, newvals)`\n",
      "  evaluation_df.loc[:, adv_found_eaval_df.columns] = adv_found_eaval_df\n",
      "c:\\Users\\n10599070\\Documents\\GitHub\\Imperceptibility-in-Adversarial-attack\\utils\\preprocessing.py:226: FutureWarning: The 'mad' method is deprecated and will be removed in a future version. To compute the same result, you may do `(df - df.mean()).abs().mean()`.\n",
      "  return self.scaled_df[self.numerical_cols].mad().to_dict()\n",
      "c:\\Users\\n10599070\\Documents\\GitHub\\Imperceptibility-in-Adversarial-attack\\utils\\evaluation.py:254: FutureWarning: In a future version, `df.iloc[:, i] = newvals` will attempt to set the values inplace instead of always setting a new array. To retain the old behavior, use either `df[df.columns[i]] = newvals` or, if columns are non-unique, `df.isetitem(i, newvals)`\n",
      "  evaluation_df.loc[:, adv_found_eaval_df.columns] = adv_found_eaval_df\n",
      "c:\\Users\\n10599070\\Documents\\GitHub\\Imperceptibility-in-Adversarial-attack\\utils\\preprocessing.py:226: FutureWarning: The 'mad' method is deprecated and will be removed in a future version. To compute the same result, you may do `(df - df.mean()).abs().mean()`.\n",
      "  return self.scaled_df[self.numerical_cols].mad().to_dict()\n",
      "c:\\Users\\n10599070\\Documents\\GitHub\\Imperceptibility-in-Adversarial-attack\\utils\\evaluation.py:254: FutureWarning: In a future version, `df.iloc[:, i] = newvals` will attempt to set the values inplace instead of always setting a new array. To retain the old behavior, use either `df[df.columns[i]] = newvals` or, if columns are non-unique, `df.isetitem(i, newvals)`\n",
      "  evaluation_df.loc[:, adv_found_eaval_df.columns] = adv_found_eaval_df\n",
      "c:\\Users\\n10599070\\Documents\\GitHub\\Imperceptibility-in-Adversarial-attack\\utils\\preprocessing.py:226: FutureWarning: The 'mad' method is deprecated and will be removed in a future version. To compute the same result, you may do `(df - df.mean()).abs().mean()`.\n",
      "  return self.scaled_df[self.numerical_cols].mad().to_dict()\n"
     ]
    },
    {
     "name": "stdout",
     "output_type": "stream",
     "text": [
      "Have saved file to results/carlini_l_2_diabetes/eval_carlini_l_2_diabetes_lr_result.csv\n",
      "Have saved file to results/carlini_l_2_diabetes/eval_carlini_l_2_diabetes_svc_result.csv\n",
      "Have saved file to results/carlini_l_2_diabetes/eval_carlini_l_2_diabetes_nn_2_result.csv\n",
      "Have saved file to results/carlini_l_inf_diabetes/eval_carlini_l_inf_diabetes_lr_result.csv\n"
     ]
    },
    {
     "name": "stderr",
     "output_type": "stream",
     "text": [
      "c:\\Users\\n10599070\\Documents\\GitHub\\Imperceptibility-in-Adversarial-attack\\utils\\evaluation.py:254: FutureWarning: In a future version, `df.iloc[:, i] = newvals` will attempt to set the values inplace instead of always setting a new array. To retain the old behavior, use either `df[df.columns[i]] = newvals` or, if columns are non-unique, `df.isetitem(i, newvals)`\n",
      "  evaluation_df.loc[:, adv_found_eaval_df.columns] = adv_found_eaval_df\n",
      "c:\\Users\\n10599070\\Documents\\GitHub\\Imperceptibility-in-Adversarial-attack\\utils\\preprocessing.py:226: FutureWarning: The 'mad' method is deprecated and will be removed in a future version. To compute the same result, you may do `(df - df.mean()).abs().mean()`.\n",
      "  return self.scaled_df[self.numerical_cols].mad().to_dict()\n",
      "c:\\Users\\n10599070\\Documents\\GitHub\\Imperceptibility-in-Adversarial-attack\\utils\\evaluation.py:254: FutureWarning: In a future version, `df.iloc[:, i] = newvals` will attempt to set the values inplace instead of always setting a new array. To retain the old behavior, use either `df[df.columns[i]] = newvals` or, if columns are non-unique, `df.isetitem(i, newvals)`\n",
      "  evaluation_df.loc[:, adv_found_eaval_df.columns] = adv_found_eaval_df\n",
      "c:\\Users\\n10599070\\Documents\\GitHub\\Imperceptibility-in-Adversarial-attack\\utils\\preprocessing.py:226: FutureWarning: The 'mad' method is deprecated and will be removed in a future version. To compute the same result, you may do `(df - df.mean()).abs().mean()`.\n",
      "  return self.scaled_df[self.numerical_cols].mad().to_dict()\n",
      "c:\\Users\\n10599070\\Documents\\GitHub\\Imperceptibility-in-Adversarial-attack\\utils\\evaluation.py:254: FutureWarning: In a future version, `df.iloc[:, i] = newvals` will attempt to set the values inplace instead of always setting a new array. To retain the old behavior, use either `df[df.columns[i]] = newvals` or, if columns are non-unique, `df.isetitem(i, newvals)`\n",
      "  evaluation_df.loc[:, adv_found_eaval_df.columns] = adv_found_eaval_df\n",
      "c:\\Users\\n10599070\\Documents\\GitHub\\Imperceptibility-in-Adversarial-attack\\utils\\preprocessing.py:226: FutureWarning: The 'mad' method is deprecated and will be removed in a future version. To compute the same result, you may do `(df - df.mean()).abs().mean()`.\n",
      "  return self.scaled_df[self.numerical_cols].mad().to_dict()\n",
      "c:\\Users\\n10599070\\Documents\\GitHub\\Imperceptibility-in-Adversarial-attack\\utils\\evaluation.py:254: FutureWarning: In a future version, `df.iloc[:, i] = newvals` will attempt to set the values inplace instead of always setting a new array. To retain the old behavior, use either `df[df.columns[i]] = newvals` or, if columns are non-unique, `df.isetitem(i, newvals)`\n",
      "  evaluation_df.loc[:, adv_found_eaval_df.columns] = adv_found_eaval_df\n",
      "c:\\Users\\n10599070\\Documents\\GitHub\\Imperceptibility-in-Adversarial-attack\\utils\\preprocessing.py:226: FutureWarning: The 'mad' method is deprecated and will be removed in a future version. To compute the same result, you may do `(df - df.mean()).abs().mean()`.\n",
      "  return self.scaled_df[self.numerical_cols].mad().to_dict()\n"
     ]
    },
    {
     "name": "stdout",
     "output_type": "stream",
     "text": [
      "Have saved file to results/carlini_l_inf_diabetes/eval_carlini_l_inf_diabetes_svc_result.csv\n",
      "Have saved file to results/carlini_l_inf_diabetes/eval_carlini_l_inf_diabetes_nn_2_result.csv\n",
      "Have saved file to results/lowprofool_l_2_diabetes/eval_lowprofool_l_2_diabetes_lr_result.csv\n",
      "Have saved file to results/lowprofool_l_2_diabetes/eval_lowprofool_l_2_diabetes_svc_result.csv\n"
     ]
    },
    {
     "name": "stderr",
     "output_type": "stream",
     "text": [
      "c:\\Users\\n10599070\\Documents\\GitHub\\Imperceptibility-in-Adversarial-attack\\utils\\evaluation.py:254: FutureWarning: In a future version, `df.iloc[:, i] = newvals` will attempt to set the values inplace instead of always setting a new array. To retain the old behavior, use either `df[df.columns[i]] = newvals` or, if columns are non-unique, `df.isetitem(i, newvals)`\n",
      "  evaluation_df.loc[:, adv_found_eaval_df.columns] = adv_found_eaval_df\n",
      "c:\\Users\\n10599070\\Documents\\GitHub\\Imperceptibility-in-Adversarial-attack\\utils\\preprocessing.py:226: FutureWarning: The 'mad' method is deprecated and will be removed in a future version. To compute the same result, you may do `(df - df.mean()).abs().mean()`.\n",
      "  return self.scaled_df[self.numerical_cols].mad().to_dict()\n",
      "c:\\Users\\n10599070\\Documents\\GitHub\\Imperceptibility-in-Adversarial-attack\\utils\\evaluation.py:254: FutureWarning: In a future version, `df.iloc[:, i] = newvals` will attempt to set the values inplace instead of always setting a new array. To retain the old behavior, use either `df[df.columns[i]] = newvals` or, if columns are non-unique, `df.isetitem(i, newvals)`\n",
      "  evaluation_df.loc[:, adv_found_eaval_df.columns] = adv_found_eaval_df\n",
      "c:\\Users\\n10599070\\Documents\\GitHub\\Imperceptibility-in-Adversarial-attack\\utils\\preprocessing.py:226: FutureWarning: The 'mad' method is deprecated and will be removed in a future version. To compute the same result, you may do `(df - df.mean()).abs().mean()`.\n",
      "  return self.scaled_df[self.numerical_cols].mad().to_dict()\n",
      "c:\\Users\\n10599070\\Documents\\GitHub\\Imperceptibility-in-Adversarial-attack\\utils\\evaluation.py:254: FutureWarning: In a future version, `df.iloc[:, i] = newvals` will attempt to set the values inplace instead of always setting a new array. To retain the old behavior, use either `df[df.columns[i]] = newvals` or, if columns are non-unique, `df.isetitem(i, newvals)`\n",
      "  evaluation_df.loc[:, adv_found_eaval_df.columns] = adv_found_eaval_df\n",
      "c:\\Users\\n10599070\\Documents\\GitHub\\Imperceptibility-in-Adversarial-attack\\utils\\preprocessing.py:226: FutureWarning: The 'mad' method is deprecated and will be removed in a future version. To compute the same result, you may do `(df - df.mean()).abs().mean()`.\n",
      "  return self.scaled_df[self.numerical_cols].mad().to_dict()\n",
      "c:\\Users\\n10599070\\Documents\\GitHub\\Imperceptibility-in-Adversarial-attack\\utils\\evaluation.py:254: FutureWarning: In a future version, `df.iloc[:, i] = newvals` will attempt to set the values inplace instead of always setting a new array. To retain the old behavior, use either `df[df.columns[i]] = newvals` or, if columns are non-unique, `df.isetitem(i, newvals)`\n",
      "  evaluation_df.loc[:, adv_found_eaval_df.columns] = adv_found_eaval_df\n",
      "c:\\Users\\n10599070\\Documents\\GitHub\\Imperceptibility-in-Adversarial-attack\\utils\\preprocessing.py:226: FutureWarning: The 'mad' method is deprecated and will be removed in a future version. To compute the same result, you may do `(df - df.mean()).abs().mean()`.\n",
      "  return self.scaled_df[self.numerical_cols].mad().to_dict()\n"
     ]
    },
    {
     "name": "stdout",
     "output_type": "stream",
     "text": [
      "Have saved file to results/lowprofool_l_2_diabetes/eval_lowprofool_l_2_diabetes_nn_2_result.csv\n",
      "Have saved file to results/lowprofool_l_inf_diabetes/eval_lowprofool_l_inf_diabetes_lr_result.csv\n",
      "Have saved file to results/lowprofool_l_inf_diabetes/eval_lowprofool_l_inf_diabetes_svc_result.csv\n",
      "Have saved file to results/lowprofool_l_inf_diabetes/eval_lowprofool_l_inf_diabetes_nn_2_result.csv\n"
     ]
    },
    {
     "name": "stderr",
     "output_type": "stream",
     "text": [
      "c:\\Users\\n10599070\\Documents\\GitHub\\Imperceptibility-in-Adversarial-attack\\utils\\evaluation.py:254: FutureWarning: In a future version, `df.iloc[:, i] = newvals` will attempt to set the values inplace instead of always setting a new array. To retain the old behavior, use either `df[df.columns[i]] = newvals` or, if columns are non-unique, `df.isetitem(i, newvals)`\n",
      "  evaluation_df.loc[:, adv_found_eaval_df.columns] = adv_found_eaval_df\n",
      "c:\\Users\\n10599070\\Documents\\GitHub\\Imperceptibility-in-Adversarial-attack\\utils\\preprocessing.py:226: FutureWarning: The 'mad' method is deprecated and will be removed in a future version. To compute the same result, you may do `(df - df.mean()).abs().mean()`.\n",
      "  return self.scaled_df[self.numerical_cols].mad().to_dict()\n",
      "c:\\Users\\n10599070\\Documents\\GitHub\\Imperceptibility-in-Adversarial-attack\\utils\\evaluation.py:254: FutureWarning: In a future version, `df.iloc[:, i] = newvals` will attempt to set the values inplace instead of always setting a new array. To retain the old behavior, use either `df[df.columns[i]] = newvals` or, if columns are non-unique, `df.isetitem(i, newvals)`\n",
      "  evaluation_df.loc[:, adv_found_eaval_df.columns] = adv_found_eaval_df\n",
      "c:\\Users\\n10599070\\Documents\\GitHub\\Imperceptibility-in-Adversarial-attack\\utils\\preprocessing.py:226: FutureWarning: The 'mad' method is deprecated and will be removed in a future version. To compute the same result, you may do `(df - df.mean()).abs().mean()`.\n",
      "  return self.scaled_df[self.numerical_cols].mad().to_dict()\n",
      "c:\\Users\\n10599070\\Documents\\GitHub\\Imperceptibility-in-Adversarial-attack\\utils\\evaluation.py:254: FutureWarning: In a future version, `df.iloc[:, i] = newvals` will attempt to set the values inplace instead of always setting a new array. To retain the old behavior, use either `df[df.columns[i]] = newvals` or, if columns are non-unique, `df.isetitem(i, newvals)`\n",
      "  evaluation_df.loc[:, adv_found_eaval_df.columns] = adv_found_eaval_df\n",
      "c:\\Users\\n10599070\\Documents\\GitHub\\Imperceptibility-in-Adversarial-attack\\utils\\preprocessing.py:226: FutureWarning: The 'mad' method is deprecated and will be removed in a future version. To compute the same result, you may do `(df - df.mean()).abs().mean()`.\n",
      "  return self.scaled_df[self.numerical_cols].mad().to_dict()\n",
      "c:\\Users\\n10599070\\Documents\\GitHub\\Imperceptibility-in-Adversarial-attack\\utils\\evaluation.py:254: FutureWarning: In a future version, `df.iloc[:, i] = newvals` will attempt to set the values inplace instead of always setting a new array. To retain the old behavior, use either `df[df.columns[i]] = newvals` or, if columns are non-unique, `df.isetitem(i, newvals)`\n",
      "  evaluation_df.loc[:, adv_found_eaval_df.columns] = adv_found_eaval_df\n",
      "c:\\Users\\n10599070\\Documents\\GitHub\\Imperceptibility-in-Adversarial-attack\\utils\\preprocessing.py:226: FutureWarning: The 'mad' method is deprecated and will be removed in a future version. To compute the same result, you may do `(df - df.mean()).abs().mean()`.\n",
      "  return self.scaled_df[self.numerical_cols].mad().to_dict()\n"
     ]
    },
    {
     "name": "stdout",
     "output_type": "stream",
     "text": [
      "Have saved file to results/boundary_diabetes/eval_boundary_diabetes_dt_result.csv\n",
      "Have saved file to results/boundary_diabetes/eval_boundary_diabetes_rfc_result.csv\n",
      "Have saved file to results/boundary_diabetes/eval_boundary_diabetes_lr_result.csv\n",
      "Have saved file to results/boundary_diabetes/eval_boundary_diabetes_svc_result.csv\n"
     ]
    },
    {
     "name": "stderr",
     "output_type": "stream",
     "text": [
      "c:\\Users\\n10599070\\Documents\\GitHub\\Imperceptibility-in-Adversarial-attack\\utils\\evaluation.py:254: FutureWarning: In a future version, `df.iloc[:, i] = newvals` will attempt to set the values inplace instead of always setting a new array. To retain the old behavior, use either `df[df.columns[i]] = newvals` or, if columns are non-unique, `df.isetitem(i, newvals)`\n",
      "  evaluation_df.loc[:, adv_found_eaval_df.columns] = adv_found_eaval_df\n",
      "c:\\Users\\n10599070\\Documents\\GitHub\\Imperceptibility-in-Adversarial-attack\\utils\\preprocessing.py:226: FutureWarning: The 'mad' method is deprecated and will be removed in a future version. To compute the same result, you may do `(df - df.mean()).abs().mean()`.\n",
      "  return self.scaled_df[self.numerical_cols].mad().to_dict()\n",
      "c:\\Users\\n10599070\\Documents\\GitHub\\Imperceptibility-in-Adversarial-attack\\utils\\evaluation.py:254: FutureWarning: In a future version, `df.iloc[:, i] = newvals` will attempt to set the values inplace instead of always setting a new array. To retain the old behavior, use either `df[df.columns[i]] = newvals` or, if columns are non-unique, `df.isetitem(i, newvals)`\n",
      "  evaluation_df.loc[:, adv_found_eaval_df.columns] = adv_found_eaval_df\n",
      "c:\\Users\\n10599070\\Documents\\GitHub\\Imperceptibility-in-Adversarial-attack\\utils\\preprocessing.py:226: FutureWarning: The 'mad' method is deprecated and will be removed in a future version. To compute the same result, you may do `(df - df.mean()).abs().mean()`.\n",
      "  return self.scaled_df[self.numerical_cols].mad().to_dict()\n",
      "c:\\Users\\n10599070\\Documents\\GitHub\\Imperceptibility-in-Adversarial-attack\\utils\\evaluation.py:254: FutureWarning: In a future version, `df.iloc[:, i] = newvals` will attempt to set the values inplace instead of always setting a new array. To retain the old behavior, use either `df[df.columns[i]] = newvals` or, if columns are non-unique, `df.isetitem(i, newvals)`\n",
      "  evaluation_df.loc[:, adv_found_eaval_df.columns] = adv_found_eaval_df\n",
      "c:\\Users\\n10599070\\Documents\\GitHub\\Imperceptibility-in-Adversarial-attack\\utils\\preprocessing.py:226: FutureWarning: The 'mad' method is deprecated and will be removed in a future version. To compute the same result, you may do `(df - df.mean()).abs().mean()`.\n",
      "  return self.scaled_df[self.numerical_cols].mad().to_dict()\n",
      "c:\\Users\\n10599070\\Documents\\GitHub\\Imperceptibility-in-Adversarial-attack\\utils\\evaluation.py:254: FutureWarning: In a future version, `df.iloc[:, i] = newvals` will attempt to set the values inplace instead of always setting a new array. To retain the old behavior, use either `df[df.columns[i]] = newvals` or, if columns are non-unique, `df.isetitem(i, newvals)`\n",
      "  evaluation_df.loc[:, adv_found_eaval_df.columns] = adv_found_eaval_df\n"
     ]
    },
    {
     "name": "stdout",
     "output_type": "stream",
     "text": [
      "Have saved file to results/boundary_diabetes/eval_boundary_diabetes_nn_result.csv\n",
      "Have saved file to results/boundary_diabetes/eval_boundary_diabetes_nn_2_result.csv\n",
      "Have saved file to results/hopskipjump_l_2_diabetes/eval_hopskipjump_l_2_diabetes_dt_result.csv\n",
      "Have saved file to results/hopskipjump_l_2_diabetes/eval_hopskipjump_l_2_diabetes_lr_result.csv\n"
     ]
    },
    {
     "name": "stderr",
     "output_type": "stream",
     "text": [
      "c:\\Users\\n10599070\\Documents\\GitHub\\Imperceptibility-in-Adversarial-attack\\utils\\preprocessing.py:226: FutureWarning: The 'mad' method is deprecated and will be removed in a future version. To compute the same result, you may do `(df - df.mean()).abs().mean()`.\n",
      "  return self.scaled_df[self.numerical_cols].mad().to_dict()\n",
      "c:\\Users\\n10599070\\Documents\\GitHub\\Imperceptibility-in-Adversarial-attack\\utils\\evaluation.py:254: FutureWarning: In a future version, `df.iloc[:, i] = newvals` will attempt to set the values inplace instead of always setting a new array. To retain the old behavior, use either `df[df.columns[i]] = newvals` or, if columns are non-unique, `df.isetitem(i, newvals)`\n",
      "  evaluation_df.loc[:, adv_found_eaval_df.columns] = adv_found_eaval_df\n",
      "c:\\Users\\n10599070\\Documents\\GitHub\\Imperceptibility-in-Adversarial-attack\\utils\\preprocessing.py:226: FutureWarning: The 'mad' method is deprecated and will be removed in a future version. To compute the same result, you may do `(df - df.mean()).abs().mean()`.\n",
      "  return self.scaled_df[self.numerical_cols].mad().to_dict()\n",
      "c:\\Users\\n10599070\\Documents\\GitHub\\Imperceptibility-in-Adversarial-attack\\utils\\evaluation.py:254: FutureWarning: In a future version, `df.iloc[:, i] = newvals` will attempt to set the values inplace instead of always setting a new array. To retain the old behavior, use either `df[df.columns[i]] = newvals` or, if columns are non-unique, `df.isetitem(i, newvals)`\n",
      "  evaluation_df.loc[:, adv_found_eaval_df.columns] = adv_found_eaval_df\n",
      "c:\\Users\\n10599070\\Documents\\GitHub\\Imperceptibility-in-Adversarial-attack\\utils\\preprocessing.py:226: FutureWarning: The 'mad' method is deprecated and will be removed in a future version. To compute the same result, you may do `(df - df.mean()).abs().mean()`.\n",
      "  return self.scaled_df[self.numerical_cols].mad().to_dict()\n",
      "c:\\Users\\n10599070\\Documents\\GitHub\\Imperceptibility-in-Adversarial-attack\\utils\\evaluation.py:254: FutureWarning: In a future version, `df.iloc[:, i] = newvals` will attempt to set the values inplace instead of always setting a new array. To retain the old behavior, use either `df[df.columns[i]] = newvals` or, if columns are non-unique, `df.isetitem(i, newvals)`\n",
      "  evaluation_df.loc[:, adv_found_eaval_df.columns] = adv_found_eaval_df\n",
      "c:\\Users\\n10599070\\Documents\\GitHub\\Imperceptibility-in-Adversarial-attack\\utils\\preprocessing.py:226: FutureWarning: The 'mad' method is deprecated and will be removed in a future version. To compute the same result, you may do `(df - df.mean()).abs().mean()`.\n",
      "  return self.scaled_df[self.numerical_cols].mad().to_dict()\n",
      "c:\\Users\\n10599070\\Documents\\GitHub\\Imperceptibility-in-Adversarial-attack\\utils\\evaluation.py:254: FutureWarning: In a future version, `df.iloc[:, i] = newvals` will attempt to set the values inplace instead of always setting a new array. To retain the old behavior, use either `df[df.columns[i]] = newvals` or, if columns are non-unique, `df.isetitem(i, newvals)`\n",
      "  evaluation_df.loc[:, adv_found_eaval_df.columns] = adv_found_eaval_df\n"
     ]
    },
    {
     "name": "stdout",
     "output_type": "stream",
     "text": [
      "Have saved file to results/hopskipjump_l_2_diabetes/eval_hopskipjump_l_2_diabetes_svc_result.csv\n",
      "Have saved file to results/hopskipjump_l_2_diabetes/eval_hopskipjump_l_2_diabetes_nn_result.csv\n",
      "Have saved file to results/hopskipjump_l_2_diabetes/eval_hopskipjump_l_2_diabetes_nn_2_result.csv\n",
      "Have saved file to results/hopskipjump_l_inf_diabetes/eval_hopskipjump_l_inf_diabetes_dt_result.csv\n"
     ]
    },
    {
     "name": "stderr",
     "output_type": "stream",
     "text": [
      "c:\\Users\\n10599070\\Documents\\GitHub\\Imperceptibility-in-Adversarial-attack\\utils\\preprocessing.py:226: FutureWarning: The 'mad' method is deprecated and will be removed in a future version. To compute the same result, you may do `(df - df.mean()).abs().mean()`.\n",
      "  return self.scaled_df[self.numerical_cols].mad().to_dict()\n",
      "c:\\Users\\n10599070\\Documents\\GitHub\\Imperceptibility-in-Adversarial-attack\\utils\\evaluation.py:254: FutureWarning: In a future version, `df.iloc[:, i] = newvals` will attempt to set the values inplace instead of always setting a new array. To retain the old behavior, use either `df[df.columns[i]] = newvals` or, if columns are non-unique, `df.isetitem(i, newvals)`\n",
      "  evaluation_df.loc[:, adv_found_eaval_df.columns] = adv_found_eaval_df\n",
      "c:\\Users\\n10599070\\Documents\\GitHub\\Imperceptibility-in-Adversarial-attack\\utils\\preprocessing.py:226: FutureWarning: The 'mad' method is deprecated and will be removed in a future version. To compute the same result, you may do `(df - df.mean()).abs().mean()`.\n",
      "  return self.scaled_df[self.numerical_cols].mad().to_dict()\n",
      "c:\\Users\\n10599070\\Documents\\GitHub\\Imperceptibility-in-Adversarial-attack\\utils\\evaluation.py:254: FutureWarning: In a future version, `df.iloc[:, i] = newvals` will attempt to set the values inplace instead of always setting a new array. To retain the old behavior, use either `df[df.columns[i]] = newvals` or, if columns are non-unique, `df.isetitem(i, newvals)`\n",
      "  evaluation_df.loc[:, adv_found_eaval_df.columns] = adv_found_eaval_df\n",
      "c:\\Users\\n10599070\\Documents\\GitHub\\Imperceptibility-in-Adversarial-attack\\utils\\preprocessing.py:226: FutureWarning: The 'mad' method is deprecated and will be removed in a future version. To compute the same result, you may do `(df - df.mean()).abs().mean()`.\n",
      "  return self.scaled_df[self.numerical_cols].mad().to_dict()\n",
      "c:\\Users\\n10599070\\Documents\\GitHub\\Imperceptibility-in-Adversarial-attack\\utils\\evaluation.py:254: FutureWarning: In a future version, `df.iloc[:, i] = newvals` will attempt to set the values inplace instead of always setting a new array. To retain the old behavior, use either `df[df.columns[i]] = newvals` or, if columns are non-unique, `df.isetitem(i, newvals)`\n",
      "  evaluation_df.loc[:, adv_found_eaval_df.columns] = adv_found_eaval_df\n",
      "c:\\Users\\n10599070\\Documents\\GitHub\\Imperceptibility-in-Adversarial-attack\\utils\\preprocessing.py:226: FutureWarning: The 'mad' method is deprecated and will be removed in a future version. To compute the same result, you may do `(df - df.mean()).abs().mean()`.\n",
      "  return self.scaled_df[self.numerical_cols].mad().to_dict()\n",
      "c:\\Users\\n10599070\\Documents\\GitHub\\Imperceptibility-in-Adversarial-attack\\utils\\evaluation.py:254: FutureWarning: In a future version, `df.iloc[:, i] = newvals` will attempt to set the values inplace instead of always setting a new array. To retain the old behavior, use either `df[df.columns[i]] = newvals` or, if columns are non-unique, `df.isetitem(i, newvals)`\n",
      "  evaluation_df.loc[:, adv_found_eaval_df.columns] = adv_found_eaval_df\n"
     ]
    },
    {
     "name": "stdout",
     "output_type": "stream",
     "text": [
      "Have saved file to results/hopskipjump_l_inf_diabetes/eval_hopskipjump_l_inf_diabetes_rfc_result.csv\n",
      "Have saved file to results/hopskipjump_l_inf_diabetes/eval_hopskipjump_l_inf_diabetes_lr_result.csv\n",
      "Have saved file to results/hopskipjump_l_inf_diabetes/eval_hopskipjump_l_inf_diabetes_svc_result.csv\n",
      "Have saved file to results/hopskipjump_l_inf_diabetes/eval_hopskipjump_l_inf_diabetes_nn_result.csv\n"
     ]
    },
    {
     "name": "stderr",
     "output_type": "stream",
     "text": [
      "c:\\Users\\n10599070\\Documents\\GitHub\\Imperceptibility-in-Adversarial-attack\\utils\\preprocessing.py:226: FutureWarning: The 'mad' method is deprecated and will be removed in a future version. To compute the same result, you may do `(df - df.mean()).abs().mean()`.\n",
      "  return self.scaled_df[self.numerical_cols].mad().to_dict()\n",
      "c:\\Users\\n10599070\\Documents\\GitHub\\Imperceptibility-in-Adversarial-attack\\utils\\evaluation.py:254: FutureWarning: In a future version, `df.iloc[:, i] = newvals` will attempt to set the values inplace instead of always setting a new array. To retain the old behavior, use either `df[df.columns[i]] = newvals` or, if columns are non-unique, `df.isetitem(i, newvals)`\n",
      "  evaluation_df.loc[:, adv_found_eaval_df.columns] = adv_found_eaval_df\n",
      "c:\\Users\\n10599070\\Documents\\GitHub\\Imperceptibility-in-Adversarial-attack\\utils\\preprocessing.py:226: FutureWarning: The 'mad' method is deprecated and will be removed in a future version. To compute the same result, you may do `(df - df.mean()).abs().mean()`.\n",
      "  return self.scaled_df[self.numerical_cols].mad().to_dict()\n",
      "c:\\Users\\n10599070\\Documents\\GitHub\\Imperceptibility-in-Adversarial-attack\\utils\\evaluation.py:254: FutureWarning: In a future version, `df.iloc[:, i] = newvals` will attempt to set the values inplace instead of always setting a new array. To retain the old behavior, use either `df[df.columns[i]] = newvals` or, if columns are non-unique, `df.isetitem(i, newvals)`\n",
      "  evaluation_df.loc[:, adv_found_eaval_df.columns] = adv_found_eaval_df\n",
      "c:\\Users\\n10599070\\Documents\\GitHub\\Imperceptibility-in-Adversarial-attack\\utils\\preprocessing.py:226: FutureWarning: The 'mad' method is deprecated and will be removed in a future version. To compute the same result, you may do `(df - df.mean()).abs().mean()`.\n",
      "  return self.scaled_df[self.numerical_cols].mad().to_dict()\n",
      "c:\\Users\\n10599070\\Documents\\GitHub\\Imperceptibility-in-Adversarial-attack\\utils\\evaluation.py:254: FutureWarning: In a future version, `df.iloc[:, i] = newvals` will attempt to set the values inplace instead of always setting a new array. To retain the old behavior, use either `df[df.columns[i]] = newvals` or, if columns are non-unique, `df.isetitem(i, newvals)`\n",
      "  evaluation_df.loc[:, adv_found_eaval_df.columns] = adv_found_eaval_df\n",
      "c:\\Users\\n10599070\\Documents\\GitHub\\Imperceptibility-in-Adversarial-attack\\utils\\preprocessing.py:226: FutureWarning: The 'mad' method is deprecated and will be removed in a future version. To compute the same result, you may do `(df - df.mean()).abs().mean()`.\n",
      "  return self.scaled_df[self.numerical_cols].mad().to_dict()\n"
     ]
    },
    {
     "name": "stdout",
     "output_type": "stream",
     "text": [
      "Have saved file to results/hopskipjump_l_inf_diabetes/eval_hopskipjump_l_inf_diabetes_nn_2_result.csv\n",
      "Have saved file to results/deepfool_breast_cancer/eval_deepfool_breast_cancer_lr_result.csv\n"
     ]
    },
    {
     "name": "stderr",
     "output_type": "stream",
     "text": [
      "c:\\Users\\n10599070\\Documents\\GitHub\\Imperceptibility-in-Adversarial-attack\\utils\\evaluation.py:254: FutureWarning: In a future version, `df.iloc[:, i] = newvals` will attempt to set the values inplace instead of always setting a new array. To retain the old behavior, use either `df[df.columns[i]] = newvals` or, if columns are non-unique, `df.isetitem(i, newvals)`\n",
      "  evaluation_df.loc[:, adv_found_eaval_df.columns] = adv_found_eaval_df\n",
      "c:\\Users\\n10599070\\Documents\\GitHub\\Imperceptibility-in-Adversarial-attack\\utils\\preprocessing.py:226: FutureWarning: The 'mad' method is deprecated and will be removed in a future version. To compute the same result, you may do `(df - df.mean()).abs().mean()`.\n",
      "  return self.scaled_df[self.numerical_cols].mad().to_dict()\n",
      "c:\\Users\\n10599070\\Documents\\GitHub\\Imperceptibility-in-Adversarial-attack\\utils\\evaluation.py:254: FutureWarning: In a future version, `df.iloc[:, i] = newvals` will attempt to set the values inplace instead of always setting a new array. To retain the old behavior, use either `df[df.columns[i]] = newvals` or, if columns are non-unique, `df.isetitem(i, newvals)`\n",
      "  evaluation_df.loc[:, adv_found_eaval_df.columns] = adv_found_eaval_df\n",
      "c:\\Users\\n10599070\\Documents\\GitHub\\Imperceptibility-in-Adversarial-attack\\utils\\preprocessing.py:226: FutureWarning: The 'mad' method is deprecated and will be removed in a future version. To compute the same result, you may do `(df - df.mean()).abs().mean()`.\n",
      "  return self.scaled_df[self.numerical_cols].mad().to_dict()\n",
      "c:\\Users\\n10599070\\Documents\\GitHub\\Imperceptibility-in-Adversarial-attack\\utils\\evaluation.py:254: FutureWarning: In a future version, `df.iloc[:, i] = newvals` will attempt to set the values inplace instead of always setting a new array. To retain the old behavior, use either `df[df.columns[i]] = newvals` or, if columns are non-unique, `df.isetitem(i, newvals)`\n",
      "  evaluation_df.loc[:, adv_found_eaval_df.columns] = adv_found_eaval_df\n"
     ]
    },
    {
     "name": "stdout",
     "output_type": "stream",
     "text": [
      "Have saved file to results/deepfool_breast_cancer/eval_deepfool_breast_cancer_svc_result.csv\n",
      "Have saved file to results/deepfool_breast_cancer/eval_deepfool_breast_cancer_nn_2_result.csv\n",
      "Have saved file to results/carlini_l_2_breast_cancer/eval_carlini_l_2_breast_cancer_lr_result.csv\n"
     ]
    },
    {
     "name": "stderr",
     "output_type": "stream",
     "text": [
      "c:\\Users\\n10599070\\Documents\\GitHub\\Imperceptibility-in-Adversarial-attack\\utils\\preprocessing.py:226: FutureWarning: The 'mad' method is deprecated and will be removed in a future version. To compute the same result, you may do `(df - df.mean()).abs().mean()`.\n",
      "  return self.scaled_df[self.numerical_cols].mad().to_dict()\n",
      "c:\\Users\\n10599070\\Documents\\GitHub\\Imperceptibility-in-Adversarial-attack\\utils\\evaluation.py:254: FutureWarning: In a future version, `df.iloc[:, i] = newvals` will attempt to set the values inplace instead of always setting a new array. To retain the old behavior, use either `df[df.columns[i]] = newvals` or, if columns are non-unique, `df.isetitem(i, newvals)`\n",
      "  evaluation_df.loc[:, adv_found_eaval_df.columns] = adv_found_eaval_df\n",
      "c:\\Users\\n10599070\\Documents\\GitHub\\Imperceptibility-in-Adversarial-attack\\utils\\preprocessing.py:226: FutureWarning: The 'mad' method is deprecated and will be removed in a future version. To compute the same result, you may do `(df - df.mean()).abs().mean()`.\n",
      "  return self.scaled_df[self.numerical_cols].mad().to_dict()\n",
      "c:\\Users\\n10599070\\Documents\\GitHub\\Imperceptibility-in-Adversarial-attack\\utils\\evaluation.py:254: FutureWarning: In a future version, `df.iloc[:, i] = newvals` will attempt to set the values inplace instead of always setting a new array. To retain the old behavior, use either `df[df.columns[i]] = newvals` or, if columns are non-unique, `df.isetitem(i, newvals)`\n",
      "  evaluation_df.loc[:, adv_found_eaval_df.columns] = adv_found_eaval_df\n",
      "c:\\Users\\n10599070\\Documents\\GitHub\\Imperceptibility-in-Adversarial-attack\\utils\\preprocessing.py:226: FutureWarning: The 'mad' method is deprecated and will be removed in a future version. To compute the same result, you may do `(df - df.mean()).abs().mean()`.\n",
      "  return self.scaled_df[self.numerical_cols].mad().to_dict()\n"
     ]
    },
    {
     "name": "stdout",
     "output_type": "stream",
     "text": [
      "Have saved file to results/carlini_l_2_breast_cancer/eval_carlini_l_2_breast_cancer_svc_result.csv\n",
      "Have saved file to results/carlini_l_2_breast_cancer/eval_carlini_l_2_breast_cancer_nn_2_result.csv\n",
      "Have saved file to results/carlini_l_inf_breast_cancer/eval_carlini_l_inf_breast_cancer_lr_result.csv\n"
     ]
    },
    {
     "name": "stderr",
     "output_type": "stream",
     "text": [
      "c:\\Users\\n10599070\\Documents\\GitHub\\Imperceptibility-in-Adversarial-attack\\utils\\evaluation.py:254: FutureWarning: In a future version, `df.iloc[:, i] = newvals` will attempt to set the values inplace instead of always setting a new array. To retain the old behavior, use either `df[df.columns[i]] = newvals` or, if columns are non-unique, `df.isetitem(i, newvals)`\n",
      "  evaluation_df.loc[:, adv_found_eaval_df.columns] = adv_found_eaval_df\n",
      "c:\\Users\\n10599070\\Documents\\GitHub\\Imperceptibility-in-Adversarial-attack\\utils\\preprocessing.py:226: FutureWarning: The 'mad' method is deprecated and will be removed in a future version. To compute the same result, you may do `(df - df.mean()).abs().mean()`.\n",
      "  return self.scaled_df[self.numerical_cols].mad().to_dict()\n",
      "c:\\Users\\n10599070\\Documents\\GitHub\\Imperceptibility-in-Adversarial-attack\\utils\\evaluation.py:254: FutureWarning: In a future version, `df.iloc[:, i] = newvals` will attempt to set the values inplace instead of always setting a new array. To retain the old behavior, use either `df[df.columns[i]] = newvals` or, if columns are non-unique, `df.isetitem(i, newvals)`\n",
      "  evaluation_df.loc[:, adv_found_eaval_df.columns] = adv_found_eaval_df\n",
      "c:\\Users\\n10599070\\Documents\\GitHub\\Imperceptibility-in-Adversarial-attack\\utils\\preprocessing.py:226: FutureWarning: The 'mad' method is deprecated and will be removed in a future version. To compute the same result, you may do `(df - df.mean()).abs().mean()`.\n",
      "  return self.scaled_df[self.numerical_cols].mad().to_dict()\n",
      "c:\\Users\\n10599070\\Documents\\GitHub\\Imperceptibility-in-Adversarial-attack\\utils\\evaluation.py:254: FutureWarning: In a future version, `df.iloc[:, i] = newvals` will attempt to set the values inplace instead of always setting a new array. To retain the old behavior, use either `df[df.columns[i]] = newvals` or, if columns are non-unique, `df.isetitem(i, newvals)`\n",
      "  evaluation_df.loc[:, adv_found_eaval_df.columns] = adv_found_eaval_df\n"
     ]
    },
    {
     "name": "stdout",
     "output_type": "stream",
     "text": [
      "Have saved file to results/carlini_l_inf_breast_cancer/eval_carlini_l_inf_breast_cancer_svc_result.csv\n",
      "Have saved file to results/carlini_l_inf_breast_cancer/eval_carlini_l_inf_breast_cancer_nn_2_result.csv\n"
     ]
    },
    {
     "name": "stderr",
     "output_type": "stream",
     "text": [
      "c:\\Users\\n10599070\\Documents\\GitHub\\Imperceptibility-in-Adversarial-attack\\utils\\preprocessing.py:226: FutureWarning: The 'mad' method is deprecated and will be removed in a future version. To compute the same result, you may do `(df - df.mean()).abs().mean()`.\n",
      "  return self.scaled_df[self.numerical_cols].mad().to_dict()\n",
      "c:\\Users\\n10599070\\Documents\\GitHub\\Imperceptibility-in-Adversarial-attack\\utils\\evaluation.py:254: FutureWarning: In a future version, `df.iloc[:, i] = newvals` will attempt to set the values inplace instead of always setting a new array. To retain the old behavior, use either `df[df.columns[i]] = newvals` or, if columns are non-unique, `df.isetitem(i, newvals)`\n",
      "  evaluation_df.loc[:, adv_found_eaval_df.columns] = adv_found_eaval_df\n",
      "c:\\Users\\n10599070\\Documents\\GitHub\\Imperceptibility-in-Adversarial-attack\\utils\\preprocessing.py:226: FutureWarning: The 'mad' method is deprecated and will be removed in a future version. To compute the same result, you may do `(df - df.mean()).abs().mean()`.\n",
      "  return self.scaled_df[self.numerical_cols].mad().to_dict()\n",
      "c:\\Users\\n10599070\\Documents\\GitHub\\Imperceptibility-in-Adversarial-attack\\utils\\evaluation.py:254: FutureWarning: In a future version, `df.iloc[:, i] = newvals` will attempt to set the values inplace instead of always setting a new array. To retain the old behavior, use either `df[df.columns[i]] = newvals` or, if columns are non-unique, `df.isetitem(i, newvals)`\n",
      "  evaluation_df.loc[:, adv_found_eaval_df.columns] = adv_found_eaval_df\n",
      "c:\\Users\\n10599070\\Documents\\GitHub\\Imperceptibility-in-Adversarial-attack\\utils\\preprocessing.py:226: FutureWarning: The 'mad' method is deprecated and will be removed in a future version. To compute the same result, you may do `(df - df.mean()).abs().mean()`.\n",
      "  return self.scaled_df[self.numerical_cols].mad().to_dict()\n"
     ]
    },
    {
     "name": "stdout",
     "output_type": "stream",
     "text": [
      "Have saved file to results/lowprofool_l_2_breast_cancer/eval_lowprofool_l_2_breast_cancer_lr_result.csv\n",
      "Have saved file to results/lowprofool_l_2_breast_cancer/eval_lowprofool_l_2_breast_cancer_svc_result.csv\n"
     ]
    },
    {
     "name": "stderr",
     "output_type": "stream",
     "text": [
      "c:\\Users\\n10599070\\Documents\\GitHub\\Imperceptibility-in-Adversarial-attack\\utils\\evaluation.py:254: FutureWarning: In a future version, `df.iloc[:, i] = newvals` will attempt to set the values inplace instead of always setting a new array. To retain the old behavior, use either `df[df.columns[i]] = newvals` or, if columns are non-unique, `df.isetitem(i, newvals)`\n",
      "  evaluation_df.loc[:, adv_found_eaval_df.columns] = adv_found_eaval_df\n",
      "c:\\Users\\n10599070\\Documents\\GitHub\\Imperceptibility-in-Adversarial-attack\\utils\\preprocessing.py:226: FutureWarning: The 'mad' method is deprecated and will be removed in a future version. To compute the same result, you may do `(df - df.mean()).abs().mean()`.\n",
      "  return self.scaled_df[self.numerical_cols].mad().to_dict()\n",
      "c:\\Users\\n10599070\\Documents\\GitHub\\Imperceptibility-in-Adversarial-attack\\utils\\evaluation.py:254: FutureWarning: In a future version, `df.iloc[:, i] = newvals` will attempt to set the values inplace instead of always setting a new array. To retain the old behavior, use either `df[df.columns[i]] = newvals` or, if columns are non-unique, `df.isetitem(i, newvals)`\n",
      "  evaluation_df.loc[:, adv_found_eaval_df.columns] = adv_found_eaval_df\n",
      "c:\\Users\\n10599070\\Documents\\GitHub\\Imperceptibility-in-Adversarial-attack\\utils\\preprocessing.py:226: FutureWarning: The 'mad' method is deprecated and will be removed in a future version. To compute the same result, you may do `(df - df.mean()).abs().mean()`.\n",
      "  return self.scaled_df[self.numerical_cols].mad().to_dict()\n",
      "c:\\Users\\n10599070\\Documents\\GitHub\\Imperceptibility-in-Adversarial-attack\\utils\\evaluation.py:254: FutureWarning: In a future version, `df.iloc[:, i] = newvals` will attempt to set the values inplace instead of always setting a new array. To retain the old behavior, use either `df[df.columns[i]] = newvals` or, if columns are non-unique, `df.isetitem(i, newvals)`\n",
      "  evaluation_df.loc[:, adv_found_eaval_df.columns] = adv_found_eaval_df\n"
     ]
    },
    {
     "name": "stdout",
     "output_type": "stream",
     "text": [
      "Have saved file to results/lowprofool_l_2_breast_cancer/eval_lowprofool_l_2_breast_cancer_nn_2_result.csv\n",
      "Have saved file to results/lowprofool_l_inf_breast_cancer/eval_lowprofool_l_inf_breast_cancer_lr_result.csv\n",
      "Have saved file to results/lowprofool_l_inf_breast_cancer/eval_lowprofool_l_inf_breast_cancer_svc_result.csv\n"
     ]
    },
    {
     "name": "stderr",
     "output_type": "stream",
     "text": [
      "c:\\Users\\n10599070\\Documents\\GitHub\\Imperceptibility-in-Adversarial-attack\\utils\\preprocessing.py:226: FutureWarning: The 'mad' method is deprecated and will be removed in a future version. To compute the same result, you may do `(df - df.mean()).abs().mean()`.\n",
      "  return self.scaled_df[self.numerical_cols].mad().to_dict()\n",
      "c:\\Users\\n10599070\\Documents\\GitHub\\Imperceptibility-in-Adversarial-attack\\utils\\evaluation.py:254: FutureWarning: In a future version, `df.iloc[:, i] = newvals` will attempt to set the values inplace instead of always setting a new array. To retain the old behavior, use either `df[df.columns[i]] = newvals` or, if columns are non-unique, `df.isetitem(i, newvals)`\n",
      "  evaluation_df.loc[:, adv_found_eaval_df.columns] = adv_found_eaval_df\n",
      "c:\\Users\\n10599070\\Documents\\GitHub\\Imperceptibility-in-Adversarial-attack\\utils\\preprocessing.py:226: FutureWarning: The 'mad' method is deprecated and will be removed in a future version. To compute the same result, you may do `(df - df.mean()).abs().mean()`.\n",
      "  return self.scaled_df[self.numerical_cols].mad().to_dict()\n",
      "c:\\Users\\n10599070\\Documents\\GitHub\\Imperceptibility-in-Adversarial-attack\\utils\\evaluation.py:254: FutureWarning: In a future version, `df.iloc[:, i] = newvals` will attempt to set the values inplace instead of always setting a new array. To retain the old behavior, use either `df[df.columns[i]] = newvals` or, if columns are non-unique, `df.isetitem(i, newvals)`\n",
      "  evaluation_df.loc[:, adv_found_eaval_df.columns] = adv_found_eaval_df\n",
      "c:\\Users\\n10599070\\Documents\\GitHub\\Imperceptibility-in-Adversarial-attack\\utils\\preprocessing.py:226: FutureWarning: The 'mad' method is deprecated and will be removed in a future version. To compute the same result, you may do `(df - df.mean()).abs().mean()`.\n",
      "  return self.scaled_df[self.numerical_cols].mad().to_dict()\n"
     ]
    },
    {
     "name": "stdout",
     "output_type": "stream",
     "text": [
      "Have saved file to results/lowprofool_l_inf_breast_cancer/eval_lowprofool_l_inf_breast_cancer_nn_2_result.csv\n",
      "Have saved file to results/boundary_breast_cancer/eval_boundary_breast_cancer_dt_result.csv\n"
     ]
    },
    {
     "name": "stderr",
     "output_type": "stream",
     "text": [
      "c:\\Users\\n10599070\\Documents\\GitHub\\Imperceptibility-in-Adversarial-attack\\utils\\evaluation.py:254: FutureWarning: In a future version, `df.iloc[:, i] = newvals` will attempt to set the values inplace instead of always setting a new array. To retain the old behavior, use either `df[df.columns[i]] = newvals` or, if columns are non-unique, `df.isetitem(i, newvals)`\n",
      "  evaluation_df.loc[:, adv_found_eaval_df.columns] = adv_found_eaval_df\n",
      "c:\\Users\\n10599070\\Documents\\GitHub\\Imperceptibility-in-Adversarial-attack\\utils\\preprocessing.py:226: FutureWarning: The 'mad' method is deprecated and will be removed in a future version. To compute the same result, you may do `(df - df.mean()).abs().mean()`.\n",
      "  return self.scaled_df[self.numerical_cols].mad().to_dict()\n",
      "c:\\Users\\n10599070\\Documents\\GitHub\\Imperceptibility-in-Adversarial-attack\\utils\\evaluation.py:254: FutureWarning: In a future version, `df.iloc[:, i] = newvals` will attempt to set the values inplace instead of always setting a new array. To retain the old behavior, use either `df[df.columns[i]] = newvals` or, if columns are non-unique, `df.isetitem(i, newvals)`\n",
      "  evaluation_df.loc[:, adv_found_eaval_df.columns] = adv_found_eaval_df\n",
      "c:\\Users\\n10599070\\Documents\\GitHub\\Imperceptibility-in-Adversarial-attack\\utils\\preprocessing.py:226: FutureWarning: The 'mad' method is deprecated and will be removed in a future version. To compute the same result, you may do `(df - df.mean()).abs().mean()`.\n",
      "  return self.scaled_df[self.numerical_cols].mad().to_dict()\n",
      "c:\\Users\\n10599070\\Documents\\GitHub\\Imperceptibility-in-Adversarial-attack\\utils\\evaluation.py:254: FutureWarning: In a future version, `df.iloc[:, i] = newvals` will attempt to set the values inplace instead of always setting a new array. To retain the old behavior, use either `df[df.columns[i]] = newvals` or, if columns are non-unique, `df.isetitem(i, newvals)`\n",
      "  evaluation_df.loc[:, adv_found_eaval_df.columns] = adv_found_eaval_df\n",
      "c:\\Users\\n10599070\\Documents\\GitHub\\Imperceptibility-in-Adversarial-attack\\utils\\preprocessing.py:226: FutureWarning: The 'mad' method is deprecated and will be removed in a future version. To compute the same result, you may do `(df - df.mean()).abs().mean()`.\n",
      "  return self.scaled_df[self.numerical_cols].mad().to_dict()\n"
     ]
    },
    {
     "name": "stdout",
     "output_type": "stream",
     "text": [
      "Have saved file to results/boundary_breast_cancer/eval_boundary_breast_cancer_rfc_result.csv\n",
      "Have saved file to results/boundary_breast_cancer/eval_boundary_breast_cancer_lr_result.csv\n",
      "Have saved file to results/boundary_breast_cancer/eval_boundary_breast_cancer_svc_result.csv\n"
     ]
    },
    {
     "name": "stderr",
     "output_type": "stream",
     "text": [
      "c:\\Users\\n10599070\\Documents\\GitHub\\Imperceptibility-in-Adversarial-attack\\utils\\evaluation.py:254: FutureWarning: In a future version, `df.iloc[:, i] = newvals` will attempt to set the values inplace instead of always setting a new array. To retain the old behavior, use either `df[df.columns[i]] = newvals` or, if columns are non-unique, `df.isetitem(i, newvals)`\n",
      "  evaluation_df.loc[:, adv_found_eaval_df.columns] = adv_found_eaval_df\n",
      "c:\\Users\\n10599070\\Documents\\GitHub\\Imperceptibility-in-Adversarial-attack\\utils\\preprocessing.py:226: FutureWarning: The 'mad' method is deprecated and will be removed in a future version. To compute the same result, you may do `(df - df.mean()).abs().mean()`.\n",
      "  return self.scaled_df[self.numerical_cols].mad().to_dict()\n",
      "c:\\Users\\n10599070\\Documents\\GitHub\\Imperceptibility-in-Adversarial-attack\\utils\\evaluation.py:254: FutureWarning: In a future version, `df.iloc[:, i] = newvals` will attempt to set the values inplace instead of always setting a new array. To retain the old behavior, use either `df[df.columns[i]] = newvals` or, if columns are non-unique, `df.isetitem(i, newvals)`\n",
      "  evaluation_df.loc[:, adv_found_eaval_df.columns] = adv_found_eaval_df\n",
      "c:\\Users\\n10599070\\Documents\\GitHub\\Imperceptibility-in-Adversarial-attack\\utils\\preprocessing.py:226: FutureWarning: The 'mad' method is deprecated and will be removed in a future version. To compute the same result, you may do `(df - df.mean()).abs().mean()`.\n",
      "  return self.scaled_df[self.numerical_cols].mad().to_dict()\n",
      "c:\\Users\\n10599070\\Documents\\GitHub\\Imperceptibility-in-Adversarial-attack\\utils\\evaluation.py:254: FutureWarning: In a future version, `df.iloc[:, i] = newvals` will attempt to set the values inplace instead of always setting a new array. To retain the old behavior, use either `df[df.columns[i]] = newvals` or, if columns are non-unique, `df.isetitem(i, newvals)`\n",
      "  evaluation_df.loc[:, adv_found_eaval_df.columns] = adv_found_eaval_df\n",
      "c:\\Users\\n10599070\\Documents\\GitHub\\Imperceptibility-in-Adversarial-attack\\utils\\preprocessing.py:226: FutureWarning: The 'mad' method is deprecated and will be removed in a future version. To compute the same result, you may do `(df - df.mean()).abs().mean()`.\n",
      "  return self.scaled_df[self.numerical_cols].mad().to_dict()\n"
     ]
    },
    {
     "name": "stdout",
     "output_type": "stream",
     "text": [
      "Have saved file to results/boundary_breast_cancer/eval_boundary_breast_cancer_nn_result.csv\n",
      "Have saved file to results/boundary_breast_cancer/eval_boundary_breast_cancer_nn_2_result.csv\n"
     ]
    },
    {
     "name": "stderr",
     "output_type": "stream",
     "text": [
      "c:\\Users\\n10599070\\Documents\\GitHub\\Imperceptibility-in-Adversarial-attack\\utils\\evaluation.py:254: FutureWarning: In a future version, `df.iloc[:, i] = newvals` will attempt to set the values inplace instead of always setting a new array. To retain the old behavior, use either `df[df.columns[i]] = newvals` or, if columns are non-unique, `df.isetitem(i, newvals)`\n",
      "  evaluation_df.loc[:, adv_found_eaval_df.columns] = adv_found_eaval_df\n",
      "c:\\Users\\n10599070\\Documents\\GitHub\\Imperceptibility-in-Adversarial-attack\\utils\\preprocessing.py:226: FutureWarning: The 'mad' method is deprecated and will be removed in a future version. To compute the same result, you may do `(df - df.mean()).abs().mean()`.\n",
      "  return self.scaled_df[self.numerical_cols].mad().to_dict()\n",
      "c:\\Users\\n10599070\\Documents\\GitHub\\Imperceptibility-in-Adversarial-attack\\utils\\evaluation.py:254: FutureWarning: In a future version, `df.iloc[:, i] = newvals` will attempt to set the values inplace instead of always setting a new array. To retain the old behavior, use either `df[df.columns[i]] = newvals` or, if columns are non-unique, `df.isetitem(i, newvals)`\n",
      "  evaluation_df.loc[:, adv_found_eaval_df.columns] = adv_found_eaval_df\n",
      "c:\\Users\\n10599070\\Documents\\GitHub\\Imperceptibility-in-Adversarial-attack\\utils\\preprocessing.py:226: FutureWarning: The 'mad' method is deprecated and will be removed in a future version. To compute the same result, you may do `(df - df.mean()).abs().mean()`.\n",
      "  return self.scaled_df[self.numerical_cols].mad().to_dict()\n",
      "c:\\Users\\n10599070\\Documents\\GitHub\\Imperceptibility-in-Adversarial-attack\\utils\\evaluation.py:254: FutureWarning: In a future version, `df.iloc[:, i] = newvals` will attempt to set the values inplace instead of always setting a new array. To retain the old behavior, use either `df[df.columns[i]] = newvals` or, if columns are non-unique, `df.isetitem(i, newvals)`\n",
      "  evaluation_df.loc[:, adv_found_eaval_df.columns] = adv_found_eaval_df\n",
      "c:\\Users\\n10599070\\Documents\\GitHub\\Imperceptibility-in-Adversarial-attack\\utils\\preprocessing.py:226: FutureWarning: The 'mad' method is deprecated and will be removed in a future version. To compute the same result, you may do `(df - df.mean()).abs().mean()`.\n",
      "  return self.scaled_df[self.numerical_cols].mad().to_dict()\n"
     ]
    },
    {
     "name": "stdout",
     "output_type": "stream",
     "text": [
      "Have saved file to results/hopskipjump_l_2_breast_cancer/eval_hopskipjump_l_2_breast_cancer_dt_result.csv\n",
      "Have saved file to results/hopskipjump_l_2_breast_cancer/eval_hopskipjump_l_2_breast_cancer_rfc_result.csv\n",
      "Have saved file to results/hopskipjump_l_2_breast_cancer/eval_hopskipjump_l_2_breast_cancer_lr_result.csv\n"
     ]
    },
    {
     "name": "stderr",
     "output_type": "stream",
     "text": [
      "c:\\Users\\n10599070\\Documents\\GitHub\\Imperceptibility-in-Adversarial-attack\\utils\\evaluation.py:254: FutureWarning: In a future version, `df.iloc[:, i] = newvals` will attempt to set the values inplace instead of always setting a new array. To retain the old behavior, use either `df[df.columns[i]] = newvals` or, if columns are non-unique, `df.isetitem(i, newvals)`\n",
      "  evaluation_df.loc[:, adv_found_eaval_df.columns] = adv_found_eaval_df\n",
      "c:\\Users\\n10599070\\Documents\\GitHub\\Imperceptibility-in-Adversarial-attack\\utils\\preprocessing.py:226: FutureWarning: The 'mad' method is deprecated and will be removed in a future version. To compute the same result, you may do `(df - df.mean()).abs().mean()`.\n",
      "  return self.scaled_df[self.numerical_cols].mad().to_dict()\n",
      "c:\\Users\\n10599070\\Documents\\GitHub\\Imperceptibility-in-Adversarial-attack\\utils\\evaluation.py:254: FutureWarning: In a future version, `df.iloc[:, i] = newvals` will attempt to set the values inplace instead of always setting a new array. To retain the old behavior, use either `df[df.columns[i]] = newvals` or, if columns are non-unique, `df.isetitem(i, newvals)`\n",
      "  evaluation_df.loc[:, adv_found_eaval_df.columns] = adv_found_eaval_df\n",
      "c:\\Users\\n10599070\\Documents\\GitHub\\Imperceptibility-in-Adversarial-attack\\utils\\preprocessing.py:226: FutureWarning: The 'mad' method is deprecated and will be removed in a future version. To compute the same result, you may do `(df - df.mean()).abs().mean()`.\n",
      "  return self.scaled_df[self.numerical_cols].mad().to_dict()\n",
      "c:\\Users\\n10599070\\Documents\\GitHub\\Imperceptibility-in-Adversarial-attack\\utils\\evaluation.py:254: FutureWarning: In a future version, `df.iloc[:, i] = newvals` will attempt to set the values inplace instead of always setting a new array. To retain the old behavior, use either `df[df.columns[i]] = newvals` or, if columns are non-unique, `df.isetitem(i, newvals)`\n",
      "  evaluation_df.loc[:, adv_found_eaval_df.columns] = adv_found_eaval_df\n",
      "c:\\Users\\n10599070\\Documents\\GitHub\\Imperceptibility-in-Adversarial-attack\\utils\\preprocessing.py:226: FutureWarning: The 'mad' method is deprecated and will be removed in a future version. To compute the same result, you may do `(df - df.mean()).abs().mean()`.\n",
      "  return self.scaled_df[self.numerical_cols].mad().to_dict()\n"
     ]
    },
    {
     "name": "stdout",
     "output_type": "stream",
     "text": [
      "Have saved file to results/hopskipjump_l_2_breast_cancer/eval_hopskipjump_l_2_breast_cancer_svc_result.csv\n",
      "Have saved file to results/hopskipjump_l_2_breast_cancer/eval_hopskipjump_l_2_breast_cancer_nn_result.csv\n",
      "Have saved file to results/hopskipjump_l_2_breast_cancer/eval_hopskipjump_l_2_breast_cancer_nn_2_result.csv\n"
     ]
    },
    {
     "name": "stderr",
     "output_type": "stream",
     "text": [
      "c:\\Users\\n10599070\\Documents\\GitHub\\Imperceptibility-in-Adversarial-attack\\utils\\evaluation.py:254: FutureWarning: In a future version, `df.iloc[:, i] = newvals` will attempt to set the values inplace instead of always setting a new array. To retain the old behavior, use either `df[df.columns[i]] = newvals` or, if columns are non-unique, `df.isetitem(i, newvals)`\n",
      "  evaluation_df.loc[:, adv_found_eaval_df.columns] = adv_found_eaval_df\n",
      "c:\\Users\\n10599070\\Documents\\GitHub\\Imperceptibility-in-Adversarial-attack\\utils\\preprocessing.py:226: FutureWarning: The 'mad' method is deprecated and will be removed in a future version. To compute the same result, you may do `(df - df.mean()).abs().mean()`.\n",
      "  return self.scaled_df[self.numerical_cols].mad().to_dict()\n",
      "c:\\Users\\n10599070\\Documents\\GitHub\\Imperceptibility-in-Adversarial-attack\\utils\\evaluation.py:254: FutureWarning: In a future version, `df.iloc[:, i] = newvals` will attempt to set the values inplace instead of always setting a new array. To retain the old behavior, use either `df[df.columns[i]] = newvals` or, if columns are non-unique, `df.isetitem(i, newvals)`\n",
      "  evaluation_df.loc[:, adv_found_eaval_df.columns] = adv_found_eaval_df\n",
      "c:\\Users\\n10599070\\Documents\\GitHub\\Imperceptibility-in-Adversarial-attack\\utils\\preprocessing.py:226: FutureWarning: The 'mad' method is deprecated and will be removed in a future version. To compute the same result, you may do `(df - df.mean()).abs().mean()`.\n",
      "  return self.scaled_df[self.numerical_cols].mad().to_dict()\n",
      "c:\\Users\\n10599070\\Documents\\GitHub\\Imperceptibility-in-Adversarial-attack\\utils\\evaluation.py:254: FutureWarning: In a future version, `df.iloc[:, i] = newvals` will attempt to set the values inplace instead of always setting a new array. To retain the old behavior, use either `df[df.columns[i]] = newvals` or, if columns are non-unique, `df.isetitem(i, newvals)`\n",
      "  evaluation_df.loc[:, adv_found_eaval_df.columns] = adv_found_eaval_df\n",
      "c:\\Users\\n10599070\\Documents\\GitHub\\Imperceptibility-in-Adversarial-attack\\utils\\preprocessing.py:226: FutureWarning: The 'mad' method is deprecated and will be removed in a future version. To compute the same result, you may do `(df - df.mean()).abs().mean()`.\n",
      "  return self.scaled_df[self.numerical_cols].mad().to_dict()\n"
     ]
    },
    {
     "name": "stdout",
     "output_type": "stream",
     "text": [
      "Have saved file to results/hopskipjump_l_inf_breast_cancer/eval_hopskipjump_l_inf_breast_cancer_dt_result.csv\n",
      "Have saved file to results/hopskipjump_l_inf_breast_cancer/eval_hopskipjump_l_inf_breast_cancer_rfc_result.csv\n",
      "Have saved file to results/hopskipjump_l_inf_breast_cancer/eval_hopskipjump_l_inf_breast_cancer_lr_result.csv\n",
      "Have saved file to results/hopskipjump_l_inf_breast_cancer/eval_hopskipjump_l_inf_breast_cancer_svc_result.csv\n",
      "Have saved file to results/hopskipjump_l_inf_breast_cancer/eval_hopskipjump_l_inf_breast_cancer_nn_result.csv\n",
      "Have saved file to results/hopskipjump_l_inf_breast_cancer/eval_hopskipjump_l_inf_breast_cancer_nn_2_result.csv\n"
     ]
    },
    {
     "name": "stderr",
     "output_type": "stream",
     "text": [
      "c:\\Users\\n10599070\\Documents\\GitHub\\Imperceptibility-in-Adversarial-attack\\utils\\evaluation.py:254: FutureWarning: In a future version, `df.iloc[:, i] = newvals` will attempt to set the values inplace instead of always setting a new array. To retain the old behavior, use either `df[df.columns[i]] = newvals` or, if columns are non-unique, `df.isetitem(i, newvals)`\n",
      "  evaluation_df.loc[:, adv_found_eaval_df.columns] = adv_found_eaval_df\n",
      "c:\\Users\\n10599070\\Documents\\GitHub\\Imperceptibility-in-Adversarial-attack\\utils\\preprocessing.py:226: FutureWarning: The 'mad' method is deprecated and will be removed in a future version. To compute the same result, you may do `(df - df.mean()).abs().mean()`.\n",
      "  return self.scaled_df[self.numerical_cols].mad().to_dict()\n",
      "c:\\Users\\n10599070\\Documents\\GitHub\\Imperceptibility-in-Adversarial-attack\\utils\\evaluation.py:254: FutureWarning: In a future version, `df.iloc[:, i] = newvals` will attempt to set the values inplace instead of always setting a new array. To retain the old behavior, use either `df[df.columns[i]] = newvals` or, if columns are non-unique, `df.isetitem(i, newvals)`\n",
      "  evaluation_df.loc[:, adv_found_eaval_df.columns] = adv_found_eaval_df\n",
      "c:\\Users\\n10599070\\Documents\\GitHub\\Imperceptibility-in-Adversarial-attack\\utils\\preprocessing.py:226: FutureWarning: The 'mad' method is deprecated and will be removed in a future version. To compute the same result, you may do `(df - df.mean()).abs().mean()`.\n",
      "  return self.scaled_df[self.numerical_cols].mad().to_dict()\n",
      "c:\\Users\\n10599070\\Documents\\GitHub\\Imperceptibility-in-Adversarial-attack\\utils\\evaluation.py:254: FutureWarning: In a future version, `df.iloc[:, i] = newvals` will attempt to set the values inplace instead of always setting a new array. To retain the old behavior, use either `df[df.columns[i]] = newvals` or, if columns are non-unique, `df.isetitem(i, newvals)`\n",
      "  evaluation_df.loc[:, adv_found_eaval_df.columns] = adv_found_eaval_df\n"
     ]
    }
   ],
   "source": [
    "#### Select dataset ####\n",
    "\n",
    "for dataset_name in datasets:\n",
    "    df_info = preprocess_df(get_loading_fn(dataset_name))\n",
    "    for attack in attack_list:\n",
    "        folder_name = f'{attack}_{dataset_name}'\n",
    "        for model_name in models:\n",
    "            file_name = f'{folder_name}_{model_name}_result.csv'\n",
    "            result_path = f'./results/{folder_name}/{file_name}'\n",
    "            if os.path.isfile(result_path):\n",
    "                result_df = pd.read_csv(result_path)\n",
    "                evaluation_df = get_evaluations(result_df, \n",
    "                    df_info, \n",
    "                    matrix = [\n",
    "                        EvaluationMatrix.L1, \n",
    "                        EvaluationMatrix.L2, \n",
    "                        EvaluationMatrix.Linf,\n",
    "                        EvaluationMatrix.Sparsity, \n",
    "                        EvaluationMatrix.Realistic, \n",
    "                        EvaluationMatrix.MAD, \n",
    "                        EvaluationMatrix.Mahalanobis,\n",
    "                        # EvaluationMatrix.Perturbation_Sensitivity,\n",
    "                        EvaluationMatrix.Neighbour_Distance,\n",
    "                        ])\n",
    "\n",
    "                csv_save_result_path = f'results/{folder_name}/eval_{file_name}'\n",
    "                evaluation_df.to_csv(csv_save_result_path)\n",
    "                print(f\"Have saved file to {csv_save_result_path}\")\n"
   ]
  },
  {
   "cell_type": "markdown",
   "metadata": {},
   "source": []
  },
  {
   "cell_type": "code",
   "execution_count": 13,
   "metadata": {},
   "outputs": [],
   "source": [
    "# #### Select dataset ####\n",
    "# for dataset_name in datasets: \n",
    "#     All_Results[dataset_name] = {}\n",
    "#     All_Datapoints[dataset_name] = {}\n",
    "\n",
    "#     for model in models:\n",
    "#         All_Results[dataset_name][model] = {}\n",
    "#         All_Datapoints[dataset_name][model] = {}\n",
    "\n",
    "#         for attack in attack_list:\n",
    "\n",
    "#             All_Results[dataset_name][model][attack] = load_result_from_csv(attack, dataset_name, model)\n",
    "\n",
    "#             All_Datapoints[dataset_name][model][attack] = {\n",
    "#                 \"original\": load_datapoints_from_npy(attack, dataset_name, model, False),\n",
    "#                 \"adv\": load_datapoints_from_npy(attack, dataset_name, model, True),\n",
    "#             }\n"
   ]
  },
  {
   "cell_type": "code",
   "execution_count": 14,
   "metadata": {},
   "outputs": [],
   "source": [
    "# All_Metrics = {}\n",
    "\n",
    "# for dataset_name in datasets: \n",
    "#     All_Metrics[dataset_name] = {}\n",
    "#     for model in models: \n",
    "#         All_Metrics[dataset_name][model] = {}\n",
    "#         for attack in attack_list:\n",
    "\n",
    "#             if All_Results[dataset_name][model][attack] is not None:\n",
    "#                 if All_Results[dataset_name][model][attack][\"original\"] is not None:\n",
    "#                     if All_Results[dataset_name][model][attack][\"adv\"] is not None:\n",
    "#                         All_Metrics[dataset_name][model][attack] = metric_generator(\n",
    "#                             All_Results[dataset_name][model][attack],\n",
    "#                             All_Results[dataset_name][model][attack][\"original\"],\n",
    "#                             All_Results[dataset_name][model][attack][\"adv\"]\n",
    "#                         )\n"
   ]
  },
  {
   "cell_type": "code",
   "execution_count": null,
   "metadata": {},
   "outputs": [],
   "source": []
  }
 ],
 "metadata": {
  "kernelspec": {
   "display_name": "xai",
   "language": "python",
   "name": "python3"
  },
  "language_info": {
   "codemirror_mode": {
    "name": "ipython",
    "version": 3
   },
   "file_extension": ".py",
   "mimetype": "text/x-python",
   "name": "python",
   "nbconvert_exporter": "python",
   "pygments_lexer": "ipython3",
   "version": "3.10.4"
  },
  "orig_nbformat": 4,
  "vscode": {
   "interpreter": {
    "hash": "350746cdd709c967d80ca4cb0f1d2cbf04d079be136a05ad7342c703ce6b7c0e"
   }
  }
 },
 "nbformat": 4,
 "nbformat_minor": 2
}
